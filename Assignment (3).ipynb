{
 "cells": [
  {
   "cell_type": "code",
   "execution_count": null,
   "id": "41be7653-38e6-45f3-98f4-2a3a47fa8434",
   "metadata": {},
   "outputs": [],
   "source": [
    "# Assignment"
   ]
  },
  {
   "cell_type": "code",
   "execution_count": null,
   "id": "b92c2be7-4ca4-4c25-b317-936785b5b58d",
   "metadata": {},
   "outputs": [],
   "source": [
    "# 1. Write a program to convert specified days into years, weeks and days. Take user input. Note: Ignore leap year"
   ]
  },
  {
   "cell_type": "code",
   "execution_count": 9,
   "id": "99dccaab-017b-4ea8-b1a3-c700822ace3d",
   "metadata": {},
   "outputs": [],
   "source": [
    "  def convert_days(days):\n",
    "    years = days // 365\n",
    "    remaining_days = days % 365\n",
    "    weeks = remaining_days // 7\n",
    "    days_left = remaining_days % 7\n",
    "    return years, weeks, days_left"
   ]
  },
  {
   "cell_type": "code",
   "execution_count": 5,
   "id": "b0b88b89-facc-4da6-9e14-446a3ba07c95",
   "metadata": {},
   "outputs": [
    {
     "name": "stdin",
     "output_type": "stream",
     "text": [
      "Enter the number of days:  2\n"
     ]
    }
   ],
   "source": [
    "# Input the number of days from the user\n",
    "total_days = int(input(\"Enter the number of days: \"))"
   ]
  },
  {
   "cell_type": "code",
   "execution_count": 10,
   "id": "d64fe974-4521-4c7b-8a81-f652ba5e9704",
   "metadata": {},
   "outputs": [],
   "source": [
    "years, weeks, days = convert_days(total_days)"
   ]
  },
  {
   "cell_type": "code",
   "execution_count": 14,
   "id": "a0463e59-5243-4daf-9f9e-d468e0586982",
   "metadata": {},
   "outputs": [
    {
     "name": "stdout",
     "output_type": "stream",
     "text": [
      "{total_days} days is equal to {years} years, {weeks} weeks, and {days}\n"
     ]
    }
   ],
   "source": [
    "print(\"{total_days} days is equal to {years} years, {weeks} weeks, and {days}\")"
   ]
  },
  {
   "cell_type": "code",
   "execution_count": null,
   "id": "28b62900-56f8-4c4f-927f-283735a62f2a",
   "metadata": {},
   "outputs": [],
   "source": [
    "# 2. Write a Python program to input basiPython salary of an employee and\n",
    "calculate its Gross salary according to following:\n",
    "Basic Salary <= 10000 : HRA = 20%, DA = 80%\n",
    "\n",
    "Basic Salary <= 20000 : HRA = 30%, DA = 90%\n",
    "Basic Salary > 20000 : HRA = 35%, DA = 95"
   ]
  },
  {
   "cell_type": "code",
   "execution_count": 16,
   "id": "99b8e3de-3dd3-494d-b5d8-bcdb37c3df03",
   "metadata": {},
   "outputs": [
    {
     "name": "stdin",
     "output_type": "stream",
     "text": [
      "Enter the basic salary of the employee:  50000\n"
     ]
    },
    {
     "name": "stdout",
     "output_type": "stream",
     "text": [
      "Gross Salary: 115000.0\n"
     ]
    }
   ],
   "source": [
    " def calculate_gross_salary(basic_salary):\n",
    "    if basic_salary <= 10000:\n",
    "        hra = 0.2 * basic_salary\n",
    "        da = 0.8 * basic_salary\n",
    "    elif basic_salary <= 20000:\n",
    "        hra = 0.3 * basic_salary\n",
    "        da = 0.9 * basic_salary\n",
    "    else:\n",
    "        hra = 0.35 * basic_salary\n",
    "        da = 0.95 * basic_salary\n",
    "    \n",
    "    gross_salary = basic_salary + hra + da\n",
    "    return gross_salary\n",
    "\n",
    "basic_salary = float(input(\"Enter the basic salary of the employee: \"))\n",
    "gross_salary = calculate_gross_salary(basic_salary)\n",
    "print(\"Gross Salary:\", gross_salary)"
   ]
  },
  {
   "cell_type": "code",
   "execution_count": null,
   "id": "bc66d04f-cfdf-44ae-b438-0c8ede1ffcf8",
   "metadata": {},
   "outputs": [],
   "source": [
    "# 3. Write a Python program to input electricity unit charges and calculate total\n",
    "electricity bill according to the given condition:\n",
    "For first 50 units Rs. 0.50/unit\n",
    "For next 100 units Rs. 0.75/unit\n",
    "For next 100 units Rs. 1.25/unit\n",
    "For unit above 250 Rs. 1.50/unit\n",
    "An additional surcharge of 17% is added to the bill"
   ]
  },
  {
   "cell_type": "code",
   "execution_count": 134,
   "id": "441eadec-9380-409a-826a-176a344da3d5",
   "metadata": {},
   "outputs": [],
   "source": [
    " def calculate_electricity_bill(units):\n",
    "    if units <= 50:\n",
    "        bill = units * 0.50\n",
    "    elif units <= 150:\n",
    "        bill = (50 * 0.50) + ((units - 50) * 0.75)\n",
    "    elif units <= 250:\n",
    "        bill = (50 * 0.50) + (100 * 0.75) + ((units - 150) * 1.25)\n",
    "    else:\n",
    "        bill = (50 * 0.50) + (100 * 0.75) + (100 * 1.25) + ((units - 250) * 1.50)\n",
    "    \n",
    "    # Add the surcharge of 17%\n",
    "    surcharge = bill * 0.17\n",
    "    total_bill = bill + surcharge\n",
    "    \n",
    "    return total_bill"
   ]
  },
  {
   "cell_type": "code",
   "execution_count": 135,
   "id": "8cbed841-43f2-495a-9378-a17e9fb3092f",
   "metadata": {},
   "outputs": [
    {
     "name": "stdin",
     "output_type": "stream",
     "text": [
      "Enter the number of electricity units consumed:  5000\n"
     ]
    },
    {
     "name": "stdout",
     "output_type": "stream",
     "text": [
      "The total electricity bill is: Rs. 8599.50\n"
     ]
    }
   ],
   "source": [
    "# Input electricity units from the user\n",
    "units = float(input(\"Enter the number of electricity units consumed: \"))\n",
    "total_bill = calculate_electricity_bill(units)\n",
    "\n",
    "print(f\"The total electricity bill is: Rs. {total_bill:.2f}\")"
   ]
  },
  {
   "cell_type": "code",
   "execution_count": null,
   "id": "f785b3ec-1ccc-45e9-8d00-ac9109200b18",
   "metadata": {},
   "outputs": [],
   "source": [
    "# 4. Write a Python program to print the given number patterns.\n",
    "1\n",
    "2 2\n",
    "3 3 3\n",
    "4 4 4 4\n",
    "5 5 5 5 "
   ]
  },
  {
   "cell_type": "code",
   "execution_count": 26,
   "id": "94651713-f4d0-4c1d-af82-088fe538d515",
   "metadata": {},
   "outputs": [],
   "source": [
    "def print_number_pattern(n):\n",
    " for i in range(1, n + 1):\n",
    "  print(\" \".join([str(i)] * i))"
   ]
  },
  {
   "cell_type": "code",
   "execution_count": 27,
   "id": "37798209-22dc-4a69-89ee-ae5a9860e1c6",
   "metadata": {},
   "outputs": [
    {
     "name": "stdout",
     "output_type": "stream",
     "text": [
      "1\n",
      "2 2\n",
      "3 3 3\n",
      "4 4 4 4\n",
      "5 5 5 5 5\n"
     ]
    }
   ],
   "source": [
    "# Set the number of rows for the pattern\n",
    "number_of_rows = 5\n",
    "print_number_pattern(number_of_rows)"
   ]
  },
  {
   "cell_type": "code",
   "execution_count": null,
   "id": "85d86155-d830-483d-aa23-77c8baf0eb45",
   "metadata": {},
   "outputs": [],
   "source": [
    "# 5. Write a Python program to calculate product of digits of a number. Read\n",
    "value of n from user."
   ]
  },
  {
   "cell_type": "code",
   "execution_count": 35,
   "id": "9c7cdee1-7399-46fa-a34d-c07c0d954b6a",
   "metadata": {},
   "outputs": [],
   "source": [
    " def product_of_digits(n):\n",
    "    product = 1\n",
    "    while n > 0:\n",
    "        digit = n % 10\n",
    "        product *= digit\n",
    "        n //= 10\n",
    "    return product"
   ]
  },
  {
   "cell_type": "code",
   "execution_count": 36,
   "id": "ea4058a0-6463-419a-9268-98ce2dfddca6",
   "metadata": {},
   "outputs": [
    {
     "name": "stdin",
     "output_type": "stream",
     "text": [
      "Enter a number:  50\n"
     ]
    }
   ],
   "source": [
    "# Input a number from the user\n",
    "number = int(input(\"Enter a number: \"))\n",
    "result = product_of_digits(number)"
   ]
  },
  {
   "cell_type": "code",
   "execution_count": 37,
   "id": "7dd6efc0-8d3e-40f4-be97-bcae4c673b70",
   "metadata": {},
   "outputs": [
    {
     "name": "stdout",
     "output_type": "stream",
     "text": [
      "The product of the digits of {number} is: {result}\n"
     ]
    }
   ],
   "source": [
    "print(\"The product of the digits of {number} is: {result}\")"
   ]
  },
  {
   "cell_type": "code",
   "execution_count": null,
   "id": "1b87fd6d-b78e-4098-ab6d-7305fe36b312",
   "metadata": {},
   "outputs": [],
   "source": [
    "# 6. Create a list of elements like: x = [45, 67, 12, ‘Hello’, 23.45, ‘World’] and perform following operations"
   ]
  },
  {
   "cell_type": "code",
   "execution_count": 41,
   "id": "dbfe63b7-cced-410b-955b-ededb343b523",
   "metadata": {},
   "outputs": [],
   "source": [
    " # Initial list\n",
    "x = [45, 67, 12, 'Hello', 23.45, 'world']"
   ]
  },
  {
   "cell_type": "code",
   "execution_count": 42,
   "id": "ea6893a2-1312-44c2-8a6f-85c623ce158a",
   "metadata": {},
   "outputs": [
    {
     "name": "stdout",
     "output_type": "stream",
     "text": [
      "String values: ['Hello', 'world']\n"
     ]
    }
   ],
   "source": [
    "# 1. Extract only string values from this list. \n",
    "string_values = [element for element in x if isinstance(element, str)]\n",
    "print(\"String values:\", string_values)"
   ]
  },
  {
   "cell_type": "code",
   "execution_count": 43,
   "id": "8b28e3dc-d9a7-421c-a799-8ca6ebe2ab2f",
   "metadata": {},
   "outputs": [
    {
     "name": "stdout",
     "output_type": "stream",
     "text": [
      "Uppercase strings: ['HELLO', 'WORLD']\n"
     ]
    }
   ],
   "source": [
    "# 2. Create a new list with strings in upper case.\n",
    "uppercase_strings = [element.upper() for element in string_values]\n",
    "print(\"Uppercase strings:\", uppercase_strings)"
   ]
  },
  {
   "cell_type": "code",
   "execution_count": 44,
   "id": "c42c6df7-3e40-44f8-b703-d81ed64cfd69",
   "metadata": {},
   "outputs": [
    {
     "name": "stdout",
     "output_type": "stream",
     "text": [
      "Sum of integer values: 124\n"
     ]
    }
   ],
   "source": [
    "# 3. Find the addition of integer values.\n",
    "integer_values = [element for element in x if isinstance(element, int)]\n",
    "sum_of_integers = sum(integer_values)\n",
    "print(\"Sum of integer values:\", sum_of_integers)"
   ]
  },
  {
   "cell_type": "code",
   "execution_count": 45,
   "id": "e422ba64-3aa6-45e9-9e67-be68e0e92ca4",
   "metadata": {},
   "outputs": [
    {
     "name": "stdout",
     "output_type": "stream",
     "text": [
      "Is 56 present in the list? False\n"
     ]
    }
   ],
   "source": [
    "# 4. Check that the value 56 is present in it or not.\n",
    "is_56_present = 56 in x\n",
    "print(\"Is 56 present in the list?\", is_56_present)"
   ]
  },
  {
   "cell_type": "code",
   "execution_count": 46,
   "id": "c5080c51-db35-4bd4-bd3e-0228fba1de78",
   "metadata": {},
   "outputs": [
    {
     "name": "stdout",
     "output_type": "stream",
     "text": [
      "Reversed list: ['world', 23.45, 'Hello', 12, 67, 45]\n"
     ]
    }
   ],
   "source": [
    "# 5. Print the list in reverse order. \n",
    "reversed_list = x[::-1]\n",
    "print(\"Reversed list:\", reversed_list)"
   ]
  },
  {
   "cell_type": "code",
   "execution_count": 49,
   "id": "314fc435-e4dc-4e7b-9291-f1b94d133924",
   "metadata": {},
   "outputs": [
    {
     "name": "stdout",
     "output_type": "stream",
     "text": [
      "List after removing 'Hello': [45, 67, 12, 23.45, 'world']\n"
     ]
    }
   ],
   "source": [
    "# 6. Delete the string ‘Hello’ from it.\n",
    "if 'Hello' in x:\n",
    "    x.remove('Hello')\n",
    "print(\"List after removing 'Hello':\", x)"
   ]
  },
  {
   "cell_type": "code",
   "execution_count": 50,
   "id": "467f5c6d-2fe9-4370-8f4e-d0914f989af2",
   "metadata": {},
   "outputs": [
    {
     "name": "stdout",
     "output_type": "stream",
     "text": [
      "List after inserting 36 at 5th position: [45, 67, 12, 23.45, 36, 'world']\n"
     ]
    }
   ],
   "source": [
    "# 7. Insert a new value of 36 at 5th position in list.\n",
    "x.insert(4, 36)\n",
    "print(\"List after inserting 36 at 5th position:\", x)"
   ]
  },
  {
   "cell_type": "code",
   "execution_count": 51,
   "id": "78710f67-b74d-4c45-bfc3-d3c87863c102",
   "metadata": {},
   "outputs": [
    {
     "name": "stdout",
     "output_type": "stream",
     "text": [
      "Total number of elements in list now: 6\n"
     ]
    }
   ],
   "source": [
    "# 8. Count total number of elements in list now.\n",
    "count_elements = len(x)\n",
    "print(\"Total number of elements in list now:\", count_elements)"
   ]
  },
  {
   "cell_type": "code",
   "execution_count": 52,
   "id": "e2607fb1-8e7d-4585-b85f-e7ee94554798",
   "metadata": {},
   "outputs": [
    {
     "name": "stdout",
     "output_type": "stream",
     "text": [
      "Values from 2nd to 5th index: [12, 23.45, 36, 'world']\n"
     ]
    }
   ],
   "source": [
    "# 9. Extract the values from 2nd index to 5th index. \n",
    "extracted_values = x[2:6]\n",
    "print(\"Values from 2nd to 5th index:\", extracted_values)"
   ]
  },
  {
   "cell_type": "code",
   "execution_count": 53,
   "id": "43b42996-b1f7-429f-8236-fe013013f1fd",
   "metadata": {},
   "outputs": [
    {
     "name": "stdout",
     "output_type": "stream",
     "text": [
      "List after appending [34, 'Pune']: [45, 67, 12, 23.45, 36, 'world', 34, 'Pune']\n"
     ]
    }
   ],
   "source": [
    "# 10. Append [34, ‘Pune’] to this list.\n",
    "x.extend([34, 'Pune'])\n",
    "print(\"List after appending [34, 'Pune']:\", x)"
   ]
  },
  {
   "cell_type": "code",
   "execution_count": 54,
   "id": "b292fe6e-c96f-49e7-8cc4-fcd905396293",
   "metadata": {},
   "outputs": [
    {
     "name": "stdout",
     "output_type": "stream",
     "text": [
      "List after deleting the last element: [45, 67, 12, 23.45, 36, 'world', 34]\n"
     ]
    }
   ],
   "source": [
    "# 11. Delete the last element from list.\n",
    "x.pop()\n",
    "print(\"List after deleting the last element:\", x)"
   ]
  },
  {
   "cell_type": "code",
   "execution_count": null,
   "id": "7c69a7cb-d0d1-406d-8905-6d0909141a09",
   "metadata": {},
   "outputs": [],
   "source": [
    "# 7. Create a tuple of elements with 5 float values in it and perform following\n",
    "operations.\n",
    "1. Print the data in sorted manner.\n",
    "2. Check to see that the element 50 is present in it.\n",
    "3. Convert this tuple in s"
   ]
  },
  {
   "cell_type": "code",
   "execution_count": 55,
   "id": "811c1bc2-7879-49b8-b6ac-4f495a54ac5a",
   "metadata": {},
   "outputs": [],
   "source": [
    "# Create a tuple with 5 float values\n",
    "float_tuple = (12.5, 45.7, 8.3, 26.4, 17.9)"
   ]
  },
  {
   "cell_type": "code",
   "execution_count": 56,
   "id": "5626174f-d972-49fb-9a37-9fbdff7f9802",
   "metadata": {},
   "outputs": [
    {
     "name": "stdout",
     "output_type": "stream",
     "text": [
      "Sorted tuple: (8.3, 12.5, 17.9, 26.4, 45.7)\n"
     ]
    }
   ],
   "source": [
    "# 1. Print the data in sorted manner.\n",
    "sorted_tuple = tuple(sorted(float_tuple))\n",
    "print(\"Sorted tuple:\", sorted_tuple)"
   ]
  },
  {
   "cell_type": "code",
   "execution_count": 58,
   "id": "bb1371ee-0bb3-4aa9-b73d-e7acd8c5032f",
   "metadata": {},
   "outputs": [
    {
     "name": "stdout",
     "output_type": "stream",
     "text": [
      "Is 50 present in the tuple? False\n"
     ]
    }
   ],
   "source": [
    "# 2. Check to see that the element 50 is present in it.\n",
    "is_50_present = 50 in float_tuple\n",
    "print(\"Is 50 present in the tuple?\", is_50_present)"
   ]
  },
  {
   "cell_type": "code",
   "execution_count": 59,
   "id": "26228962-2ce5-49ac-ad78-f6b744b6c91a",
   "metadata": {},
   "outputs": [
    {
     "name": "stdout",
     "output_type": "stream",
     "text": [
      "Tuple converted to set: {8.3, 12.5, 45.7, 17.9, 26.4}\n"
     ]
    }
   ],
   "source": [
    "# 3. Convert this tuple into a set. \n",
    "float_set = set(float_tuple)\n",
    "print(\"Tuple converted to set:\", float_set)"
   ]
  },
  {
   "cell_type": "code",
   "execution_count": null,
   "id": "31cc34d7-2ddb-4ecf-bb30-688d90ce25a6",
   "metadata": {},
   "outputs": [],
   "source": [
    "# 8. Create a dictionary of elements: {‘a’: ‘apple’, ‘b’: ‘ball’, ‘c’: ‘cat’, ‘d’: ‘doll’, ‘k’:\n",
    "‘king’} and perform following operations.\n",
    "1. Access the data at key ‘k’.\n",
    "2. Add a new values ‘z’: ‘zebra’ \n",
    "3. Replace the contents of ‘d’ as ‘dog’\n",
    "4. Print all the values from this dictionary.\n",
    "5. Find the length of this dictio"
   ]
  },
  {
   "cell_type": "code",
   "execution_count": 63,
   "id": "218f266c-43f3-4c9c-be05-fb291e1663f1",
   "metadata": {},
   "outputs": [],
   "source": [
    " # Create the dictionary\n",
    "dictionary = {'a': 'apple', 'b': 'ball', 'c': 'cat', 'd': 'doll', 'k': 'king'}"
   ]
  },
  {
   "cell_type": "code",
   "execution_count": 65,
   "id": "dd4b2186-21a6-4400-9e81-78bd5c9990c4",
   "metadata": {},
   "outputs": [
    {
     "name": "stdout",
     "output_type": "stream",
     "text": [
      "Value at key 'k': king\n"
     ]
    }
   ],
   "source": [
    "# 1. Access the data at key ‘k’.\n",
    "value_at_k = dictionary['k']\n",
    "print(\"Value at key 'k':\", value_at_k)"
   ]
  },
  {
   "cell_type": "code",
   "execution_count": 66,
   "id": "2842c15f-3ae5-4739-8e68-43d7df147b17",
   "metadata": {},
   "outputs": [
    {
     "name": "stdout",
     "output_type": "stream",
     "text": [
      "Dictionary after adding 'z': 'zebra': {'a': 'apple', 'b': 'ball', 'c': 'cat', 'd': 'doll', 'k': 'king', 'z': 'zebra'}\n"
     ]
    }
   ],
   "source": [
    "# 2. Add a new value ‘z’: ‘zebra’\n",
    "dictionary['z'] = 'zebra' \n",
    "print(\"Dictionary after adding 'z': 'zebra':\", dictionary)"
   ]
  },
  {
   "cell_type": "code",
   "execution_count": 67,
   "id": "5e02bb4c-5806-4fd8-8dfe-231a74d008ee",
   "metadata": {},
   "outputs": [
    {
     "name": "stdout",
     "output_type": "stream",
     "text": [
      "Dictionary after replacing 'd' with 'dog': {'a': 'apple', 'b': 'ball', 'c': 'cat', 'd': 'dog', 'k': 'king', 'z': 'zebra'}\n"
     ]
    }
   ],
   "source": [
    "# 3. Replace the contents of ‘d’ with ‘dog’\n",
    "dictionary['d'] = 'dog'\n",
    "print(\"Dictionary after replacing 'd' with 'dog':\", dictionary)"
   ]
  },
  {
   "cell_type": "code",
   "execution_count": 68,
   "id": "fb2f83b7-1f6e-48a5-a99a-93fbb9852d36",
   "metadata": {},
   "outputs": [
    {
     "name": "stdout",
     "output_type": "stream",
     "text": [
      "All values in the dictionary: ['apple', 'ball', 'cat', 'dog', 'king', 'zebra']\n"
     ]
    }
   ],
   "source": [
    "# 4. Print all the values from this dictionary. \n",
    "all_values = dictionary.values()\n",
    "print(\"All values in the dictionary:\", list(all_values))"
   ]
  },
  {
   "cell_type": "code",
   "execution_count": 69,
   "id": "18b9c9bd-ee69-45cd-bd8b-6869b2e37f82",
   "metadata": {},
   "outputs": [
    {
     "name": "stdout",
     "output_type": "stream",
     "text": [
      "Length of the dictionary: 6\n"
     ]
    }
   ],
   "source": [
    "# 5. Find the length of this dictionary.\n",
    "length_of_dictionary = len(dictionary)\n",
    "print(\"Length of the dictionary:\", length_of_dictionary)"
   ]
  },
  {
   "cell_type": "code",
   "execution_count": null,
   "id": "3d315be3-0c85-4c46-9ab9-eb75cc28b6d0",
   "metadata": {},
   "outputs": [],
   "source": [
    "# 9. Write a program to find the second largest element in a list"
   ]
  },
  {
   "cell_type": "code",
   "execution_count": 132,
   "id": "03a5a366-1f15-4ee4-989e-69a82693f21c",
   "metadata": {},
   "outputs": [],
   "source": [
    " def find_second_largest(lst):\n",
    "    if len(lst) < 2:\n",
    "        return None\n",
    "    \n",
    "    # Remove duplicates by converting to a set, then back to a list\n",
    "    unique_lst = list(set(lst))\n",
    "    \n",
    "    if len(unique_lst) < 2:\n",
    "        return None\n",
    "    \n",
    "    unique_lst.sort()\n",
    "    return unique_lst[-2]"
   ]
  },
  {
   "cell_type": "code",
   "execution_count": 133,
   "id": "3ff41547-4d0d-473b-b575-f3635ebaa949",
   "metadata": {},
   "outputs": [
    {
     "name": "stdout",
     "output_type": "stream",
     "text": [
      "The second largest element is: 89\n"
     ]
    }
   ],
   "source": [
    "# Example list\n",
    "example_list = [45, 67, 12, 67, 23, 45, 89, 90, 23]\n",
    "\n",
    "second_largest = find_second_largest(example_list)\n",
    "if second_largest is not None:\n",
    "    print(f\"The second largest element is: {second_largest}\")\n",
    "else:\n",
    "    print(\"The list does not have a second largest element.\")"
   ]
  },
  {
   "cell_type": "code",
   "execution_count": null,
   "id": "833ce0ef-4eed-4b4b-9694-e1c49188b697",
   "metadata": {},
   "outputs": [],
   "source": [
    "# 10.This is a list of some metallic elements. metals = [ 'silver','gold', ... ]\n",
    "Make a new list that is almost identical to the metals list: the new contains the same\n",
    "items,in the same order, except that it does NOT Write a program to find the second\n",
    "largest element in a list.contain the item 'copper'"
   ]
  },
  {
   "cell_type": "code",
   "execution_count": 83,
   "id": "69474679-93e3-41e3-be51-cae1d85ac479",
   "metadata": {},
   "outputs": [],
   "source": [
    " # Initial list of metals\n",
    "metals = ['silver', 'gold', 'iron', 'copper', 'platinum']"
   ]
  },
  {
   "cell_type": "code",
   "execution_count": 84,
   "id": "a78c0bf3-51f8-4523-8493-2c32d3600f31",
   "metadata": {},
   "outputs": [],
   "source": [
    "# Create a new list excluding 'copper' \n",
    "new_metals = [metal for metal in metals if metal != 'copper']"
   ]
  },
  {
   "cell_type": "code",
   "execution_count": 85,
   "id": "cc90e2b6-e825-427f-8e7c-80e24cfff6ff",
   "metadata": {},
   "outputs": [
    {
     "name": "stdout",
     "output_type": "stream",
     "text": [
      "Original metals list: ['silver', 'gold', 'iron', 'copper', 'platinum']\n",
      "New metals list without 'copper': ['silver', 'gold', 'iron', 'platinum']\n"
     ]
    }
   ],
   "source": [
    "print(\"Original metals list:\", metals)\n",
    "print(\"New metals list without 'copper':\", new_metals)"
   ]
  },
  {
   "cell_type": "code",
   "execution_count": null,
   "id": "a8555e82-f34d-4d7e-9606-c22729eb0013",
   "metadata": {},
   "outputs": [],
   "source": []
  }
 ],
 "metadata": {
  "kernelspec": {
   "display_name": "Python 3 (ipykernel)",
   "language": "python",
   "name": "python3"
  },
  "language_info": {
   "codemirror_mode": {
    "name": "ipython",
    "version": 3
   },
   "file_extension": ".py",
   "mimetype": "text/x-python",
   "name": "python",
   "nbconvert_exporter": "python",
   "pygments_lexer": "ipython3",
   "version": "3.11.7"
  }
 },
 "nbformat": 4,
 "nbformat_minor": 5
}
