{
 "cells": [
  {
   "cell_type": "code",
   "execution_count": 1,
   "id": "ec6d84fc-1205-491c-8508-21fa8264fc28",
   "metadata": {},
   "outputs": [],
   "source": [
    "l = [12, 23, 34, 45, 17]"
   ]
  },
  {
   "cell_type": "code",
   "execution_count": 2,
   "id": "30e0bc44-a984-4187-ba38-c90e24eac48a",
   "metadata": {},
   "outputs": [
    {
     "name": "stdout",
     "output_type": "stream",
     "text": [
      "[12, 23, 34, 45, 17]\n"
     ]
    }
   ],
   "source": [
    "print(l)"
   ]
  },
  {
   "cell_type": "code",
   "execution_count": 3,
   "id": "f9957913-4f46-4f8e-bf61-45b2d0129d3c",
   "metadata": {},
   "outputs": [
    {
     "data": {
      "text/plain": [
       "list"
      ]
     },
     "execution_count": 3,
     "metadata": {},
     "output_type": "execute_result"
    }
   ],
   "source": [
    "type(l)"
   ]
  },
  {
   "cell_type": "code",
   "execution_count": 4,
   "id": "05a96757-7c04-435a-8185-3099d0180458",
   "metadata": {},
   "outputs": [],
   "source": [
    "l = [12, 23, 34, 45, 17, 12]"
   ]
  },
  {
   "cell_type": "code",
   "execution_count": 5,
   "id": "531e14e4-b85c-432f-97ce-f56b8f9de0d6",
   "metadata": {},
   "outputs": [
    {
     "name": "stdout",
     "output_type": "stream",
     "text": [
      "[12, 23, 34, 45, 17, 12]\n"
     ]
    }
   ],
   "source": [
    "print(l)"
   ]
  },
  {
   "cell_type": "code",
   "execution_count": 6,
   "id": "620d2859-c8d5-48b9-8de4-98667b63d6f8",
   "metadata": {},
   "outputs": [],
   "source": [
    "l = [12, 23, 34, 45, 17, 12, 'Nandu', True]"
   ]
  },
  {
   "cell_type": "code",
   "execution_count": 7,
   "id": "249d66a0-745c-4f33-9b7d-91562a975d79",
   "metadata": {},
   "outputs": [
    {
     "name": "stdout",
     "output_type": "stream",
     "text": [
      "[12, 23, 34, 45, 17, 12, 'Nandu', True]\n"
     ]
    }
   ],
   "source": [
    "print(l)"
   ]
  },
  {
   "cell_type": "code",
   "execution_count": 8,
   "id": "69f525a5-b6cb-46b2-9955-814704f9e5a7",
   "metadata": {},
   "outputs": [
    {
     "data": {
      "text/plain": [
       "12"
      ]
     },
     "execution_count": 8,
     "metadata": {},
     "output_type": "execute_result"
    }
   ],
   "source": [
    "# access the data\n",
    "# lists are ordered \n",
    "l[0]"
   ]
  },
  {
   "cell_type": "code",
   "execution_count": 9,
   "id": "e1231ad2-4fa7-4a5b-856a-ed54158ed83b",
   "metadata": {},
   "outputs": [
    {
     "data": {
      "text/plain": [
       "12"
      ]
     },
     "execution_count": 9,
     "metadata": {},
     "output_type": "execute_result"
    }
   ],
   "source": [
    "l[5]"
   ]
  },
  {
   "cell_type": "code",
   "execution_count": 10,
   "id": "54087637-aaec-4ae4-8df1-75d3d70010a1",
   "metadata": {},
   "outputs": [
    {
     "data": {
      "text/plain": [
       "True"
      ]
     },
     "execution_count": 10,
     "metadata": {},
     "output_type": "execute_result"
    }
   ],
   "source": [
    "l[-1]"
   ]
  },
  {
   "cell_type": "code",
   "execution_count": 11,
   "id": "0bb7b1db-c17b-4bc6-9c99-e40bb0038cc2",
   "metadata": {},
   "outputs": [],
   "source": [
    "l[-1] = 57   # changing the value => mutable"
   ]
  },
  {
   "cell_type": "code",
   "execution_count": 12,
   "id": "569b89b5-307d-401d-9cd5-463bf957c087",
   "metadata": {},
   "outputs": [
    {
     "data": {
      "text/plain": [
       "[12, 23, 34, 45, 17, 12, 'Nandu', 57]"
      ]
     },
     "execution_count": 12,
     "metadata": {},
     "output_type": "execute_result"
    }
   ],
   "source": [
    "l"
   ]
  },
  {
   "cell_type": "code",
   "execution_count": 13,
   "id": "4e6b6174-120b-4208-8e58-247606551acc",
   "metadata": {},
   "outputs": [
    {
     "data": {
      "text/plain": [
       "[12, 23, 34, 45, 17, 12, 10, 57]"
      ]
     },
     "execution_count": 13,
     "metadata": {},
     "output_type": "execute_result"
    }
   ],
   "source": [
    "l[-2] = 10\n",
    "l"
   ]
  },
  {
   "cell_type": "code",
   "execution_count": null,
   "id": "c1a2096f-a994-4519-8964-ee7c37cf5740",
   "metadata": {},
   "outputs": [],
   "source": [
    "# list slicing"
   ]
  },
  {
   "cell_type": "code",
   "execution_count": 14,
   "id": "661e2c0c-e736-41ba-ad8f-ae19b0025759",
   "metadata": {},
   "outputs": [
    {
     "data": {
      "text/plain": [
       "[12, 23, 34, 45, 17, 12, 10, 57]"
      ]
     },
     "execution_count": 14,
     "metadata": {},
     "output_type": "execute_result"
    }
   ],
   "source": [
    "l"
   ]
  },
  {
   "cell_type": "code",
   "execution_count": 15,
   "id": "5fff7729-194e-49fb-bbdb-b78c62aac9ae",
   "metadata": {},
   "outputs": [
    {
     "data": {
      "text/plain": [
       "[34, 45, 17, 12]"
      ]
     },
     "execution_count": 15,
     "metadata": {},
     "output_type": "execute_result"
    }
   ],
   "source": [
    "l[2:6]"
   ]
  },
  {
   "cell_type": "code",
   "execution_count": 16,
   "id": "2e66b453-0b2c-434b-bd56-c97bf6fbd6f8",
   "metadata": {},
   "outputs": [
    {
     "data": {
      "text/plain": [
       "[34, 45, 17, 12]"
      ]
     },
     "execution_count": 16,
     "metadata": {},
     "output_type": "execute_result"
    }
   ],
   "source": [
    "x = l[2:6]\n",
    "x"
   ]
  },
  {
   "cell_type": "code",
   "execution_count": 17,
   "id": "8c1ff53c-5870-4482-bcbe-82f3e1f6aa77",
   "metadata": {},
   "outputs": [
    {
     "data": {
      "text/plain": [
       "[34, 45, 17, 12, 10, 57]"
      ]
     },
     "execution_count": 17,
     "metadata": {},
     "output_type": "execute_result"
    }
   ],
   "source": [
    "l[2:]"
   ]
  },
  {
   "cell_type": "code",
   "execution_count": 18,
   "id": "8631c529-0312-49cb-95e3-cfc5eb7f2fee",
   "metadata": {},
   "outputs": [
    {
     "data": {
      "text/plain": [
       "[12, 23, 34, 45, 17, 12]"
      ]
     },
     "execution_count": 18,
     "metadata": {},
     "output_type": "execute_result"
    }
   ],
   "source": [
    "l[:-2]"
   ]
  },
  {
   "cell_type": "code",
   "execution_count": 19,
   "id": "cb2983dd-bb1f-4309-ad7d-62b9b571b306",
   "metadata": {},
   "outputs": [
    {
     "data": {
      "text/plain": [
       "[23, 45]"
      ]
     },
     "execution_count": 19,
     "metadata": {},
     "output_type": "execute_result"
    }
   ],
   "source": [
    "l[1:-3:2]"
   ]
  },
  {
   "cell_type": "code",
   "execution_count": 20,
   "id": "ab0c513e-8e35-4ae6-9958-ed27d246f20a",
   "metadata": {},
   "outputs": [
    {
     "data": {
      "text/plain": [
       "[12, 34, 17, 10]"
      ]
     },
     "execution_count": 20,
     "metadata": {},
     "output_type": "execute_result"
    }
   ],
   "source": [
    "l[::2]"
   ]
  },
  {
   "cell_type": "code",
   "execution_count": 21,
   "id": "80bcd25f-5f75-4671-9ba1-69ec47d7f861",
   "metadata": {},
   "outputs": [
    {
     "data": {
      "text/plain": [
       "[12, 23, 34, 45, 17, 12, 10, 57]"
      ]
     },
     "execution_count": 21,
     "metadata": {},
     "output_type": "execute_result"
    }
   ],
   "source": [
    "l"
   ]
  },
  {
   "cell_type": "code",
   "execution_count": 22,
   "id": "b29875f6-4413-41ca-ae2e-6fb8c73541b7",
   "metadata": {},
   "outputs": [],
   "source": [
    "l[1:4] = [45, 67, 82]"
   ]
  },
  {
   "cell_type": "code",
   "execution_count": 23,
   "id": "af740acf-8c5f-4335-be30-49cae3c35546",
   "metadata": {},
   "outputs": [
    {
     "data": {
      "text/plain": [
       "[12, 45, 67, 82, 17, 12, 10, 57]"
      ]
     },
     "execution_count": 23,
     "metadata": {},
     "output_type": "execute_result"
    }
   ],
   "source": [
    "l"
   ]
  },
  {
   "cell_type": "code",
   "execution_count": 24,
   "id": "43bc71db-4696-42c0-82c7-5e0251c29588",
   "metadata": {},
   "outputs": [],
   "source": [
    "# delete the data"
   ]
  },
  {
   "cell_type": "code",
   "execution_count": 25,
   "id": "bba779b6-3620-4dd5-b950-542e195abf64",
   "metadata": {},
   "outputs": [],
   "source": [
    "del l[1]"
   ]
  },
  {
   "cell_type": "code",
   "execution_count": 26,
   "id": "f15207db-9b8e-40da-a28e-64d9cc60a378",
   "metadata": {},
   "outputs": [
    {
     "data": {
      "text/plain": [
       "[12, 67, 82, 17, 12, 10, 57]"
      ]
     },
     "execution_count": 26,
     "metadata": {},
     "output_type": "execute_result"
    }
   ],
   "source": [
    "l"
   ]
  },
  {
   "cell_type": "code",
   "execution_count": 27,
   "id": "12696492-2006-4f45-a2ab-f21200a458d7",
   "metadata": {},
   "outputs": [],
   "source": [
    "new = [34, 32, 56]"
   ]
  },
  {
   "cell_type": "code",
   "execution_count": 28,
   "id": "bd23ceb4-37d6-4aec-8f43-1689800655d8",
   "metadata": {},
   "outputs": [],
   "source": [
    "del new"
   ]
  },
  {
   "cell_type": "code",
   "execution_count": 29,
   "id": "3cd430d2-dd09-4240-a4c7-f38747b6c982",
   "metadata": {},
   "outputs": [
    {
     "ename": "NameError",
     "evalue": "name 'new' is not defined",
     "output_type": "error",
     "traceback": [
      "\u001b[1;31m---------------------------------------------------------------------------\u001b[0m",
      "\u001b[1;31mNameError\u001b[0m                                 Traceback (most recent call last)",
      "Cell \u001b[1;32mIn[29], line 1\u001b[0m\n\u001b[1;32m----> 1\u001b[0m new\n",
      "\u001b[1;31mNameError\u001b[0m: name 'new' is not defined"
     ]
    }
   ],
   "source": [
    "new"
   ]
  },
  {
   "cell_type": "code",
   "execution_count": 30,
   "id": "2f16decc-db78-4370-9ac3-561fc44742c7",
   "metadata": {},
   "outputs": [],
   "source": [
    "# in operator"
   ]
  },
  {
   "cell_type": "code",
   "execution_count": 31,
   "id": "57811bda-9104-4719-820d-7d98bc6c5afe",
   "metadata": {},
   "outputs": [
    {
     "data": {
      "text/plain": [
       "[12, 67, 82, 17, 12, 10, 57]"
      ]
     },
     "execution_count": 31,
     "metadata": {},
     "output_type": "execute_result"
    }
   ],
   "source": [
    "l"
   ]
  },
  {
   "cell_type": "code",
   "execution_count": 32,
   "id": "b6d6e126-fc18-4bf4-b5bc-49095e96bf65",
   "metadata": {},
   "outputs": [
    {
     "data": {
      "text/plain": [
       "True"
      ]
     },
     "execution_count": 32,
     "metadata": {},
     "output_type": "execute_result"
    }
   ],
   "source": [
    "82 in l"
   ]
  },
  {
   "cell_type": "code",
   "execution_count": 33,
   "id": "bf2c2d2c-cdc4-4ac8-94f6-379988f9ee4e",
   "metadata": {},
   "outputs": [
    {
     "data": {
      "text/plain": [
       "False"
      ]
     },
     "execution_count": 33,
     "metadata": {},
     "output_type": "execute_result"
    }
   ],
   "source": [
    "100 in l"
   ]
  },
  {
   "cell_type": "code",
   "execution_count": 34,
   "id": "62f4f888-72fd-4549-bfd1-46fd27adb89d",
   "metadata": {},
   "outputs": [],
   "source": [
    "# Arithmetic operator"
   ]
  },
  {
   "cell_type": "code",
   "execution_count": 35,
   "id": "f00c4ed3-25c4-4608-9a93-61e3c16f6139",
   "metadata": {},
   "outputs": [
    {
     "data": {
      "text/plain": [
       "[12, 67, 82, 17, 12, 10, 57]"
      ]
     },
     "execution_count": 35,
     "metadata": {},
     "output_type": "execute_result"
    }
   ],
   "source": [
    "l"
   ]
  },
  {
   "cell_type": "code",
   "execution_count": 36,
   "id": "89a808f9-444e-49fd-a575-3b1a8dc3d57a",
   "metadata": {},
   "outputs": [
    {
     "data": {
      "text/plain": [
       "[12, 67, 82, 17, 12, 10, 57, 12, 67, 82, 17, 12, 10, 57]"
      ]
     },
     "execution_count": 36,
     "metadata": {},
     "output_type": "execute_result"
    }
   ],
   "source": [
    "l * 2"
   ]
  },
  {
   "cell_type": "code",
   "execution_count": 37,
   "id": "57afabd8-50e4-4567-9bd1-617cbb814674",
   "metadata": {},
   "outputs": [
    {
     "data": {
      "text/plain": [
       "[12, 67, 82, 17, 12, 10, 57, 12, 56]"
      ]
     },
     "execution_count": 37,
     "metadata": {},
     "output_type": "execute_result"
    }
   ],
   "source": [
    "l + [12, 56]"
   ]
  },
  {
   "cell_type": "code",
   "execution_count": 38,
   "id": "0ec6f90a-5e98-4344-acdd-7a2db859fdfd",
   "metadata": {},
   "outputs": [
    {
     "data": {
      "text/plain": [
       "[12, 67, 82, 17, 12, 10, 57]"
      ]
     },
     "execution_count": 38,
     "metadata": {},
     "output_type": "execute_result"
    }
   ],
   "source": [
    "l"
   ]
  },
  {
   "cell_type": "code",
   "execution_count": 39,
   "id": "fa84fc47-6722-48c2-99f0-f9caba2f0ab8",
   "metadata": {},
   "outputs": [],
   "source": [
    "l1 = [56, True, 44.33]"
   ]
  },
  {
   "cell_type": "code",
   "execution_count": 40,
   "id": "9a936d51-2b88-4fcd-b3ff-7f0b90f05624",
   "metadata": {},
   "outputs": [],
   "source": [
    "# Iterating over the list"
   ]
  },
  {
   "cell_type": "code",
   "execution_count": 41,
   "id": "cc57036f-6fbc-4213-b6c2-ac6fcbddcb76",
   "metadata": {},
   "outputs": [
    {
     "data": {
      "text/plain": [
       "[12, 67, 82, 17, 12, 10, 57]"
      ]
     },
     "execution_count": 41,
     "metadata": {},
     "output_type": "execute_result"
    }
   ],
   "source": [
    "l"
   ]
  },
  {
   "cell_type": "code",
   "execution_count": 42,
   "id": "9f59ac2f-7dd2-4933-9c1f-8eb84c3fc285",
   "metadata": {},
   "outputs": [
    {
     "name": "stdout",
     "output_type": "stream",
     "text": [
      "144 4489 6724 289 144 100 3249 "
     ]
    }
   ],
   "source": [
    "for n in l:\n",
    "    print(n * n, end = ' ')"
   ]
  },
  {
   "cell_type": "code",
   "execution_count": 43,
   "id": "f3ae6e6c-8565-40ec-8c19-4ab917319482",
   "metadata": {},
   "outputs": [
    {
     "name": "stdout",
     "output_type": "stream",
     "text": [
      "67 17 57 "
     ]
    }
   ],
   "source": [
    "# write a programm to print odd numbers from this list\n",
    "\n",
    "for n in l:\n",
    "    if n % 2 != 0:\n",
    "        print(n, end = ' ')"
   ]
  },
  {
   "cell_type": "code",
   "execution_count": 44,
   "id": "ab5f157e-7627-4964-b259-c6a1a5ed59f2",
   "metadata": {},
   "outputs": [],
   "source": [
    "# List comprehension"
   ]
  },
  {
   "cell_type": "code",
   "execution_count": 45,
   "id": "3ea3c3a9-61b6-4179-a8ad-014e503faafb",
   "metadata": {},
   "outputs": [
    {
     "data": {
      "text/plain": [
       "[12, 67, 82, 17, 12, 10, 57]"
      ]
     },
     "execution_count": 45,
     "metadata": {},
     "output_type": "execute_result"
    }
   ],
   "source": [
    "l"
   ]
  },
  {
   "cell_type": "code",
   "execution_count": 46,
   "id": "cc43a651-7889-4356-a276-6ed9504463bb",
   "metadata": {},
   "outputs": [],
   "source": [
    "# map"
   ]
  },
  {
   "cell_type": "code",
   "execution_count": 47,
   "id": "87460500-b3aa-4d5a-8095-f7215e2abb48",
   "metadata": {},
   "outputs": [],
   "source": [
    "a = [n/2 for n in l]"
   ]
  },
  {
   "cell_type": "code",
   "execution_count": 48,
   "id": "00cdab19-cacd-4302-a9fb-d2a1e14156d5",
   "metadata": {},
   "outputs": [
    {
     "data": {
      "text/plain": [
       "[6.0, 33.5, 41.0, 8.5, 6.0, 5.0, 28.5]"
      ]
     },
     "execution_count": 48,
     "metadata": {},
     "output_type": "execute_result"
    }
   ],
   "source": [
    "a"
   ]
  },
  {
   "cell_type": "code",
   "execution_count": 49,
   "id": "d019a7d2-0d9b-4d49-874d-a36190c00064",
   "metadata": {},
   "outputs": [
    {
     "data": {
      "text/plain": [
       "list"
      ]
     },
     "execution_count": 49,
     "metadata": {},
     "output_type": "execute_result"
    }
   ],
   "source": [
    "type(a)"
   ]
  },
  {
   "cell_type": "code",
   "execution_count": 50,
   "id": "89bbb2de-f1a1-4cba-be42-16552c705cc5",
   "metadata": {},
   "outputs": [
    {
     "data": {
      "text/plain": [
       "[144, 4489, 6724, 289, 144, 100, 3249]"
      ]
     },
     "execution_count": 50,
     "metadata": {},
     "output_type": "execute_result"
    }
   ],
   "source": [
    "[n*n for n in l]"
   ]
  },
  {
   "cell_type": "code",
   "execution_count": 51,
   "id": "6b80cd6e-e04d-4f9a-b22f-b8495f052788",
   "metadata": {},
   "outputs": [],
   "source": [
    "# filter"
   ]
  },
  {
   "cell_type": "code",
   "execution_count": 52,
   "id": "e7fea30b-f4d4-4c3a-8c60-a26784e2b9bf",
   "metadata": {},
   "outputs": [
    {
     "data": {
      "text/plain": [
       "[12, 67, 82, 17, 12, 10, 57]"
      ]
     },
     "execution_count": 52,
     "metadata": {},
     "output_type": "execute_result"
    }
   ],
   "source": [
    "l"
   ]
  },
  {
   "cell_type": "code",
   "execution_count": 53,
   "id": "0d2b05c2-1537-4a7a-8f07-8d37b39d24c6",
   "metadata": {},
   "outputs": [],
   "source": [
    "b = [n for n in l if n > 40]"
   ]
  },
  {
   "cell_type": "code",
   "execution_count": 54,
   "id": "5acf6d5a-ca1e-46bd-9b18-c8799ec822a3",
   "metadata": {},
   "outputs": [
    {
     "data": {
      "text/plain": [
       "[67, 82, 57]"
      ]
     },
     "execution_count": 54,
     "metadata": {},
     "output_type": "execute_result"
    }
   ],
   "source": [
    "b"
   ]
  },
  {
   "cell_type": "code",
   "execution_count": 55,
   "id": "42e8684f-9b4d-4c6b-b3a8-0ca3a573d5e8",
   "metadata": {},
   "outputs": [
    {
     "data": {
      "text/plain": [
       "[67, 17, 57]"
      ]
     },
     "execution_count": 55,
     "metadata": {},
     "output_type": "execute_result"
    }
   ],
   "source": [
    "[n for n in l if n % 2 == 1]"
   ]
  },
  {
   "cell_type": "code",
   "execution_count": 60,
   "id": "27d5dc9d-0d91-45a1-b73b-a7fb3854f3ba",
   "metadata": {},
   "outputs": [],
   "source": [
    "names = ['Vishal', 'Priyanka', 'Anamika', 'Nandani', 'Karan', 'Arjun', \n",
    "         'Vihan','Akshu', 'Arav', 'Neha']"
   ]
  },
  {
   "cell_type": "code",
   "execution_count": 61,
   "id": "254b1677-e196-430c-95cf-9116aa3d5558",
   "metadata": {},
   "outputs": [
    {
     "data": {
      "text/plain": [
       "['Anamika', 'Arjun', 'Akshu', 'Arav']"
      ]
     },
     "execution_count": 61,
     "metadata": {},
     "output_type": "execute_result"
    }
   ],
   "source": [
    "# list containing names which starts with 'A'\n",
    "\n",
    "[n for n in names if n.startswith('A')]"
   ]
  },
  {
   "cell_type": "code",
   "execution_count": 62,
   "id": "b62925a4-183c-408f-87dc-843c66126efd",
   "metadata": {},
   "outputs": [
    {
     "data": {
      "text/plain": [
       "['VISHAL',\n",
       " 'PRIYANKA',\n",
       " 'ANAMIKA',\n",
       " 'NANDANI',\n",
       " 'KARAN',\n",
       " 'ARJUN',\n",
       " 'VIHAN',\n",
       " 'AKSHU',\n",
       " 'ARAV',\n",
       " 'NEHA']"
      ]
     },
     "execution_count": 62,
     "metadata": {},
     "output_type": "execute_result"
    }
   ],
   "source": [
    "# get a new list with all the names in uppercase\n",
    "\n",
    "[n.upper() for n in names]"
   ]
  },
  {
   "cell_type": "code",
   "execution_count": 63,
   "id": "f7b5fb19-0a8d-4859-a966-0b12b4da43cd",
   "metadata": {},
   "outputs": [],
   "source": [
    "# empty list"
   ]
  },
  {
   "cell_type": "code",
   "execution_count": 64,
   "id": "7638a20d-47f5-4165-97af-4cd6cf6803cf",
   "metadata": {},
   "outputs": [],
   "source": [
    "e = []"
   ]
  },
  {
   "cell_type": "code",
   "execution_count": 65,
   "id": "6252d5bf-3b21-4da0-9eaa-caafbd41a781",
   "metadata": {},
   "outputs": [
    {
     "data": {
      "text/plain": [
       "list"
      ]
     },
     "execution_count": 65,
     "metadata": {},
     "output_type": "execute_result"
    }
   ],
   "source": [
    "type(e)"
   ]
  },
  {
   "cell_type": "code",
   "execution_count": 66,
   "id": "3ba9f4a5-c696-44b2-bba4-9597117a4249",
   "metadata": {},
   "outputs": [
    {
     "ename": "IndexError",
     "evalue": "list index out of range",
     "output_type": "error",
     "traceback": [
      "\u001b[1;31m---------------------------------------------------------------------------\u001b[0m",
      "\u001b[1;31mIndexError\u001b[0m                                Traceback (most recent call last)",
      "Cell \u001b[1;32mIn[66], line 1\u001b[0m\n\u001b[1;32m----> 1\u001b[0m e[\u001b[38;5;241m0\u001b[39m]\n",
      "\u001b[1;31mIndexError\u001b[0m: list index out of range"
     ]
    }
   ],
   "source": [
    "e[0]"
   ]
  },
  {
   "cell_type": "code",
   "execution_count": 67,
   "id": "6d507fe1-52ff-4d53-8b75-8a32c5e34d52",
   "metadata": {},
   "outputs": [],
   "source": [
    "e = e + [4]"
   ]
  },
  {
   "cell_type": "code",
   "execution_count": 68,
   "id": "c716442e-a8af-41cf-ad41-6b76022fffdf",
   "metadata": {},
   "outputs": [
    {
     "data": {
      "text/plain": [
       "[4]"
      ]
     },
     "execution_count": 68,
     "metadata": {},
     "output_type": "execute_result"
    }
   ],
   "source": [
    "e"
   ]
  },
  {
   "cell_type": "code",
   "execution_count": 69,
   "id": "8c2efdcd-1961-46c8-95d3-a23bf91bf6fa",
   "metadata": {},
   "outputs": [],
   "source": [
    "# list decomposition"
   ]
  },
  {
   "cell_type": "code",
   "execution_count": 70,
   "id": "301eb586-6001-4717-81df-074e43772eeb",
   "metadata": {},
   "outputs": [],
   "source": [
    "l1 = [34, 56, 78]"
   ]
  },
  {
   "cell_type": "code",
   "execution_count": 71,
   "id": "dc3f79b7-1813-4658-98ff-383f30802751",
   "metadata": {},
   "outputs": [],
   "source": [
    "x, y, z = l1"
   ]
  },
  {
   "cell_type": "code",
   "execution_count": 72,
   "id": "63ba5e6c-1f66-4e89-9ffb-06ef7e338cc7",
   "metadata": {},
   "outputs": [
    {
     "data": {
      "text/plain": [
       "34"
      ]
     },
     "execution_count": 72,
     "metadata": {},
     "output_type": "execute_result"
    }
   ],
   "source": [
    "x"
   ]
  },
  {
   "cell_type": "code",
   "execution_count": 73,
   "id": "fd67bfdf-73ca-4f23-9820-9cd212b7d133",
   "metadata": {},
   "outputs": [
    {
     "data": {
      "text/plain": [
       "56"
      ]
     },
     "execution_count": 73,
     "metadata": {},
     "output_type": "execute_result"
    }
   ],
   "source": [
    "y"
   ]
  },
  {
   "cell_type": "code",
   "execution_count": 74,
   "id": "c3ad991b-1c7e-4d7f-8c2b-963f2c650b67",
   "metadata": {},
   "outputs": [
    {
     "data": {
      "text/plain": [
       "78"
      ]
     },
     "execution_count": 74,
     "metadata": {},
     "output_type": "execute_result"
    }
   ],
   "source": [
    "z"
   ]
  },
  {
   "cell_type": "code",
   "execution_count": 75,
   "id": "6a8202c3-5199-4e40-b10a-f24a2cc94782",
   "metadata": {},
   "outputs": [],
   "source": [
    "# functions"
   ]
  },
  {
   "cell_type": "code",
   "execution_count": 76,
   "id": "53903b4c-aa3a-49d1-b865-034298eb7a05",
   "metadata": {},
   "outputs": [
    {
     "data": {
      "text/plain": [
       "[12, 67, 82, 17, 12, 10, 57]"
      ]
     },
     "execution_count": 76,
     "metadata": {},
     "output_type": "execute_result"
    }
   ],
   "source": [
    "l"
   ]
  },
  {
   "cell_type": "code",
   "execution_count": 77,
   "id": "6e98960f-38ae-4639-9fb4-e9b4c54c550e",
   "metadata": {},
   "outputs": [
    {
     "data": {
      "text/plain": [
       "7"
      ]
     },
     "execution_count": 77,
     "metadata": {},
     "output_type": "execute_result"
    }
   ],
   "source": [
    "len(l)"
   ]
  },
  {
   "cell_type": "code",
   "execution_count": 78,
   "id": "09106ffc-c8ae-4a4b-804e-27b56d4d5498",
   "metadata": {},
   "outputs": [
    {
     "data": {
      "text/plain": [
       "82"
      ]
     },
     "execution_count": 78,
     "metadata": {},
     "output_type": "execute_result"
    }
   ],
   "source": [
    "max(l)"
   ]
  },
  {
   "cell_type": "code",
   "execution_count": 79,
   "id": "1364cf9a-e16b-474f-b495-3d28a68b334e",
   "metadata": {},
   "outputs": [
    {
     "data": {
      "text/plain": [
       "10"
      ]
     },
     "execution_count": 79,
     "metadata": {},
     "output_type": "execute_result"
    }
   ],
   "source": [
    "min(l)"
   ]
  },
  {
   "cell_type": "code",
   "execution_count": 80,
   "id": "b6c54e52-f6c3-4791-83cb-ecf23988642f",
   "metadata": {},
   "outputs": [
    {
     "data": {
      "text/plain": [
       "257"
      ]
     },
     "execution_count": 80,
     "metadata": {},
     "output_type": "execute_result"
    }
   ],
   "source": [
    "sum(l)"
   ]
  },
  {
   "cell_type": "code",
   "execution_count": 81,
   "id": "0831a015-d27b-44e3-a05a-f58805797f43",
   "metadata": {},
   "outputs": [
    {
     "data": {
      "text/plain": [
       "[10, 12, 12, 17, 57, 67, 82]"
      ]
     },
     "execution_count": 81,
     "metadata": {},
     "output_type": "execute_result"
    }
   ],
   "source": [
    "sorted(l)"
   ]
  },
  {
   "cell_type": "code",
   "execution_count": 82,
   "id": "c9ebbad0-f272-4dd0-b1d8-5101375758ab",
   "metadata": {},
   "outputs": [
    {
     "data": {
      "text/plain": [
       "[82, 67, 57, 17, 12, 12, 10]"
      ]
     },
     "execution_count": 82,
     "metadata": {},
     "output_type": "execute_result"
    }
   ],
   "source": [
    "sorted(l, reverse= True)"
   ]
  },
  {
   "cell_type": "code",
   "execution_count": 83,
   "id": "f2c948f7-8db4-4023-8a73-80fc1d57ffcb",
   "metadata": {},
   "outputs": [],
   "source": [
    "name = 'Nandani'"
   ]
  },
  {
   "cell_type": "code",
   "execution_count": 84,
   "id": "77a34548-fd6f-413c-9148-749c0ee11509",
   "metadata": {},
   "outputs": [
    {
     "data": {
      "text/plain": [
       "['N', 'a', 'n', 'd', 'a', 'n', 'i']"
      ]
     },
     "execution_count": 84,
     "metadata": {},
     "output_type": "execute_result"
    }
   ],
   "source": [
    "list(name)"
   ]
  },
  {
   "cell_type": "code",
   "execution_count": 85,
   "id": "b0eb99bb-c0b3-4e2b-bd76-a537f26bb688",
   "metadata": {},
   "outputs": [],
   "source": [
    "# Methods on list"
   ]
  },
  {
   "cell_type": "code",
   "execution_count": 86,
   "id": "b92d1cb0-28ae-40c8-bcf8-2fb725620189",
   "metadata": {},
   "outputs": [
    {
     "data": {
      "text/plain": [
       "[12, 67, 82, 17, 12, 10, 57]"
      ]
     },
     "execution_count": 86,
     "metadata": {},
     "output_type": "execute_result"
    }
   ],
   "source": [
    "l"
   ]
  },
  {
   "cell_type": "code",
   "execution_count": 87,
   "id": "43f048c9-ef94-48a0-998e-08816f0b9fde",
   "metadata": {},
   "outputs": [],
   "source": [
    "l.append(100)  # adding at the end"
   ]
  },
  {
   "cell_type": "code",
   "execution_count": 88,
   "id": "f2c0660c-74c1-4af7-af4a-aa1bbe23a0af",
   "metadata": {},
   "outputs": [
    {
     "data": {
      "text/plain": [
       "[12, 67, 82, 17, 12, 10, 57, 100]"
      ]
     },
     "execution_count": 88,
     "metadata": {},
     "output_type": "execute_result"
    }
   ],
   "source": [
    "l"
   ]
  },
  {
   "cell_type": "code",
   "execution_count": 89,
   "id": "04642945-01ed-4daf-9912-64f47a7adef3",
   "metadata": {},
   "outputs": [],
   "source": [
    "# append and extend"
   ]
  },
  {
   "cell_type": "code",
   "execution_count": 90,
   "id": "fde3d9ab-aa54-4e8c-b583-d3d094222629",
   "metadata": {},
   "outputs": [],
   "source": [
    "x = [12, 23, 34]\n",
    "y = [12, 23, 34]"
   ]
  },
  {
   "cell_type": "code",
   "execution_count": 91,
   "id": "90ca70f5-4999-4f36-b314-4cba7837fbf9",
   "metadata": {},
   "outputs": [],
   "source": [
    "x.append([11, 22])\n",
    "y.extend([11, 22])"
   ]
  },
  {
   "cell_type": "code",
   "execution_count": 92,
   "id": "14dc77b6-3346-4f95-a596-01ed910249af",
   "metadata": {},
   "outputs": [
    {
     "name": "stdout",
     "output_type": "stream",
     "text": [
      "[12, 23, 34, [11, 22]]\n",
      "[12, 23, 34, 11, 22]\n"
     ]
    }
   ],
   "source": [
    "print(x)\n",
    "print(y)"
   ]
  },
  {
   "cell_type": "code",
   "execution_count": 93,
   "id": "d0d49c87-89e0-4ff8-b95c-697a97217a8f",
   "metadata": {},
   "outputs": [
    {
     "data": {
      "text/plain": [
       "[11, 22]"
      ]
     },
     "execution_count": 93,
     "metadata": {},
     "output_type": "execute_result"
    }
   ],
   "source": [
    "x[-1]"
   ]
  },
  {
   "cell_type": "code",
   "execution_count": 94,
   "id": "d6754693-8fb7-4dcb-b630-7ad3a469caa6",
   "metadata": {},
   "outputs": [
    {
     "data": {
      "text/plain": [
       "22"
      ]
     },
     "execution_count": 94,
     "metadata": {},
     "output_type": "execute_result"
    }
   ],
   "source": [
    "x[-1][1]"
   ]
  },
  {
   "cell_type": "code",
   "execution_count": 95,
   "id": "0c417388-1649-46b4-89f6-937c886bccb9",
   "metadata": {},
   "outputs": [
    {
     "data": {
      "text/plain": [
       "[12, 67, 82, 17, 12, 10, 57, 100]"
      ]
     },
     "execution_count": 95,
     "metadata": {},
     "output_type": "execute_result"
    }
   ],
   "source": [
    "# insert \n",
    "l"
   ]
  },
  {
   "cell_type": "code",
   "execution_count": 96,
   "id": "2d31fb28-bf3a-4b86-a708-762f6f7a2349",
   "metadata": {},
   "outputs": [],
   "source": [
    "l.insert(2, 78)"
   ]
  },
  {
   "cell_type": "code",
   "execution_count": 97,
   "id": "d653a1bd-b437-47d5-bc68-d0a85827b5eb",
   "metadata": {},
   "outputs": [
    {
     "data": {
      "text/plain": [
       "[12, 67, 78, 82, 17, 12, 10, 57, 100]"
      ]
     },
     "execution_count": 97,
     "metadata": {},
     "output_type": "execute_result"
    }
   ],
   "source": [
    "l"
   ]
  },
  {
   "cell_type": "code",
   "execution_count": 98,
   "id": "9e540cb2-1b78-4e42-bb60-cb0781d4513a",
   "metadata": {},
   "outputs": [],
   "source": [
    "# remove\n",
    "\n",
    "l.remove(78)"
   ]
  },
  {
   "cell_type": "code",
   "execution_count": 99,
   "id": "536a3855-b85c-4ddb-b9dc-ba30d69b8e5d",
   "metadata": {},
   "outputs": [
    {
     "data": {
      "text/plain": [
       "[12, 67, 82, 17, 12, 10, 57, 100]"
      ]
     },
     "execution_count": 99,
     "metadata": {},
     "output_type": "execute_result"
    }
   ],
   "source": [
    "l"
   ]
  },
  {
   "cell_type": "code",
   "execution_count": 100,
   "id": "656cd2c8-5e18-4a93-a17f-0057a9ee3b54",
   "metadata": {},
   "outputs": [
    {
     "data": {
      "text/plain": [
       "6"
      ]
     },
     "execution_count": 100,
     "metadata": {},
     "output_type": "execute_result"
    }
   ],
   "source": [
    "l.index(57)"
   ]
  },
  {
   "cell_type": "code",
   "execution_count": 101,
   "id": "f2b0f230-200d-475b-a115-3aded2cea3d3",
   "metadata": {},
   "outputs": [
    {
     "data": {
      "text/plain": [
       "2"
      ]
     },
     "execution_count": 101,
     "metadata": {},
     "output_type": "execute_result"
    }
   ],
   "source": [
    "l.count(12)"
   ]
  },
  {
   "cell_type": "code",
   "execution_count": 102,
   "id": "81b4a540-8659-4ef5-a16f-d7f882cd07b2",
   "metadata": {},
   "outputs": [
    {
     "data": {
      "text/plain": [
       "[12, 67, 82, 17, 12, 10, 57, 100]"
      ]
     },
     "execution_count": 102,
     "metadata": {},
     "output_type": "execute_result"
    }
   ],
   "source": [
    "l"
   ]
  },
  {
   "cell_type": "code",
   "execution_count": 103,
   "id": "812d9cc4-54cd-4fef-b3d0-2e3fe3b8327f",
   "metadata": {},
   "outputs": [
    {
     "data": {
      "text/plain": [
       "100"
      ]
     },
     "execution_count": 103,
     "metadata": {},
     "output_type": "execute_result"
    }
   ],
   "source": [
    "# delete/ pop\n",
    "\n",
    "l.pop()"
   ]
  },
  {
   "cell_type": "code",
   "execution_count": 104,
   "id": "292a409b-a110-4d2a-a9c4-e4a22e0cc30f",
   "metadata": {},
   "outputs": [
    {
     "data": {
      "text/plain": [
       "[12, 67, 82, 17, 12, 10, 57]"
      ]
     },
     "execution_count": 104,
     "metadata": {},
     "output_type": "execute_result"
    }
   ],
   "source": [
    "l"
   ]
  },
  {
   "cell_type": "code",
   "execution_count": 105,
   "id": "5eefd4cf-0a92-4928-9e8a-4e8842a3ce81",
   "metadata": {},
   "outputs": [
    {
     "data": {
      "text/plain": [
       "10"
      ]
     },
     "execution_count": 105,
     "metadata": {},
     "output_type": "execute_result"
    }
   ],
   "source": [
    "l.pop(-2)"
   ]
  },
  {
   "cell_type": "code",
   "execution_count": 106,
   "id": "5f962833-346e-48c1-bac1-df7cf8ac3d4a",
   "metadata": {},
   "outputs": [
    {
     "data": {
      "text/plain": [
       "[12, 67, 82, 17, 12, 57]"
      ]
     },
     "execution_count": 106,
     "metadata": {},
     "output_type": "execute_result"
    }
   ],
   "source": [
    "l"
   ]
  },
  {
   "cell_type": "code",
   "execution_count": 107,
   "id": "a88d8872-7fb3-4648-a005-dd3da0edd82d",
   "metadata": {},
   "outputs": [],
   "source": [
    "l.reverse()"
   ]
  },
  {
   "cell_type": "code",
   "execution_count": 108,
   "id": "11f730fc-28f3-44d7-b042-4652c6ac5ce8",
   "metadata": {},
   "outputs": [
    {
     "data": {
      "text/plain": [
       "[57, 12, 17, 82, 67, 12]"
      ]
     },
     "execution_count": 108,
     "metadata": {},
     "output_type": "execute_result"
    }
   ],
   "source": [
    "l"
   ]
  },
  {
   "cell_type": "code",
   "execution_count": 109,
   "id": "f1f662d8-5909-407f-91be-6a0338faa201",
   "metadata": {},
   "outputs": [],
   "source": [
    "l.sort(reverse= True)"
   ]
  },
  {
   "cell_type": "code",
   "execution_count": 110,
   "id": "1fd79262-3c24-4ab3-8ac0-c331773b23b5",
   "metadata": {},
   "outputs": [
    {
     "data": {
      "text/plain": [
       "[82, 67, 57, 17, 12, 12]"
      ]
     },
     "execution_count": 110,
     "metadata": {},
     "output_type": "execute_result"
    }
   ],
   "source": [
    "l"
   ]
  },
  {
   "cell_type": "code",
   "execution_count": 113,
   "id": "bc283910-c2c6-438a-a589-928d24ca85db",
   "metadata": {},
   "outputs": [
    {
     "ename": "IndentationError",
     "evalue": "unexpected indent (3949064131.py, line 6)",
     "output_type": "error",
     "traceback": [
      "\u001b[1;36m  Cell \u001b[1;32mIn[113], line 6\u001b[1;36m\u001b[0m\n\u001b[1;33m    1 67\u001b[0m\n\u001b[1;37m    ^\u001b[0m\n\u001b[1;31mIndentationError\u001b[0m\u001b[1;31m:\u001b[0m unexpected indent\n"
     ]
    }
   ],
   "source": [
    "# iterate over a list print index and the value assigned to it\n",
    "\n",
    "l\n",
    "\n",
    "# o/p => 0 82\n",
    "         1 67"
   ]
  },
  {
   "cell_type": "code",
   "execution_count": 114,
   "id": "8ed97651-5151-46bd-94c3-0de765abce3e",
   "metadata": {},
   "outputs": [
    {
     "name": "stdout",
     "output_type": "stream",
     "text": [
      "0 82\n",
      "1 67\n",
      "2 57\n",
      "3 17\n",
      "4 12\n",
      "5 12\n"
     ]
    }
   ],
   "source": [
    "i = 0\n",
    "while i <= 5:\n",
    "    print(i, l[i])\n",
    "    i += 1"
   ]
  },
  {
   "cell_type": "code",
   "execution_count": 115,
   "id": "6b15ccf5-cc56-46f3-946a-b5f33dd1afa2",
   "metadata": {},
   "outputs": [
    {
     "data": {
      "text/plain": [
       "[82, 67, 57, 17, 12, 12]"
      ]
     },
     "execution_count": 115,
     "metadata": {},
     "output_type": "execute_result"
    }
   ],
   "source": [
    "l"
   ]
  },
  {
   "cell_type": "code",
   "execution_count": 116,
   "id": "580b94fc-12fc-4bca-b3db-cc272594b48b",
   "metadata": {},
   "outputs": [
    {
     "name": "stdout",
     "output_type": "stream",
     "text": [
      "0 82\n",
      "1 67\n",
      "2 57\n",
      "3 17\n",
      "4 12\n",
      "4 12\n"
     ]
    }
   ],
   "source": [
    "for n in l:\n",
    "    print(l.index(n), n)"
   ]
  },
  {
   "cell_type": "code",
   "execution_count": 117,
   "id": "fff1b687-c4d8-401c-a310-69041ae3e8d1",
   "metadata": {},
   "outputs": [],
   "source": [
    "# # enumerate"
   ]
  },
  {
   "cell_type": "code",
   "execution_count": 118,
   "id": "0528a254-5031-40a5-99d1-249db6d82010",
   "metadata": {},
   "outputs": [
    {
     "name": "stdout",
     "output_type": "stream",
     "text": [
      "0 82\n",
      "1 67\n",
      "2 57\n",
      "3 17\n",
      "4 12\n",
      "5 12\n"
     ]
    }
   ],
   "source": [
    "for index, n in enumerate(l):\n",
    "    print(index, n)"
   ]
  },
  {
   "cell_type": "code",
   "execution_count": 119,
   "id": "0c286af0-ce7c-4fee-9b53-a1e492388d75",
   "metadata": {},
   "outputs": [],
   "source": [
    "# shallow copy"
   ]
  },
  {
   "cell_type": "code",
   "execution_count": 170,
   "id": "5e5fd347-7912-4561-bcc7-94f2c725ec73",
   "metadata": {},
   "outputs": [],
   "source": [
    "l1 = [34, 45, 56]"
   ]
  },
  {
   "cell_type": "code",
   "execution_count": 171,
   "id": "953ab0ea-c52a-4c99-b7ba-90c9b49d3316",
   "metadata": {},
   "outputs": [],
   "source": [
    "l2 = l1"
   ]
  },
  {
   "cell_type": "code",
   "execution_count": 172,
   "id": "4a5d9025-30a8-4794-b677-f1c335055db7",
   "metadata": {},
   "outputs": [
    {
     "data": {
      "text/plain": [
       "[34, 45, 56]"
      ]
     },
     "execution_count": 172,
     "metadata": {},
     "output_type": "execute_result"
    }
   ],
   "source": [
    "l2"
   ]
  },
  {
   "cell_type": "code",
   "execution_count": 173,
   "id": "f94bac82-495c-424d-a333-e798d2732f29",
   "metadata": {},
   "outputs": [],
   "source": [
    "l3 = l1.copy()"
   ]
  },
  {
   "cell_type": "code",
   "execution_count": 175,
   "id": "c4b40aa2-4964-4351-9924-276f877affe7",
   "metadata": {},
   "outputs": [
    {
     "data": {
      "text/plain": [
       "[34, 45, 56]"
      ]
     },
     "execution_count": 175,
     "metadata": {},
     "output_type": "execute_result"
    }
   ],
   "source": [
    "l3"
   ]
  },
  {
   "cell_type": "code",
   "execution_count": 176,
   "id": "5c8847c0-73ce-469f-bf7a-56e1bb065d66",
   "metadata": {},
   "outputs": [],
   "source": [
    "l1.append(1000)"
   ]
  },
  {
   "cell_type": "code",
   "execution_count": 177,
   "id": "355b3b5b-b51e-40fc-bc76-c80759141214",
   "metadata": {},
   "outputs": [
    {
     "data": {
      "text/plain": [
       "[34, 45, 56, 1000]"
      ]
     },
     "execution_count": 177,
     "metadata": {},
     "output_type": "execute_result"
    }
   ],
   "source": [
    "l1"
   ]
  },
  {
   "cell_type": "code",
   "execution_count": 178,
   "id": "d5391468-98bc-4dd1-aa37-6770e5e533c8",
   "metadata": {},
   "outputs": [
    {
     "data": {
      "text/plain": [
       "[34, 45, 56, 1000]"
      ]
     },
     "execution_count": 178,
     "metadata": {},
     "output_type": "execute_result"
    }
   ],
   "source": [
    "l2"
   ]
  },
  {
   "cell_type": "code",
   "execution_count": 179,
   "id": "94746e80-3601-41b5-a71d-80fd18c3edf8",
   "metadata": {},
   "outputs": [
    {
     "data": {
      "text/plain": [
       "[34, 45, 56]"
      ]
     },
     "execution_count": 179,
     "metadata": {},
     "output_type": "execute_result"
    }
   ],
   "source": [
    "l3"
   ]
  },
  {
   "cell_type": "code",
   "execution_count": 180,
   "id": "4f2ae561-3c1b-40c9-9100-7cf1989cd06a",
   "metadata": {},
   "outputs": [],
   "source": [
    "l1.append([12, 34])"
   ]
  },
  {
   "cell_type": "code",
   "execution_count": 181,
   "id": "4ebcd843-a939-493e-99fc-bbc09504b7d8",
   "metadata": {},
   "outputs": [
    {
     "data": {
      "text/plain": [
       "[34, 45, 56, 1000, [12, 34]]"
      ]
     },
     "execution_count": 181,
     "metadata": {},
     "output_type": "execute_result"
    }
   ],
   "source": [
    "l1"
   ]
  },
  {
   "cell_type": "code",
   "execution_count": 182,
   "id": "9037ab0e-bd26-407b-a6a1-1d8b0be4761a",
   "metadata": {},
   "outputs": [],
   "source": [
    "l3 = l1.copy()"
   ]
  },
  {
   "cell_type": "code",
   "execution_count": 183,
   "id": "c243435b-5dad-49ab-8d65-ae2a258651e0",
   "metadata": {},
   "outputs": [
    {
     "data": {
      "text/plain": [
       "[34, 45, 56, 1000, [12, 34]]"
      ]
     },
     "execution_count": 183,
     "metadata": {},
     "output_type": "execute_result"
    }
   ],
   "source": [
    "l3"
   ]
  },
  {
   "cell_type": "code",
   "execution_count": 184,
   "id": "9e91af41-b7e5-492e-a261-00678b17e480",
   "metadata": {},
   "outputs": [],
   "source": [
    "l1.append(200)"
   ]
  },
  {
   "cell_type": "code",
   "execution_count": 185,
   "id": "ad7fd54a-fa26-491d-9af6-46155785bb42",
   "metadata": {},
   "outputs": [
    {
     "data": {
      "text/plain": [
       "[34, 45, 56, 1000, [12, 34], 200]"
      ]
     },
     "execution_count": 185,
     "metadata": {},
     "output_type": "execute_result"
    }
   ],
   "source": [
    "l1"
   ]
  },
  {
   "cell_type": "code",
   "execution_count": 186,
   "id": "68f38775-d65e-4a83-9991-709bd86b8f05",
   "metadata": {},
   "outputs": [
    {
     "data": {
      "text/plain": [
       "[34, 45, 56, 1000, [12, 34]]"
      ]
     },
     "execution_count": 186,
     "metadata": {},
     "output_type": "execute_result"
    }
   ],
   "source": [
    "l3"
   ]
  },
  {
   "cell_type": "code",
   "execution_count": 187,
   "id": "4cf978e5-5f34-4735-86f7-3ff8dbb2ee38",
   "metadata": {},
   "outputs": [],
   "source": [
    "l1[-2].append(1000)"
   ]
  },
  {
   "cell_type": "code",
   "execution_count": 188,
   "id": "554ed48e-8f91-452f-b570-15bb9bb544e3",
   "metadata": {},
   "outputs": [
    {
     "data": {
      "text/plain": [
       "[34, 45, 56, 1000, [12, 34, 1000], 200]"
      ]
     },
     "execution_count": 188,
     "metadata": {},
     "output_type": "execute_result"
    }
   ],
   "source": [
    "l1"
   ]
  },
  {
   "cell_type": "code",
   "execution_count": 189,
   "id": "38d0c4ee-c9c2-4974-8bce-0bf5cc506fa5",
   "metadata": {},
   "outputs": [
    {
     "data": {
      "text/plain": [
       "[34, 45, 56, 1000, [12, 34, 1000]]"
      ]
     },
     "execution_count": 189,
     "metadata": {},
     "output_type": "execute_result"
    }
   ],
   "source": [
    "l3"
   ]
  },
  {
   "cell_type": "code",
   "execution_count": 190,
   "id": "2e791ebd-4566-4046-9edf-5bf0f43d0de5",
   "metadata": {},
   "outputs": [
    {
     "name": "stdout",
     "output_type": "stream",
     "text": [
      "Help on class list in module builtins:\n",
      "\n",
      "class list(object)\n",
      " |  list(iterable=(), /)\n",
      " |  \n",
      " |  Built-in mutable sequence.\n",
      " |  \n",
      " |  If no argument is given, the constructor creates a new empty list.\n",
      " |  The argument must be an iterable if specified.\n",
      " |  \n",
      " |  Methods defined here:\n",
      " |  \n",
      " |  __add__(self, value, /)\n",
      " |      Return self+value.\n",
      " |  \n",
      " |  __contains__(self, key, /)\n",
      " |      Return key in self.\n",
      " |  \n",
      " |  __delitem__(self, key, /)\n",
      " |      Delete self[key].\n",
      " |  \n",
      " |  __eq__(self, value, /)\n",
      " |      Return self==value.\n",
      " |  \n",
      " |  __ge__(self, value, /)\n",
      " |      Return self>=value.\n",
      " |  \n",
      " |  __getattribute__(self, name, /)\n",
      " |      Return getattr(self, name).\n",
      " |  \n",
      " |  __getitem__(...)\n",
      " |      x.__getitem__(y) <==> x[y]\n",
      " |  \n",
      " |  __gt__(self, value, /)\n",
      " |      Return self>value.\n",
      " |  \n",
      " |  __iadd__(self, value, /)\n",
      " |      Implement self+=value.\n",
      " |  \n",
      " |  __imul__(self, value, /)\n",
      " |      Implement self*=value.\n",
      " |  \n",
      " |  __init__(self, /, *args, **kwargs)\n",
      " |      Initialize self.  See help(type(self)) for accurate signature.\n",
      " |  \n",
      " |  __iter__(self, /)\n",
      " |      Implement iter(self).\n",
      " |  \n",
      " |  __le__(self, value, /)\n",
      " |      Return self<=value.\n",
      " |  \n",
      " |  __len__(self, /)\n",
      " |      Return len(self).\n",
      " |  \n",
      " |  __lt__(self, value, /)\n",
      " |      Return self<value.\n",
      " |  \n",
      " |  __mul__(self, value, /)\n",
      " |      Return self*value.\n",
      " |  \n",
      " |  __ne__(self, value, /)\n",
      " |      Return self!=value.\n",
      " |  \n",
      " |  __repr__(self, /)\n",
      " |      Return repr(self).\n",
      " |  \n",
      " |  __reversed__(self, /)\n",
      " |      Return a reverse iterator over the list.\n",
      " |  \n",
      " |  __rmul__(self, value, /)\n",
      " |      Return value*self.\n",
      " |  \n",
      " |  __setitem__(self, key, value, /)\n",
      " |      Set self[key] to value.\n",
      " |  \n",
      " |  __sizeof__(self, /)\n",
      " |      Return the size of the list in memory, in bytes.\n",
      " |  \n",
      " |  append(self, object, /)\n",
      " |      Append object to the end of the list.\n",
      " |  \n",
      " |  clear(self, /)\n",
      " |      Remove all items from list.\n",
      " |  \n",
      " |  copy(self, /)\n",
      " |      Return a shallow copy of the list.\n",
      " |  \n",
      " |  count(self, value, /)\n",
      " |      Return number of occurrences of value.\n",
      " |  \n",
      " |  extend(self, iterable, /)\n",
      " |      Extend list by appending elements from the iterable.\n",
      " |  \n",
      " |  index(self, value, start=0, stop=9223372036854775807, /)\n",
      " |      Return first index of value.\n",
      " |      \n",
      " |      Raises ValueError if the value is not present.\n",
      " |  \n",
      " |  insert(self, index, object, /)\n",
      " |      Insert object before index.\n",
      " |  \n",
      " |  pop(self, index=-1, /)\n",
      " |      Remove and return item at index (default last).\n",
      " |      \n",
      " |      Raises IndexError if list is empty or index is out of range.\n",
      " |  \n",
      " |  remove(self, value, /)\n",
      " |      Remove first occurrence of value.\n",
      " |      \n",
      " |      Raises ValueError if the value is not present.\n",
      " |  \n",
      " |  reverse(self, /)\n",
      " |      Reverse *IN PLACE*.\n",
      " |  \n",
      " |  sort(self, /, *, key=None, reverse=False)\n",
      " |      Sort the list in ascending order and return None.\n",
      " |      \n",
      " |      The sort is in-place (i.e. the list itself is modified) and stable (i.e. the\n",
      " |      order of two equal elements is maintained).\n",
      " |      \n",
      " |      If a key function is given, apply it once to each list item and sort them,\n",
      " |      ascending or descending, according to their function values.\n",
      " |      \n",
      " |      The reverse flag can be set to sort in descending order.\n",
      " |  \n",
      " |  ----------------------------------------------------------------------\n",
      " |  Class methods defined here:\n",
      " |  \n",
      " |  __class_getitem__(...) from builtins.type\n",
      " |      See PEP 585\n",
      " |  \n",
      " |  ----------------------------------------------------------------------\n",
      " |  Static methods defined here:\n",
      " |  \n",
      " |  __new__(*args, **kwargs) from builtins.type\n",
      " |      Create and return a new object.  See help(type) for accurate signature.\n",
      " |  \n",
      " |  ----------------------------------------------------------------------\n",
      " |  Data and other attributes defined here:\n",
      " |  \n",
      " |  __hash__ = None\n",
      "\n"
     ]
    }
   ],
   "source": [
    "help(list)\n",
    "l1"
   ]
  },
  {
   "cell_type": "code",
   "execution_count": 191,
   "id": "29aee507-cd7e-4504-93dd-c68ee8c84a39",
   "metadata": {},
   "outputs": [
    {
     "data": {
      "text/plain": [
       "[34, 45, 56, 1000, [12, 34, 1000], 200]"
      ]
     },
     "execution_count": 191,
     "metadata": {},
     "output_type": "execute_result"
    }
   ],
   "source": [
    "l1"
   ]
  },
  {
   "cell_type": "code",
   "execution_count": 193,
   "id": "f59e6986-0f88-4aca-bc30-8b832a83de03",
   "metadata": {},
   "outputs": [],
   "source": [
    "l1.clear()"
   ]
  },
  {
   "cell_type": "code",
   "execution_count": 194,
   "id": "a411c4b3-e249-4a74-afef-fb68c950f652",
   "metadata": {},
   "outputs": [
    {
     "data": {
      "text/plain": [
       "[]"
      ]
     },
     "execution_count": 194,
     "metadata": {},
     "output_type": "execute_result"
    }
   ],
   "source": [
    "l1"
   ]
  },
  {
   "cell_type": "code",
   "execution_count": 133,
   "id": "b8366d0c-7a2e-44c7-ba3a-808441c2a2a0",
   "metadata": {},
   "outputs": [],
   "source": [
    "# Tuple"
   ]
  },
  {
   "cell_type": "code",
   "execution_count": 133,
   "id": "3b819df3-0d3e-4ee7-872b-6e1bb1cf9dc7",
   "metadata": {},
   "outputs": [],
   "source": [
    "t = (23, 45, 67, 12, 78, 23)"
   ]
  },
  {
   "cell_type": "code",
   "execution_count": 138,
   "id": "ec0e42e2-f6f0-4d57-8495-f8b3eae9d9cd",
   "metadata": {},
   "outputs": [],
   "source": [
    "t1 = (34, 56, 'Ganesh')"
   ]
  },
  {
   "cell_type": "code",
   "execution_count": 139,
   "id": "d3ff3fd7-8121-4531-ad7e-006f6daabe7c",
   "metadata": {},
   "outputs": [
    {
     "data": {
      "text/plain": [
       "(34, 56, 'Ganesh')"
      ]
     },
     "execution_count": 139,
     "metadata": {},
     "output_type": "execute_result"
    }
   ],
   "source": [
    "t1"
   ]
  },
  {
   "cell_type": "code",
   "execution_count": 140,
   "id": "0c04a2cd-b50b-4319-88da-bbd6e65c1c18",
   "metadata": {},
   "outputs": [
    {
     "data": {
      "text/plain": [
       "45"
      ]
     },
     "execution_count": 140,
     "metadata": {},
     "output_type": "execute_result"
    }
   ],
   "source": [
    "t[1]"
   ]
  },
  {
   "cell_type": "code",
   "execution_count": 141,
   "id": "5819fad0-cf95-487b-9657-132b451f11f5",
   "metadata": {},
   "outputs": [
    {
     "ename": "TypeError",
     "evalue": "'tuple' object does not support item assignment",
     "output_type": "error",
     "traceback": [
      "\u001b[1;31m---------------------------------------------------------------------------\u001b[0m",
      "\u001b[1;31mTypeError\u001b[0m                                 Traceback (most recent call last)",
      "Cell \u001b[1;32mIn[141], line 1\u001b[0m\n\u001b[1;32m----> 1\u001b[0m t[\u001b[38;5;241m1\u001b[39m] \u001b[38;5;241m=\u001b[39m \u001b[38;5;241m30\u001b[39m\n",
      "\u001b[1;31mTypeError\u001b[0m: 'tuple' object does not support item assignment"
     ]
    }
   ],
   "source": [
    "t[1] = 30"
   ]
  },
  {
   "cell_type": "code",
   "execution_count": 142,
   "id": "f5590577-e7c4-46d1-a9c5-e2dabda9890a",
   "metadata": {},
   "outputs": [
    {
     "name": "stdout",
     "output_type": "stream",
     "text": [
      "Help on class tuple in module builtins:\n",
      "\n",
      "class tuple(object)\n",
      " |  tuple(iterable=(), /)\n",
      " |  \n",
      " |  Built-in immutable sequence.\n",
      " |  \n",
      " |  If no argument is given, the constructor returns an empty tuple.\n",
      " |  If iterable is specified the tuple is initialized from iterable's items.\n",
      " |  \n",
      " |  If the argument is a tuple, the return value is the same object.\n",
      " |  \n",
      " |  Built-in subclasses:\n",
      " |      asyncgen_hooks\n",
      " |      UnraisableHookArgs\n",
      " |  \n",
      " |  Methods defined here:\n",
      " |  \n",
      " |  __add__(self, value, /)\n",
      " |      Return self+value.\n",
      " |  \n",
      " |  __contains__(self, key, /)\n",
      " |      Return key in self.\n",
      " |  \n",
      " |  __eq__(self, value, /)\n",
      " |      Return self==value.\n",
      " |  \n",
      " |  __ge__(self, value, /)\n",
      " |      Return self>=value.\n",
      " |  \n",
      " |  __getattribute__(self, name, /)\n",
      " |      Return getattr(self, name).\n",
      " |  \n",
      " |  __getitem__(self, key, /)\n",
      " |      Return self[key].\n",
      " |  \n",
      " |  __getnewargs__(self, /)\n",
      " |  \n",
      " |  __gt__(self, value, /)\n",
      " |      Return self>value.\n",
      " |  \n",
      " |  __hash__(self, /)\n",
      " |      Return hash(self).\n",
      " |  \n",
      " |  __iter__(self, /)\n",
      " |      Implement iter(self).\n",
      " |  \n",
      " |  __le__(self, value, /)\n",
      " |      Return self<=value.\n",
      " |  \n",
      " |  __len__(self, /)\n",
      " |      Return len(self).\n",
      " |  \n",
      " |  __lt__(self, value, /)\n",
      " |      Return self<value.\n",
      " |  \n",
      " |  __mul__(self, value, /)\n",
      " |      Return self*value.\n",
      " |  \n",
      " |  __ne__(self, value, /)\n",
      " |      Return self!=value.\n",
      " |  \n",
      " |  __repr__(self, /)\n",
      " |      Return repr(self).\n",
      " |  \n",
      " |  __rmul__(self, value, /)\n",
      " |      Return value*self.\n",
      " |  \n",
      " |  count(self, value, /)\n",
      " |      Return number of occurrences of value.\n",
      " |  \n",
      " |  index(self, value, start=0, stop=9223372036854775807, /)\n",
      " |      Return first index of value.\n",
      " |      \n",
      " |      Raises ValueError if the value is not present.\n",
      " |  \n",
      " |  ----------------------------------------------------------------------\n",
      " |  Class methods defined here:\n",
      " |  \n",
      " |  __class_getitem__(...) from builtins.type\n",
      " |      See PEP 585\n",
      " |  \n",
      " |  ----------------------------------------------------------------------\n",
      " |  Static methods defined here:\n",
      " |  \n",
      " |  __new__(*args, **kwargs) from builtins.type\n",
      " |      Create and return a new object.  See help(type) for accurate signature.\n",
      "\n"
     ]
    }
   ],
   "source": [
    "help(tuple)"
   ]
  },
  {
   "cell_type": "code",
   "execution_count": 143,
   "id": "c14803e1-4937-43cf-b567-4a96139a135f",
   "metadata": {},
   "outputs": [
    {
     "data": {
      "text/plain": [
       "(34, 56, 'Ganesh')"
      ]
     },
     "execution_count": 143,
     "metadata": {},
     "output_type": "execute_result"
    }
   ],
   "source": [
    "t1"
   ]
  },
  {
   "cell_type": "code",
   "execution_count": 144,
   "id": "03924519-cd63-46de-8315-f6e97b24a7e2",
   "metadata": {},
   "outputs": [
    {
     "data": {
      "text/plain": [
       "[34, 56, 'Ganesh']"
      ]
     },
     "execution_count": 144,
     "metadata": {},
     "output_type": "execute_result"
    }
   ],
   "source": [
    "m = list(t1)\n",
    "m"
   ]
  },
  {
   "cell_type": "code",
   "execution_count": 145,
   "id": "43f80cef-2a02-4613-9e50-af200f0ac1be",
   "metadata": {},
   "outputs": [
    {
     "data": {
      "text/plain": [
       "(34, 56, 'Ganesh')"
      ]
     },
     "execution_count": 145,
     "metadata": {},
     "output_type": "execute_result"
    }
   ],
   "source": [
    "z1 = tuple(m)\n",
    "z1"
   ]
  },
  {
   "cell_type": "code",
   "execution_count": 146,
   "id": "6febc1a7-9965-4d06-88b4-f3613758bdaf",
   "metadata": {},
   "outputs": [
    {
     "ename": "TypeError",
     "evalue": "'tuple' object doesn't support item deletion",
     "output_type": "error",
     "traceback": [
      "\u001b[1;31m---------------------------------------------------------------------------\u001b[0m",
      "\u001b[1;31mTypeError\u001b[0m                                 Traceback (most recent call last)",
      "Cell \u001b[1;32mIn[146], line 1\u001b[0m\n\u001b[1;32m----> 1\u001b[0m \u001b[38;5;28;01mdel\u001b[39;00m z1[\u001b[38;5;241m1\u001b[39m]\n",
      "\u001b[1;31mTypeError\u001b[0m: 'tuple' object doesn't support item deletion"
     ]
    }
   ],
   "source": [
    "del z1[1]"
   ]
  },
  {
   "cell_type": "code",
   "execution_count": 147,
   "id": "c34aa0f4-5822-490d-a35f-2adb3169dd8a",
   "metadata": {},
   "outputs": [],
   "source": [
    "# Set"
   ]
  },
  {
   "cell_type": "code",
   "execution_count": 148,
   "id": "e899c661-a235-46eb-8437-407026a97307",
   "metadata": {},
   "outputs": [
    {
     "data": {
      "text/plain": [
       "{12, 34, 56, 78}"
      ]
     },
     "execution_count": 148,
     "metadata": {},
     "output_type": "execute_result"
    }
   ],
   "source": [
    "s = {12, 34, 56, 78, 34}\n",
    "s  # duplicates not allowed"
   ]
  },
  {
   "cell_type": "code",
   "execution_count": 149,
   "id": "192eb333-89e6-4d13-859d-083d544472bd",
   "metadata": {},
   "outputs": [
    {
     "data": {
      "text/plain": [
       "set"
      ]
     },
     "execution_count": 149,
     "metadata": {},
     "output_type": "execute_result"
    }
   ],
   "source": [
    "type(s)"
   ]
  },
  {
   "cell_type": "code",
   "execution_count": 150,
   "id": "a62afbce-0b94-42ad-83bb-5aaaf6eee94b",
   "metadata": {},
   "outputs": [
    {
     "ename": "TypeError",
     "evalue": "'set' object is not subscriptable",
     "output_type": "error",
     "traceback": [
      "\u001b[1;31m---------------------------------------------------------------------------\u001b[0m",
      "\u001b[1;31mTypeError\u001b[0m                                 Traceback (most recent call last)",
      "Cell \u001b[1;32mIn[150], line 1\u001b[0m\n\u001b[1;32m----> 1\u001b[0m s[\u001b[38;5;241m2\u001b[39m]\n",
      "\u001b[1;31mTypeError\u001b[0m: 'set' object is not subscriptable"
     ]
    }
   ],
   "source": [
    "s[2]   # unordered"
   ]
  },
  {
   "cell_type": "code",
   "execution_count": 151,
   "id": "338e6b69-a806-4624-ace1-11f0a1281668",
   "metadata": {},
   "outputs": [],
   "source": [
    "s.add(45)"
   ]
  },
  {
   "cell_type": "code",
   "execution_count": 152,
   "id": "a2745b12-f350-40f2-adb9-f6c599629bb4",
   "metadata": {},
   "outputs": [
    {
     "data": {
      "text/plain": [
       "{12, 34, 45, 56, 78}"
      ]
     },
     "execution_count": 152,
     "metadata": {},
     "output_type": "execute_result"
    }
   ],
   "source": [
    "s"
   ]
  },
  {
   "cell_type": "code",
   "execution_count": 153,
   "id": "f718cf40-4c16-4573-9b4b-7125b0cc54ba",
   "metadata": {},
   "outputs": [],
   "source": [
    "s.add('A')"
   ]
  },
  {
   "cell_type": "code",
   "execution_count": 154,
   "id": "6dfecb46-9277-4ed0-a244-61cb9ada5068",
   "metadata": {},
   "outputs": [
    {
     "data": {
      "text/plain": [
       "{12, 34, 45, 56, 78, 'A'}"
      ]
     },
     "execution_count": 154,
     "metadata": {},
     "output_type": "execute_result"
    }
   ],
   "source": [
    "s"
   ]
  },
  {
   "cell_type": "code",
   "execution_count": 155,
   "id": "ded9e8ac-9357-4691-812f-dcc15543a20b",
   "metadata": {},
   "outputs": [],
   "source": [
    "s1 = frozenset(s)"
   ]
  },
  {
   "cell_type": "code",
   "execution_count": 156,
   "id": "df819cb5-ffbc-46a6-8c7f-e45e7a8471f0",
   "metadata": {},
   "outputs": [
    {
     "data": {
      "text/plain": [
       "frozenset({12, 34, 45, 56, 78, 'A'})"
      ]
     },
     "execution_count": 156,
     "metadata": {},
     "output_type": "execute_result"
    }
   ],
   "source": [
    "s1"
   ]
  },
  {
   "cell_type": "code",
   "execution_count": 157,
   "id": "c6e8340d-403d-47a6-b64f-0b3bfb844323",
   "metadata": {},
   "outputs": [
    {
     "ename": "AttributeError",
     "evalue": "'frozenset' object has no attribute 'add'",
     "output_type": "error",
     "traceback": [
      "\u001b[1;31m---------------------------------------------------------------------------\u001b[0m",
      "\u001b[1;31mAttributeError\u001b[0m                            Traceback (most recent call last)",
      "Cell \u001b[1;32mIn[157], line 1\u001b[0m\n\u001b[1;32m----> 1\u001b[0m s1\u001b[38;5;241m.\u001b[39madd(\u001b[38;5;241m2\u001b[39m)\n",
      "\u001b[1;31mAttributeError\u001b[0m: 'frozenset' object has no attribute 'add'"
     ]
    }
   ],
   "source": [
    "s1.add(2)"
   ]
  },
  {
   "cell_type": "code",
   "execution_count": 158,
   "id": "f369a8b2-15b4-48cc-9b59-ca032a279d9c",
   "metadata": {},
   "outputs": [],
   "source": [
    "# Dictionary"
   ]
  },
  {
   "cell_type": "code",
   "execution_count": 159,
   "id": "cf5261ae-ed43-4b74-ab78-81bb77b4723c",
   "metadata": {},
   "outputs": [],
   "source": [
    "d = {1: 67, 2: 89, 3: 75, 4: 72, 7: 67}"
   ]
  },
  {
   "cell_type": "code",
   "execution_count": 160,
   "id": "901fa296-e8c0-4a4d-a664-d84ae06a3fc1",
   "metadata": {},
   "outputs": [
    {
     "data": {
      "text/plain": [
       "{1: 67, 2: 89, 3: 75, 4: 72, 7: 67}"
      ]
     },
     "execution_count": 160,
     "metadata": {},
     "output_type": "execute_result"
    }
   ],
   "source": [
    "d"
   ]
  },
  {
   "cell_type": "code",
   "execution_count": 161,
   "id": "f774a6a2-a24c-4410-a0b7-5176833599b3",
   "metadata": {},
   "outputs": [
    {
     "data": {
      "text/plain": [
       "67"
      ]
     },
     "execution_count": 161,
     "metadata": {},
     "output_type": "execute_result"
    }
   ],
   "source": [
    "d[7]"
   ]
  },
  {
   "cell_type": "code",
   "execution_count": 162,
   "id": "a8989bf8-d4bd-4925-8eb2-edf9353eb124",
   "metadata": {},
   "outputs": [],
   "source": [
    "d1= {1: 67, 2: 89, 3: 75, 4: 72, 7: 67, 1: 37}"
   ]
  },
  {
   "cell_type": "code",
   "execution_count": 163,
   "id": "466c4b01-4c62-46c0-8f62-c590ffc27397",
   "metadata": {},
   "outputs": [
    {
     "data": {
      "text/plain": [
       "{1: 37, 2: 89, 3: 75, 4: 72, 7: 67}"
      ]
     },
     "execution_count": 163,
     "metadata": {},
     "output_type": "execute_result"
    }
   ],
   "source": [
    "d1  # key must be unique"
   ]
  },
  {
   "cell_type": "code",
   "execution_count": 164,
   "id": "d122cc8e-a3e3-4c7f-af59-7f6fcc92aaa2",
   "metadata": {},
   "outputs": [],
   "source": [
    "d[3] = 100"
   ]
  },
  {
   "cell_type": "code",
   "execution_count": 165,
   "id": "f5405ad9-a8d1-4128-9f35-9690d92d2f2c",
   "metadata": {},
   "outputs": [
    {
     "data": {
      "text/plain": [
       "{1: 67, 2: 89, 3: 100, 4: 72, 7: 67}"
      ]
     },
     "execution_count": 165,
     "metadata": {},
     "output_type": "execute_result"
    }
   ],
   "source": [
    "d"
   ]
  },
  {
   "cell_type": "code",
   "execution_count": 166,
   "id": "555aa104-f218-4030-8e91-43995f6f6f5d",
   "metadata": {},
   "outputs": [],
   "source": [
    "d[10] = 78"
   ]
  },
  {
   "cell_type": "code",
   "execution_count": 167,
   "id": "dddc7996-1f4e-40e8-ad0c-1dfa23f42920",
   "metadata": {},
   "outputs": [
    {
     "data": {
      "text/plain": [
       "{1: 67, 2: 89, 3: 100, 4: 72, 7: 67, 10: 78}"
      ]
     },
     "execution_count": 167,
     "metadata": {},
     "output_type": "execute_result"
    }
   ],
   "source": [
    "d"
   ]
  },
  {
   "cell_type": "code",
   "execution_count": 168,
   "id": "1bb8ff05-d2a3-4830-8647-aa7c2aeda659",
   "metadata": {},
   "outputs": [
    {
     "data": {
      "text/plain": [
       "dict_keys([1, 2, 3, 4, 7, 10])"
      ]
     },
     "execution_count": 168,
     "metadata": {},
     "output_type": "execute_result"
    }
   ],
   "source": [
    "d.keys()"
   ]
  },
  {
   "cell_type": "code",
   "execution_count": 169,
   "id": "e1f9fbb0-9f6d-4505-8755-27c8bbda2d6f",
   "metadata": {},
   "outputs": [
    {
     "data": {
      "text/plain": [
       "dict_values([67, 89, 100, 72, 67, 78])"
      ]
     },
     "execution_count": 169,
     "metadata": {},
     "output_type": "execute_result"
    }
   ],
   "source": [
    "d.values()"
   ]
  },
  {
   "cell_type": "code",
   "execution_count": null,
   "id": "6f40f0a9-a77f-4967-a13a-d188eabf07e6",
   "metadata": {},
   "outputs": [],
   "source": []
  }
 ],
 "metadata": {
  "kernelspec": {
   "display_name": "Python 3 (ipykernel)",
   "language": "python",
   "name": "python3"
  },
  "language_info": {
   "codemirror_mode": {
    "name": "ipython",
    "version": 3
   },
   "file_extension": ".py",
   "mimetype": "text/x-python",
   "name": "python",
   "nbconvert_exporter": "python",
   "pygments_lexer": "ipython3",
   "version": "3.11.7"
  }
 },
 "nbformat": 4,
 "nbformat_minor": 5
}
