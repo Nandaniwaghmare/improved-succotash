{
 "cells": [
  {
   "cell_type": "code",
   "execution_count": 1,
   "id": "ef695c42-2097-4a4b-87ff-de5bd688daad",
   "metadata": {},
   "outputs": [],
   "source": [
    "# List"
   ]
  },
  {
   "cell_type": "code",
   "execution_count": 2,
   "id": "95cae4db-a412-470b-8c1f-228aa88d7d62",
   "metadata": {},
   "outputs": [],
   "source": [
    "l = [12, 24, 34, 56, 12, 68]"
   ]
  },
  {
   "cell_type": "code",
   "execution_count": 3,
   "id": "64b243e7-7c43-42c4-8810-00b4d077d88d",
   "metadata": {},
   "outputs": [
    {
     "name": "stdout",
     "output_type": "stream",
     "text": [
      "[12, 24, 34, 56, 12, 68]\n"
     ]
    }
   ],
   "source": [
    "print(l)   # duplicates are allowed"
   ]
  },
  {
   "cell_type": "code",
   "execution_count": 4,
   "id": "567f2137-b0fc-4b42-8d74-6d831d1280a7",
   "metadata": {},
   "outputs": [
    {
     "data": {
      "text/plain": [
       "list"
      ]
     },
     "execution_count": 4,
     "metadata": {},
     "output_type": "execute_result"
    }
   ],
   "source": [
    "type(l)"
   ]
  },
  {
   "cell_type": "code",
   "execution_count": 5,
   "id": "add56d85-2361-49ac-8246-974025518a6a",
   "metadata": {},
   "outputs": [
    {
     "data": {
      "text/plain": [
       "34"
      ]
     },
     "execution_count": 5,
     "metadata": {},
     "output_type": "execute_result"
    }
   ],
   "source": [
    "# access the data\n",
    "\n",
    "l[2]   # ordered"
   ]
  },
  {
   "cell_type": "code",
   "execution_count": 6,
   "id": "1823553e-e039-4cb8-bd78-0fcc5c0d96b3",
   "metadata": {},
   "outputs": [
    {
     "data": {
      "text/plain": [
       "12"
      ]
     },
     "execution_count": 6,
     "metadata": {},
     "output_type": "execute_result"
    }
   ],
   "source": [
    "l[-2]"
   ]
  },
  {
   "cell_type": "code",
   "execution_count": 7,
   "id": "bd807f6e-51e0-4c61-8d37-4fd879f93ae8",
   "metadata": {},
   "outputs": [],
   "source": [
    "l1 = [12, 24, 34, 56, 12, 68, 45.66, 'Aditya', True]\n"
   ]
  },
  {
   "cell_type": "code",
   "execution_count": 8,
   "id": "a5abb3a0-6a56-47f9-a39f-440b36375c39",
   "metadata": {},
   "outputs": [
    {
     "name": "stdout",
     "output_type": "stream",
     "text": [
      "[12, 24, 34, 56, 12, 68, 45.66, 'Aditya', True]\n"
     ]
    }
   ],
   "source": [
    "print(l1)"
   ]
  },
  {
   "cell_type": "code",
   "execution_count": 9,
   "id": "31d3517e-1c01-4490-a222-3992e1277dd4",
   "metadata": {},
   "outputs": [
    {
     "data": {
      "text/plain": [
       "[12, 24, 34, 56, 12, 68]"
      ]
     },
     "execution_count": 9,
     "metadata": {},
     "output_type": "execute_result"
    }
   ],
   "source": [
    "# replace the data\n",
    "\n",
    "l\n"
   ]
  },
  {
   "cell_type": "code",
   "execution_count": 10,
   "id": "932fc3e7-1030-4905-85ce-37b50445bb39",
   "metadata": {},
   "outputs": [],
   "source": [
    "l[2] = 89"
   ]
  },
  {
   "cell_type": "code",
   "execution_count": 11,
   "id": "f771ec8d-3d86-4879-8913-fe2e9510f78a",
   "metadata": {},
   "outputs": [
    {
     "data": {
      "text/plain": [
       "[12, 24, 89, 56, 12, 68]"
      ]
     },
     "execution_count": 11,
     "metadata": {},
     "output_type": "execute_result"
    }
   ],
   "source": [
    "l"
   ]
  },
  {
   "cell_type": "code",
   "execution_count": 12,
   "id": "16e17508-bcad-438d-9688-2e64997692b0",
   "metadata": {},
   "outputs": [
    {
     "data": {
      "text/plain": [
       "[24, 89, 56]"
      ]
     },
     "execution_count": 12,
     "metadata": {},
     "output_type": "execute_result"
    }
   ],
   "source": [
    "# slicing\n",
    "\n",
    "l[1:4]"
   ]
  },
  {
   "cell_type": "code",
   "execution_count": 13,
   "id": "d923040c-96ed-4919-9f30-97caaebefb59",
   "metadata": {},
   "outputs": [
    {
     "data": {
      "text/plain": [
       "[12, 24, 89, 56]"
      ]
     },
     "execution_count": 13,
     "metadata": {},
     "output_type": "execute_result"
    }
   ],
   "source": [
    "l[:4]"
   ]
  },
  {
   "cell_type": "code",
   "execution_count": 14,
   "id": "ca20b1f0-c8f4-411d-a6e3-e373688ee19c",
   "metadata": {},
   "outputs": [
    {
     "data": {
      "text/plain": [
       "[24, 89, 56, 12, 68]"
      ]
     },
     "execution_count": 14,
     "metadata": {},
     "output_type": "execute_result"
    }
   ],
   "source": [
    "l[1:]"
   ]
  },
  {
   "cell_type": "code",
   "execution_count": 15,
   "id": "e0cca58e-c92f-4825-8887-03c0f5833da5",
   "metadata": {},
   "outputs": [
    {
     "data": {
      "text/plain": [
       "[12, 24, 89, 56, 12, 68]"
      ]
     },
     "execution_count": 15,
     "metadata": {},
     "output_type": "execute_result"
    }
   ],
   "source": [
    "l[:]"
   ]
  },
  {
   "cell_type": "code",
   "execution_count": 16,
   "id": "72f6428f-8d3d-4539-a2f4-bf1534dd5033",
   "metadata": {},
   "outputs": [
    {
     "data": {
      "text/plain": [
       "[12, 89, 12]"
      ]
     },
     "execution_count": 16,
     "metadata": {},
     "output_type": "execute_result"
    }
   ],
   "source": [
    "l[0:-1:2]"
   ]
  },
  {
   "cell_type": "code",
   "execution_count": 17,
   "id": "73908786-c5e7-464e-a667-11b532f9093c",
   "metadata": {},
   "outputs": [
    {
     "data": {
      "text/plain": [
       "[12, 89, 12]"
      ]
     },
     "execution_count": 17,
     "metadata": {},
     "output_type": "execute_result"
    }
   ],
   "source": [
    "l[::2]"
   ]
  },
  {
   "cell_type": "code",
   "execution_count": 18,
   "id": "94aa02ca-7605-4424-99e4-81299000bccb",
   "metadata": {},
   "outputs": [
    {
     "data": {
      "text/plain": [
       "[12, 24, 89, 56, 12, 68]"
      ]
     },
     "execution_count": 18,
     "metadata": {},
     "output_type": "execute_result"
    }
   ],
   "source": [
    "l"
   ]
  },
  {
   "cell_type": "code",
   "execution_count": 19,
   "id": "53757071-efef-417d-bfdd-df5c1e7f3a13",
   "metadata": {},
   "outputs": [],
   "source": [
    "l[1:4] = [34, 56, 78]"
   ]
  },
  {
   "cell_type": "code",
   "execution_count": 20,
   "id": "21975fec-4da6-4cd5-a6f8-3235bf0a248f",
   "metadata": {},
   "outputs": [
    {
     "data": {
      "text/plain": [
       "[12, 34, 56, 78, 12, 68]"
      ]
     },
     "execution_count": 20,
     "metadata": {},
     "output_type": "execute_result"
    }
   ],
   "source": [
    "l"
   ]
  },
  {
   "cell_type": "code",
   "execution_count": 21,
   "id": "4ddfc9db-b067-4721-ac52-5300ef5befcf",
   "metadata": {},
   "outputs": [],
   "source": [
    "l1 = [45, 67, 43]"
   ]
  },
  {
   "cell_type": "code",
   "execution_count": 23,
   "id": "76e1ffb4-09a9-4612-a41e-c4de3ad3eb5c",
   "metadata": {},
   "outputs": [],
   "source": [
    "# delete\n",
    "\n",
    "del l1"
   ]
  },
  {
   "cell_type": "code",
   "execution_count": 24,
   "id": "88f361f9-5bf5-493f-b471-936e16009db3",
   "metadata": {},
   "outputs": [
    {
     "ename": "NameError",
     "evalue": "name 'l1' is not defined",
     "output_type": "error",
     "traceback": [
      "\u001b[1;31m---------------------------------------------------------------------------\u001b[0m",
      "\u001b[1;31mNameError\u001b[0m                                 Traceback (most recent call last)",
      "Cell \u001b[1;32mIn[24], line 1\u001b[0m\n\u001b[1;32m----> 1\u001b[0m l1\n",
      "\u001b[1;31mNameError\u001b[0m: name 'l1' is not defined"
     ]
    }
   ],
   "source": [
    "l1"
   ]
  },
  {
   "cell_type": "code",
   "execution_count": 44,
   "id": "66903597-139c-4547-b64c-41596ee8bb9d",
   "metadata": {},
   "outputs": [
    {
     "data": {
      "text/plain": [
       "[12, 34, 56, 78, 12, 68]"
      ]
     },
     "execution_count": 44,
     "metadata": {},
     "output_type": "execute_result"
    }
   ],
   "source": [
    "l"
   ]
  },
  {
   "cell_type": "code",
   "execution_count": 45,
   "id": "ad1688e0-05bf-4de6-aee8-85e07ab26566",
   "metadata": {},
   "outputs": [
    {
     "data": {
      "text/plain": [
       "True"
      ]
     },
     "execution_count": 45,
     "metadata": {},
     "output_type": "execute_result"
    }
   ],
   "source": [
    "# in operator\n",
    "\n",
    "12 in l"
   ]
  },
  {
   "cell_type": "code",
   "execution_count": 46,
   "id": "b4538769-3af9-4a28-8d5d-4ee701c82c8a",
   "metadata": {},
   "outputs": [
    {
     "data": {
      "text/plain": [
       "False"
      ]
     },
     "execution_count": 46,
     "metadata": {},
     "output_type": "execute_result"
    }
   ],
   "source": [
    "100 in l"
   ]
  },
  {
   "cell_type": "code",
   "execution_count": 47,
   "id": "ddc6f4f5-ebe6-4f9e-8292-9d86a50a7764",
   "metadata": {},
   "outputs": [
    {
     "data": {
      "text/plain": [
       "True"
      ]
     },
     "execution_count": 47,
     "metadata": {},
     "output_type": "execute_result"
    }
   ],
   "source": [
    "1 not in l"
   ]
  },
  {
   "cell_type": "code",
   "execution_count": 29,
   "id": "076b7c1f-abe1-4223-98c7-e7d2512bd2c1",
   "metadata": {},
   "outputs": [],
   "source": [
    "# arithmetic operations"
   ]
  },
  {
   "cell_type": "code",
   "execution_count": 48,
   "id": "ee4d6d14-0426-4ed0-9a0e-0f22901327fe",
   "metadata": {},
   "outputs": [
    {
     "data": {
      "text/plain": [
       "[12, 34, 56, 78, 12, 68]"
      ]
     },
     "execution_count": 48,
     "metadata": {},
     "output_type": "execute_result"
    }
   ],
   "source": [
    "l"
   ]
  },
  {
   "cell_type": "code",
   "execution_count": 49,
   "id": "999c58bb-ddac-4d4f-b6b8-21cf015ea5ed",
   "metadata": {},
   "outputs": [
    {
     "data": {
      "text/plain": [
       "[12, 34, 56, 78, 12, 68, 12, 34, 56, 78, 12, 68]"
      ]
     },
     "execution_count": 49,
     "metadata": {},
     "output_type": "execute_result"
    }
   ],
   "source": [
    "l * 2"
   ]
  },
  {
   "cell_type": "code",
   "execution_count": 50,
   "id": "bdb6e998-30e2-4df5-a55b-b8ae1e0b6328",
   "metadata": {},
   "outputs": [
    {
     "data": {
      "text/plain": [
       "[12, 34, 56, 78, 12, 68, 1000, 79]"
      ]
     },
     "execution_count": 50,
     "metadata": {},
     "output_type": "execute_result"
    }
   ],
   "source": [
    "l + [1000, 79]"
   ]
  },
  {
   "cell_type": "code",
   "execution_count": 33,
   "id": "245d5cc8-4759-4889-bd7d-7235a521e4bf",
   "metadata": {},
   "outputs": [],
   "source": [
    "l1 = [1, 2, 3, 4, 5]"
   ]
  },
  {
   "cell_type": "code",
   "execution_count": 34,
   "id": "cf137f55-b569-4fcb-bbe3-412cb568651a",
   "metadata": {},
   "outputs": [
    {
     "data": {
      "text/plain": [
       "[12, 34, 56, 78, 12, 68, 1, 2, 3, 4, 5]"
      ]
     },
     "execution_count": 34,
     "metadata": {},
     "output_type": "execute_result"
    }
   ],
   "source": [
    "l + l1"
   ]
  },
  {
   "cell_type": "code",
   "execution_count": 35,
   "id": "58c123dc-683e-450c-b9bc-f5e72f58108f",
   "metadata": {},
   "outputs": [
    {
     "data": {
      "text/plain": [
       "[12, 34, 56, 78, 12, 68]"
      ]
     },
     "execution_count": 35,
     "metadata": {},
     "output_type": "execute_result"
    }
   ],
   "source": [
    "l"
   ]
  },
  {
   "cell_type": "code",
   "execution_count": 36,
   "id": "b63da83e-72a2-43b4-8cc8-246edf8d8057",
   "metadata": {},
   "outputs": [
    {
     "name": "stdout",
     "output_type": "stream",
     "text": [
      "12\n",
      "34\n",
      "56\n",
      "78\n",
      "12\n",
      "68\n"
     ]
    }
   ],
   "source": [
    "# iterating over a list\n",
    "\n",
    "for n in l:\n",
    "    print(n)"
   ]
  },
  {
   "cell_type": "code",
   "execution_count": 37,
   "id": "83cee200-9114-4fc1-b990-3ce1657b1851",
   "metadata": {},
   "outputs": [
    {
     "name": "stdout",
     "output_type": "stream",
     "text": [
      "144 1156 3136 6084 144 4624 "
     ]
    }
   ],
   "source": [
    "for n in l:\n",
    "    print(n*n, end = ' ')"
   ]
  },
  {
   "cell_type": "code",
   "execution_count": 38,
   "id": "2f710e62-a49b-4d32-acd8-7226c20d4158",
   "metadata": {},
   "outputs": [
    {
     "data": {
      "text/plain": [
       "[12, 34, 56, 78, 12, 68]"
      ]
     },
     "execution_count": 38,
     "metadata": {},
     "output_type": "execute_result"
    }
   ],
   "source": [
    "l"
   ]
  },
  {
   "cell_type": "code",
   "execution_count": 51,
   "id": "287c7b5e-e49f-48c3-82ae-0d0ba6ebf305",
   "metadata": {},
   "outputs": [],
   "source": [
    "for n in l:\n",
    "    if n % 2 == 1:\n",
    "        print(n)"
   ]
  },
  {
   "cell_type": "code",
   "execution_count": 52,
   "id": "c7ebc2a5-d6b7-4542-991c-5c5aab9ab40a",
   "metadata": {},
   "outputs": [],
   "source": [
    "# List comprehension"
   ]
  },
  {
   "cell_type": "code",
   "execution_count": 53,
   "id": "bfeecf1f-6b71-4074-8fed-9145945cc098",
   "metadata": {},
   "outputs": [],
   "source": [
    "# map\n",
    "\n",
    "li = [n/2 for n in l]"
   ]
  },
  {
   "cell_type": "code",
   "execution_count": 54,
   "id": "dc384567-8024-4f53-ab7f-af408f585d05",
   "metadata": {},
   "outputs": [
    {
     "data": {
      "text/plain": [
       "[6.0, 17.0, 28.0, 39.0, 6.0, 34.0]"
      ]
     },
     "execution_count": 54,
     "metadata": {},
     "output_type": "execute_result"
    }
   ],
   "source": [
    "li"
   ]
  },
  {
   "cell_type": "code",
   "execution_count": 55,
   "id": "d4bd815e-fae1-4749-8146-ca2156e09195",
   "metadata": {},
   "outputs": [
    {
     "data": {
      "text/plain": [
       "[144, 1156, 3136, 6084, 144, 4624]"
      ]
     },
     "execution_count": 55,
     "metadata": {},
     "output_type": "execute_result"
    }
   ],
   "source": [
    "[n*n for n in l]"
   ]
  },
  {
   "cell_type": "code",
   "execution_count": 56,
   "id": "cc4bd5a2-3129-44db-b1e7-a0d998c07b57",
   "metadata": {},
   "outputs": [
    {
     "data": {
      "text/plain": [
       "[]"
      ]
     },
     "execution_count": 56,
     "metadata": {},
     "output_type": "execute_result"
    }
   ],
   "source": [
    "# filter\n",
    "\n",
    "[n for n in l if n % 2 == 1]\n"
   ]
  },
  {
   "cell_type": "code",
   "execution_count": 57,
   "id": "18f38f5d-339c-4be7-8bdc-81ac144d5a66",
   "metadata": {},
   "outputs": [
    {
     "data": {
      "text/plain": [
       "[12, 34, 56, 78, 12, 68]"
      ]
     },
     "execution_count": 57,
     "metadata": {},
     "output_type": "execute_result"
    }
   ],
   "source": [
    "l"
   ]
  },
  {
   "cell_type": "code",
   "execution_count": 58,
   "id": "22ba6e4b-d909-4ce8-94bc-dd6512957881",
   "metadata": {},
   "outputs": [
    {
     "data": {
      "text/plain": [
       "[12, 78, 12]"
      ]
     },
     "execution_count": 58,
     "metadata": {},
     "output_type": "execute_result"
    }
   ],
   "source": [
    "[n for n in l if n % 3 == 0]"
   ]
  },
  {
   "cell_type": "code",
   "execution_count": 59,
   "id": "ab91a649-aaa8-46c6-aad6-19eccd0bed25",
   "metadata": {},
   "outputs": [],
   "source": [
    "names = ['priya', 'pranali','sakshi', 'dnyaneshwari','sakshi',\n",
    "         'amruta', 'sanika', 'sneha', 'pranali']"
   ]
  },
  {
   "cell_type": "code",
   "execution_count": 60,
   "id": "30c017ff-876b-439e-b6ec-49cd476ab831",
   "metadata": {},
   "outputs": [
    {
     "data": {
      "text/plain": [
       "['sakshi', 'sakshi', 'sanika', 'sneha']"
      ]
     },
     "execution_count": 60,
     "metadata": {},
     "output_type": "execute_result"
    }
   ],
   "source": [
    "# create a new list consisting of names starting with 's'\n",
    "\n",
    "[s for s in names if s.startswith('s')]"
   ]
  },
  {
   "cell_type": "code",
   "execution_count": 61,
   "id": "c6800383-95eb-4ce8-8232-eab74286b334",
   "metadata": {},
   "outputs": [
    {
     "data": {
      "text/plain": [
       "['Priya',\n",
       " 'Pranali',\n",
       " 'Sakshi',\n",
       " 'Dnyaneshwari',\n",
       " 'Sakshi',\n",
       " 'Amruta',\n",
       " 'Sanika',\n",
       " 'Sneha',\n",
       " 'Pranali']"
      ]
     },
     "execution_count": 61,
     "metadata": {},
     "output_type": "execute_result"
    }
   ],
   "source": [
    "# create a new list consisting of all the names in title case\n",
    "\n",
    "[s.title() for s in names]\n"
   ]
  },
  {
   "cell_type": "code",
   "execution_count": 62,
   "id": "bb1fb615-cd72-4a10-b37e-c51af76e03d6",
   "metadata": {},
   "outputs": [],
   "source": [
    "# empty list\n",
    "\n",
    "e = []"
   ]
  },
  {
   "cell_type": "code",
   "execution_count": 63,
   "id": "b7383a2e-657a-4c00-8a94-4ea877f322ca",
   "metadata": {},
   "outputs": [
    {
     "data": {
      "text/plain": [
       "list"
      ]
     },
     "execution_count": 63,
     "metadata": {},
     "output_type": "execute_result"
    }
   ],
   "source": [
    "type(e)"
   ]
  },
  {
   "cell_type": "code",
   "execution_count": 64,
   "id": "81f4287b-03d4-41f5-9f0d-ecca9f563171",
   "metadata": {},
   "outputs": [
    {
     "data": {
      "text/plain": [
       "[]"
      ]
     },
     "execution_count": 64,
     "metadata": {},
     "output_type": "execute_result"
    }
   ],
   "source": [
    "e"
   ]
  },
  {
   "cell_type": "code",
   "execution_count": 65,
   "id": "cec6a5f7-53fe-402f-96c0-4e937ddbf94b",
   "metadata": {},
   "outputs": [
    {
     "ename": "IndexError",
     "evalue": "list index out of range",
     "output_type": "error",
     "traceback": [
      "\u001b[1;31m---------------------------------------------------------------------------\u001b[0m",
      "\u001b[1;31mIndexError\u001b[0m                                Traceback (most recent call last)",
      "Cell \u001b[1;32mIn[65], line 1\u001b[0m\n\u001b[1;32m----> 1\u001b[0m e[\u001b[38;5;241m0\u001b[39m]\n",
      "\u001b[1;31mIndexError\u001b[0m: list index out of range"
     ]
    }
   ],
   "source": [
    "e[0]"
   ]
  },
  {
   "cell_type": "code",
   "execution_count": 66,
   "id": "d4367523-c4f2-4b2f-b0d6-b0204a0ab63d",
   "metadata": {},
   "outputs": [],
   "source": [
    "# decompose the list"
   ]
  },
  {
   "cell_type": "code",
   "execution_count": 67,
   "id": "87070fed-eb22-4eeb-a2a5-a6cccf1ded24",
   "metadata": {},
   "outputs": [],
   "source": [
    "mylist = [12, 34, 52]"
   ]
  },
  {
   "cell_type": "code",
   "execution_count": 68,
   "id": "3345b77a-2da5-4c7f-a413-0c4c68e24d90",
   "metadata": {},
   "outputs": [],
   "source": [
    "x, y, z = mylist"
   ]
  },
  {
   "cell_type": "code",
   "execution_count": 69,
   "id": "556f442d-b5a8-4356-a811-e9042f57c808",
   "metadata": {},
   "outputs": [
    {
     "data": {
      "text/plain": [
       "12"
      ]
     },
     "execution_count": 69,
     "metadata": {},
     "output_type": "execute_result"
    }
   ],
   "source": [
    "x"
   ]
  },
  {
   "cell_type": "code",
   "execution_count": 70,
   "id": "49ae0232-f3fa-4d1d-9a3e-381362ce8527",
   "metadata": {},
   "outputs": [
    {
     "data": {
      "text/plain": [
       "52"
      ]
     },
     "execution_count": 70,
     "metadata": {},
     "output_type": "execute_result"
    }
   ],
   "source": [
    "z"
   ]
  },
  {
   "cell_type": "code",
   "execution_count": 71,
   "id": "70bb2762-0420-421c-b49b-c8c3a6326027",
   "metadata": {},
   "outputs": [
    {
     "data": {
      "text/plain": [
       "34"
      ]
     },
     "execution_count": 71,
     "metadata": {},
     "output_type": "execute_result"
    }
   ],
   "source": [
    "y"
   ]
  },
  {
   "cell_type": "code",
   "execution_count": 72,
   "id": "1f251447-9f18-4188-a0d1-18ad3a64918e",
   "metadata": {},
   "outputs": [],
   "source": [
    "# functions on list"
   ]
  },
  {
   "cell_type": "code",
   "execution_count": 73,
   "id": "4856ac72-99f5-4269-a769-6b5aaf902e55",
   "metadata": {},
   "outputs": [
    {
     "data": {
      "text/plain": [
       "[12, 34, 56, 78, 12, 68]"
      ]
     },
     "execution_count": 73,
     "metadata": {},
     "output_type": "execute_result"
    }
   ],
   "source": [
    "l"
   ]
  },
  {
   "cell_type": "code",
   "execution_count": 74,
   "id": "31843383-0594-431a-b9ff-9b92a1572271",
   "metadata": {},
   "outputs": [
    {
     "data": {
      "text/plain": [
       "6"
      ]
     },
     "execution_count": 74,
     "metadata": {},
     "output_type": "execute_result"
    }
   ],
   "source": [
    "len(l)"
   ]
  },
  {
   "cell_type": "code",
   "execution_count": 75,
   "id": "8f736c1f-8b0e-401e-950e-f7a052191c2a",
   "metadata": {},
   "outputs": [
    {
     "data": {
      "text/plain": [
       "78"
      ]
     },
     "execution_count": 75,
     "metadata": {},
     "output_type": "execute_result"
    }
   ],
   "source": [
    "max(l)"
   ]
  },
  {
   "cell_type": "code",
   "execution_count": 76,
   "id": "bcea78d4-7d27-4127-967d-1d8f2aa74e7f",
   "metadata": {},
   "outputs": [
    {
     "data": {
      "text/plain": [
       "260"
      ]
     },
     "execution_count": 76,
     "metadata": {},
     "output_type": "execute_result"
    }
   ],
   "source": [
    "sum(l)"
   ]
  },
  {
   "cell_type": "code",
   "execution_count": 77,
   "id": "960004fc-3d5f-40b9-bab8-8aea3287dfec",
   "metadata": {},
   "outputs": [
    {
     "data": {
      "text/plain": [
       "[12, 12, 34, 56, 68, 78]"
      ]
     },
     "execution_count": 77,
     "metadata": {},
     "output_type": "execute_result"
    }
   ],
   "source": [
    "sorted(l)"
   ]
  },
  {
   "cell_type": "code",
   "execution_count": 78,
   "id": "70c258bf-ee4f-4c81-bf1d-8bbe5b307870",
   "metadata": {},
   "outputs": [
    {
     "data": {
      "text/plain": [
       "[78, 68, 56, 34, 12, 12]"
      ]
     },
     "execution_count": 78,
     "metadata": {},
     "output_type": "execute_result"
    }
   ],
   "source": [
    "sorted(l, reverse= True)"
   ]
  },
  {
   "cell_type": "code",
   "execution_count": 79,
   "id": "756da0db-36bd-4e94-9d54-2737ac90da52",
   "metadata": {},
   "outputs": [],
   "source": [
    "name = 'Pranali'"
   ]
  },
  {
   "cell_type": "code",
   "execution_count": 80,
   "id": "7a126397-9bd9-4e17-9892-9e3674f12d25",
   "metadata": {},
   "outputs": [
    {
     "data": {
      "text/plain": [
       "['P', 'r', 'a', 'n', 'a', 'l', 'i']"
      ]
     },
     "execution_count": 80,
     "metadata": {},
     "output_type": "execute_result"
    }
   ],
   "source": [
    "list(name)"
   ]
  },
  {
   "cell_type": "code",
   "execution_count": 81,
   "id": "812ac92f-eebb-4b47-932c-c8a43c488f9d",
   "metadata": {},
   "outputs": [],
   "source": [
    "# methods on list"
   ]
  },
  {
   "cell_type": "code",
   "execution_count": 82,
   "id": "b14fa1d8-3159-4292-b5ed-bbba568e0155",
   "metadata": {},
   "outputs": [
    {
     "data": {
      "text/plain": [
       "[12, 34, 56, 78, 12, 68]"
      ]
     },
     "execution_count": 82,
     "metadata": {},
     "output_type": "execute_result"
    }
   ],
   "source": [
    "l"
   ]
  },
  {
   "cell_type": "code",
   "execution_count": 83,
   "id": "f8644a20-4ef3-4bba-affa-74ecc7e929cc",
   "metadata": {},
   "outputs": [],
   "source": [
    "# append\n",
    "\n",
    "l.append(100)"
   ]
  },
  {
   "cell_type": "code",
   "execution_count": 84,
   "id": "9cf4baaf-0fe4-492d-873a-09c5fc98a577",
   "metadata": {},
   "outputs": [
    {
     "data": {
      "text/plain": [
       "[12, 34, 56, 78, 12, 68, 100]"
      ]
     },
     "execution_count": 84,
     "metadata": {},
     "output_type": "execute_result"
    }
   ],
   "source": [
    "l"
   ]
  },
  {
   "cell_type": "code",
   "execution_count": 85,
   "id": "1635b7e4-b64f-4e31-89b3-19389fd6d532",
   "metadata": {},
   "outputs": [],
   "source": [
    "# append and extend\n",
    "\n",
    "x = [12, 23, 34]\n",
    "y = [12, 23, 34]"
   ]
  },
  {
   "cell_type": "code",
   "execution_count": 86,
   "id": "3b0cdc40-f7c4-4fd8-83d4-879803529ef4",
   "metadata": {},
   "outputs": [],
   "source": [
    "x.append([45, 67])\n",
    "y.extend([45, 67])"
   ]
  },
  {
   "cell_type": "code",
   "execution_count": 87,
   "id": "931c9e69-6275-4bd4-8c50-881ff88863ad",
   "metadata": {},
   "outputs": [
    {
     "data": {
      "text/plain": [
       "[12, 23, 34, [45, 67]]"
      ]
     },
     "execution_count": 87,
     "metadata": {},
     "output_type": "execute_result"
    }
   ],
   "source": [
    "x"
   ]
  },
  {
   "cell_type": "code",
   "execution_count": 88,
   "id": "6f82e7ff-bae8-4feb-a204-f378c1c089a3",
   "metadata": {},
   "outputs": [
    {
     "data": {
      "text/plain": [
       "[12, 23, 34, 45, 67]"
      ]
     },
     "execution_count": 88,
     "metadata": {},
     "output_type": "execute_result"
    }
   ],
   "source": [
    "y"
   ]
  },
  {
   "cell_type": "code",
   "execution_count": 89,
   "id": "02783adc-2862-4341-bc0f-b70dae13ab83",
   "metadata": {},
   "outputs": [
    {
     "data": {
      "text/plain": [
       "[45, 67]"
      ]
     },
     "execution_count": 89,
     "metadata": {},
     "output_type": "execute_result"
    }
   ],
   "source": [
    "x[3]"
   ]
  },
  {
   "cell_type": "code",
   "execution_count": 90,
   "id": "067a4f81-c059-4d56-9327-46e4c0c57526",
   "metadata": {},
   "outputs": [
    {
     "data": {
      "text/plain": [
       "67"
      ]
     },
     "execution_count": 90,
     "metadata": {},
     "output_type": "execute_result"
    }
   ],
   "source": [
    "x[3][1]"
   ]
  },
  {
   "cell_type": "code",
   "execution_count": 91,
   "id": "48ae513c-ed41-4fe7-a0bf-78a5ddbce4b1",
   "metadata": {},
   "outputs": [
    {
     "data": {
      "text/plain": [
       "[12, 34, 56, 78, 12, 68, 100]"
      ]
     },
     "execution_count": 91,
     "metadata": {},
     "output_type": "execute_result"
    }
   ],
   "source": [
    "l"
   ]
  },
  {
   "cell_type": "code",
   "execution_count": 92,
   "id": "b442d5df-b40e-42be-a874-eb2857683950",
   "metadata": {},
   "outputs": [],
   "source": [
    "# insert\n",
    "\n",
    "l.insert(2, 177)\n"
   ]
  },
  {
   "cell_type": "code",
   "execution_count": 93,
   "id": "0f6a1b1d-51c9-4692-92f0-c57cd414e996",
   "metadata": {},
   "outputs": [
    {
     "data": {
      "text/plain": [
       "[12, 34, 177, 56, 78, 12, 68, 100]"
      ]
     },
     "execution_count": 93,
     "metadata": {},
     "output_type": "execute_result"
    }
   ],
   "source": [
    "l"
   ]
  },
  {
   "cell_type": "code",
   "execution_count": 94,
   "id": "f17336f2-55e0-460b-aca3-6ca1a1733264",
   "metadata": {},
   "outputs": [],
   "source": [
    "# remove\n",
    "\n",
    "l.remove(177)"
   ]
  },
  {
   "cell_type": "code",
   "execution_count": 95,
   "id": "05bf25f3-f15e-451e-9eef-a1088a7aea6f",
   "metadata": {},
   "outputs": [
    {
     "data": {
      "text/plain": [
       "[12, 34, 56, 78, 12, 68, 100]"
      ]
     },
     "execution_count": 95,
     "metadata": {},
     "output_type": "execute_result"
    }
   ],
   "source": [
    "l"
   ]
  },
  {
   "cell_type": "code",
   "execution_count": 96,
   "id": "e9e3b319-4255-4555-957a-461dd249515a",
   "metadata": {},
   "outputs": [
    {
     "data": {
      "text/plain": [
       "2"
      ]
     },
     "execution_count": 96,
     "metadata": {},
     "output_type": "execute_result"
    }
   ],
   "source": [
    "l.count(12)"
   ]
  },
  {
   "cell_type": "code",
   "execution_count": 97,
   "id": "1a7f02f9-9f95-4c2c-9460-96db0d25d320",
   "metadata": {},
   "outputs": [
    {
     "data": {
      "text/plain": [
       "2"
      ]
     },
     "execution_count": 97,
     "metadata": {},
     "output_type": "execute_result"
    }
   ],
   "source": [
    "l.index(56)"
   ]
  },
  {
   "cell_type": "code",
   "execution_count": 98,
   "id": "cab99816-e553-4635-a07d-76d35926d6dc",
   "metadata": {},
   "outputs": [
    {
     "data": {
      "text/plain": [
       "100"
      ]
     },
     "execution_count": 98,
     "metadata": {},
     "output_type": "execute_result"
    }
   ],
   "source": [
    "# pop/delete\n",
    "\n",
    "l.pop()"
   ]
  },
  {
   "cell_type": "code",
   "execution_count": 99,
   "id": "39eb44c3-e54d-477c-8350-487b7d0ba0e6",
   "metadata": {},
   "outputs": [
    {
     "data": {
      "text/plain": [
       "[12, 34, 56, 78, 12, 68]"
      ]
     },
     "execution_count": 99,
     "metadata": {},
     "output_type": "execute_result"
    }
   ],
   "source": [
    "l"
   ]
  },
  {
   "cell_type": "code",
   "execution_count": 100,
   "id": "c3f1bc7a-7338-4a74-b46b-ad9bdc2daf3d",
   "metadata": {},
   "outputs": [
    {
     "data": {
      "text/plain": [
       "78"
      ]
     },
     "execution_count": 100,
     "metadata": {},
     "output_type": "execute_result"
    }
   ],
   "source": [
    "l.pop(3)"
   ]
  },
  {
   "cell_type": "code",
   "execution_count": 101,
   "id": "f42c248e-ac82-4c3a-b843-0ed2e2515612",
   "metadata": {},
   "outputs": [
    {
     "data": {
      "text/plain": [
       "[12, 34, 56, 12, 68]"
      ]
     },
     "execution_count": 101,
     "metadata": {},
     "output_type": "execute_result"
    }
   ],
   "source": [
    "l"
   ]
  },
  {
   "cell_type": "code",
   "execution_count": 102,
   "id": "384678b2-a79f-4894-854c-caa24189ea67",
   "metadata": {},
   "outputs": [],
   "source": [
    "l.reverse()"
   ]
  },
  {
   "cell_type": "code",
   "execution_count": 103,
   "id": "924901b1-ea16-48a2-820f-643611d5cb95",
   "metadata": {},
   "outputs": [
    {
     "data": {
      "text/plain": [
       "[68, 12, 56, 34, 12]"
      ]
     },
     "execution_count": 103,
     "metadata": {},
     "output_type": "execute_result"
    }
   ],
   "source": [
    "l"
   ]
  },
  {
   "cell_type": "code",
   "execution_count": 104,
   "id": "c3a4ef46-f4c0-455c-88ac-071826ce5035",
   "metadata": {},
   "outputs": [],
   "source": [
    "l.sort()"
   ]
  },
  {
   "cell_type": "code",
   "execution_count": 105,
   "id": "2bfdb4c5-24a8-46c1-b48c-83b2caa5c91f",
   "metadata": {},
   "outputs": [
    {
     "data": {
      "text/plain": [
       "[12, 12, 34, 56, 68]"
      ]
     },
     "execution_count": 105,
     "metadata": {},
     "output_type": "execute_result"
    }
   ],
   "source": [
    "l"
   ]
  },
  {
   "cell_type": "code",
   "execution_count": 106,
   "id": "cb5c6121-2d7d-4905-8103-461b6b585cad",
   "metadata": {},
   "outputs": [],
   "source": [
    "# shallow copy"
   ]
  },
  {
   "cell_type": "code",
   "execution_count": 107,
   "id": "a1e3e7c0-1d30-4e6d-9d8c-82fcea75cdd9",
   "metadata": {},
   "outputs": [],
   "source": [
    "l1 = [34, 56, 78]"
   ]
  },
  {
   "cell_type": "code",
   "execution_count": 108,
   "id": "06b7dac0-57f0-424c-8380-0cc37f842119",
   "metadata": {},
   "outputs": [],
   "source": [
    "l2 = l1"
   ]
  },
  {
   "cell_type": "code",
   "execution_count": 109,
   "id": "6b89c152-95e6-405b-8f31-bb2baed4de56",
   "metadata": {},
   "outputs": [
    {
     "data": {
      "text/plain": [
       "[34, 56, 78]"
      ]
     },
     "execution_count": 109,
     "metadata": {},
     "output_type": "execute_result"
    }
   ],
   "source": [
    "l2"
   ]
  },
  {
   "cell_type": "code",
   "execution_count": 110,
   "id": "58b782ae-dcb5-4dd5-b961-dd938f662664",
   "metadata": {},
   "outputs": [],
   "source": [
    "l1.append(100)"
   ]
  },
  {
   "cell_type": "code",
   "execution_count": 111,
   "id": "6efb40a4-d324-491c-b9aa-02c8acf2db5d",
   "metadata": {},
   "outputs": [
    {
     "data": {
      "text/plain": [
       "[34, 56, 78, 100]"
      ]
     },
     "execution_count": 111,
     "metadata": {},
     "output_type": "execute_result"
    }
   ],
   "source": [
    "l1"
   ]
  },
  {
   "cell_type": "code",
   "execution_count": 112,
   "id": "3dc74737-4f5d-4b40-9f3b-8bfd0a83f37d",
   "metadata": {},
   "outputs": [
    {
     "data": {
      "text/plain": [
       "[34, 56, 78, 100]"
      ]
     },
     "execution_count": 112,
     "metadata": {},
     "output_type": "execute_result"
    }
   ],
   "source": [
    "l2"
   ]
  },
  {
   "cell_type": "code",
   "execution_count": 113,
   "id": "a7096840-5c1b-4147-9c2e-de88a0b180a4",
   "metadata": {},
   "outputs": [],
   "source": [
    "l1.append([45, 67])"
   ]
  },
  {
   "cell_type": "code",
   "execution_count": 114,
   "id": "c75e6c79-61c3-458a-86ed-de5762b54471",
   "metadata": {},
   "outputs": [
    {
     "data": {
      "text/plain": [
       "[34, 56, 78, 100, [45, 67]]"
      ]
     },
     "execution_count": 114,
     "metadata": {},
     "output_type": "execute_result"
    }
   ],
   "source": [
    "l1"
   ]
  },
  {
   "cell_type": "code",
   "execution_count": 115,
   "id": "0fb7d1cb-8215-4806-afc0-661f4ef0c0dc",
   "metadata": {},
   "outputs": [
    {
     "data": {
      "text/plain": [
       "[34, 56, 78, 100, [45, 67]]"
      ]
     },
     "execution_count": 115,
     "metadata": {},
     "output_type": "execute_result"
    }
   ],
   "source": [
    "l2"
   ]
  },
  {
   "cell_type": "code",
   "execution_count": 116,
   "id": "62ff7453-afc7-4825-9714-8bb25dae2997",
   "metadata": {},
   "outputs": [],
   "source": [
    "###"
   ]
  },
  {
   "cell_type": "code",
   "execution_count": 117,
   "id": "2f8cc18d-c018-4527-ad93-de3bb76cf83e",
   "metadata": {},
   "outputs": [],
   "source": [
    "l3 = [45, 56, 67]"
   ]
  },
  {
   "cell_type": "code",
   "execution_count": 118,
   "id": "ca6320d3-4633-49d4-8ac3-93efe8e15ffd",
   "metadata": {},
   "outputs": [],
   "source": [
    "l4 = l3.copy()"
   ]
  },
  {
   "cell_type": "code",
   "execution_count": 119,
   "id": "b4aaecd4-b743-4988-8b75-367f1de80b49",
   "metadata": {},
   "outputs": [
    {
     "data": {
      "text/plain": [
       "[45, 56, 67]"
      ]
     },
     "execution_count": 119,
     "metadata": {},
     "output_type": "execute_result"
    }
   ],
   "source": [
    "l4"
   ]
  },
  {
   "cell_type": "code",
   "execution_count": 120,
   "id": "415452d4-b947-4a2e-a786-777b2585d51f",
   "metadata": {},
   "outputs": [],
   "source": [
    "l3.append(1000)"
   ]
  },
  {
   "cell_type": "code",
   "execution_count": 121,
   "id": "1ae1aae4-6625-47c8-ad13-5af411db0431",
   "metadata": {},
   "outputs": [
    {
     "data": {
      "text/plain": [
       "[45, 56, 67, 1000]"
      ]
     },
     "execution_count": 121,
     "metadata": {},
     "output_type": "execute_result"
    }
   ],
   "source": [
    "l3"
   ]
  },
  {
   "cell_type": "code",
   "execution_count": 122,
   "id": "6daa9fff-d564-411a-982f-73df02aaef7e",
   "metadata": {},
   "outputs": [
    {
     "data": {
      "text/plain": [
       "[45, 56, 67]"
      ]
     },
     "execution_count": 122,
     "metadata": {},
     "output_type": "execute_result"
    }
   ],
   "source": [
    "l4"
   ]
  },
  {
   "cell_type": "code",
   "execution_count": 123,
   "id": "8e560896-6eeb-49b5-9611-7c6518159b2c",
   "metadata": {},
   "outputs": [],
   "source": [
    "l3 = [45, 56, 67, [34, 59]]"
   ]
  },
  {
   "cell_type": "code",
   "execution_count": 124,
   "id": "8b7dbe1c-357a-4bd1-b650-8763f4386c37",
   "metadata": {},
   "outputs": [],
   "source": [
    "l4 = l3.copy()"
   ]
  },
  {
   "cell_type": "code",
   "execution_count": 125,
   "id": "25411445-b115-411f-a46b-db0e80624f90",
   "metadata": {},
   "outputs": [],
   "source": [
    "l3.append(100)"
   ]
  },
  {
   "cell_type": "code",
   "execution_count": 126,
   "id": "d649909e-d53e-4085-a559-1b3653778020",
   "metadata": {},
   "outputs": [
    {
     "data": {
      "text/plain": [
       "[45, 56, 67, [34, 59], 100]"
      ]
     },
     "execution_count": 126,
     "metadata": {},
     "output_type": "execute_result"
    }
   ],
   "source": [
    "l3"
   ]
  },
  {
   "cell_type": "code",
   "execution_count": 127,
   "id": "41b554dc-02f0-4d98-81d4-e22b2b283162",
   "metadata": {},
   "outputs": [
    {
     "data": {
      "text/plain": [
       "[45, 56, 67, [34, 59]]"
      ]
     },
     "execution_count": 127,
     "metadata": {},
     "output_type": "execute_result"
    }
   ],
   "source": [
    "l4"
   ]
  },
  {
   "cell_type": "code",
   "execution_count": 131,
   "id": "157b1ce7-f4e1-448c-98c1-d71307150d28",
   "metadata": {},
   "outputs": [],
   "source": [
    "l3[3].append('sanika')"
   ]
  },
  {
   "cell_type": "code",
   "execution_count": 132,
   "id": "9ea0000e-c0a4-47d4-a367-669436322608",
   "metadata": {},
   "outputs": [
    {
     "data": {
      "text/plain": [
       "[45, 56, 67, [34, 59, 'sanika', 'sanika', 'sanika', 'sanika'], 100]"
      ]
     },
     "execution_count": 132,
     "metadata": {},
     "output_type": "execute_result"
    }
   ],
   "source": [
    "l3"
   ]
  },
  {
   "cell_type": "code",
   "execution_count": 133,
   "id": "64bad6c5-ad16-47f2-8b50-54cc795d4744",
   "metadata": {},
   "outputs": [
    {
     "data": {
      "text/plain": [
       "[45, 56, 67, [34, 59, 'sanika', 'sanika', 'sanika', 'sanika']]"
      ]
     },
     "execution_count": 133,
     "metadata": {},
     "output_type": "execute_result"
    }
   ],
   "source": [
    "l4"
   ]
  },
  {
   "cell_type": "code",
   "execution_count": 134,
   "id": "def09ab9-d25d-4319-a504-177736e18de0",
   "metadata": {},
   "outputs": [
    {
     "data": {
      "text/plain": [
       "[12, 12, 34, 56, 68]"
      ]
     },
     "execution_count": 134,
     "metadata": {},
     "output_type": "execute_result"
    }
   ],
   "source": [
    "l"
   ]
  },
  {
   "cell_type": "code",
   "execution_count": 135,
   "id": "58516a78-9280-4666-9a4f-c0ab05612f6b",
   "metadata": {},
   "outputs": [
    {
     "name": "stdout",
     "output_type": "stream",
     "text": [
      "0 12\n",
      "0 12\n",
      "2 34\n",
      "3 56\n",
      "4 68\n"
     ]
    }
   ],
   "source": [
    "# iterate over a list and print index as well as value\n",
    "\n",
    "for n in l:\n",
    "    print(l.index(n), n)"
   ]
  },
  {
   "cell_type": "code",
   "execution_count": 136,
   "id": "e5352c10-7add-42a9-9829-815b090436e7",
   "metadata": {},
   "outputs": [
    {
     "name": "stdout",
     "output_type": "stream",
     "text": [
      "0 12\n",
      "1 12\n",
      "2 34\n",
      "3 56\n",
      "4 68\n"
     ]
    }
   ],
   "source": [
    "for index, n in enumerate(l):\n",
    "    print(index, n)"
   ]
  },
  {
   "cell_type": "code",
   "execution_count": 137,
   "id": "d6f7229c-cab6-40a6-ac32-a28680f0f844",
   "metadata": {},
   "outputs": [],
   "source": [
    "# Tuple"
   ]
  },
  {
   "cell_type": "code",
   "execution_count": 138,
   "id": "8ec4ece2-3a07-4941-92be-95e231ceca84",
   "metadata": {},
   "outputs": [],
   "source": [
    "t = (12, 23, 45, 12, 67)"
   ]
  },
  {
   "cell_type": "code",
   "execution_count": 139,
   "id": "7d0b31b8-7985-4254-9c33-1d565cc2883b",
   "metadata": {},
   "outputs": [
    {
     "data": {
      "text/plain": [
       "(12, 23, 45, 12, 67)"
      ]
     },
     "execution_count": 139,
     "metadata": {},
     "output_type": "execute_result"
    }
   ],
   "source": [
    "t"
   ]
  },
  {
   "cell_type": "code",
   "execution_count": 140,
   "id": "27055f68-dd34-4f7f-b3c2-4e7e58693d41",
   "metadata": {},
   "outputs": [
    {
     "data": {
      "text/plain": [
       "tuple"
      ]
     },
     "execution_count": 140,
     "metadata": {},
     "output_type": "execute_result"
    }
   ],
   "source": [
    "type(t)"
   ]
  },
  {
   "cell_type": "code",
   "execution_count": 141,
   "id": "300ab88e-ec86-4868-ac24-ba1067e4b393",
   "metadata": {},
   "outputs": [],
   "source": [
    "t = (12, 23, 45, 12, 67, 'A')"
   ]
  },
  {
   "cell_type": "code",
   "execution_count": 142,
   "id": "66e8bf27-7a54-4124-b5f9-fc95427f2b71",
   "metadata": {},
   "outputs": [
    {
     "data": {
      "text/plain": [
       "(12, 23, 45, 12, 67, 'A')"
      ]
     },
     "execution_count": 142,
     "metadata": {},
     "output_type": "execute_result"
    }
   ],
   "source": [
    "t"
   ]
  },
  {
   "cell_type": "code",
   "execution_count": 143,
   "id": "2df0f25e-aa7f-4e58-b221-263f6c95b0f9",
   "metadata": {},
   "outputs": [
    {
     "data": {
      "text/plain": [
       "45"
      ]
     },
     "execution_count": 143,
     "metadata": {},
     "output_type": "execute_result"
    }
   ],
   "source": [
    "t[2]"
   ]
  },
  {
   "cell_type": "code",
   "execution_count": 144,
   "id": "6c050e36-4cd6-41dd-814b-ef03be75ef32",
   "metadata": {},
   "outputs": [
    {
     "ename": "TypeError",
     "evalue": "'tuple' object does not support item assignment",
     "output_type": "error",
     "traceback": [
      "\u001b[1;31m---------------------------------------------------------------------------\u001b[0m",
      "\u001b[1;31mTypeError\u001b[0m                                 Traceback (most recent call last)",
      "Cell \u001b[1;32mIn[144], line 1\u001b[0m\n\u001b[1;32m----> 1\u001b[0m t[\u001b[38;5;241m2\u001b[39m] \u001b[38;5;241m=\u001b[39m\u001b[38;5;241m69\u001b[39m\n",
      "\u001b[1;31mTypeError\u001b[0m: 'tuple' object does not support item assignment"
     ]
    }
   ],
   "source": [
    "t[2] =69"
   ]
  },
  {
   "cell_type": "code",
   "execution_count": 145,
   "id": "cfb98cc7-c12c-416c-9ad2-9609274caf1d",
   "metadata": {},
   "outputs": [
    {
     "ename": "AttributeError",
     "evalue": "'tuple' object has no attribute 'add'",
     "output_type": "error",
     "traceback": [
      "\u001b[1;31m---------------------------------------------------------------------------\u001b[0m",
      "\u001b[1;31mAttributeError\u001b[0m                            Traceback (most recent call last)",
      "Cell \u001b[1;32mIn[145], line 1\u001b[0m\n\u001b[1;32m----> 1\u001b[0m t\u001b[38;5;241m.\u001b[39madd(\u001b[38;5;241m12\u001b[39m)\n",
      "\u001b[1;31mAttributeError\u001b[0m: 'tuple' object has no attribute 'add'"
     ]
    }
   ],
   "source": [
    "t.add(12)"
   ]
  },
  {
   "cell_type": "code",
   "execution_count": 146,
   "id": "73bd41c6-825d-483a-9464-e440656808c6",
   "metadata": {},
   "outputs": [
    {
     "data": {
      "text/plain": [
       "(12, 23, 45, 12, 67, 'A')"
      ]
     },
     "execution_count": 146,
     "metadata": {},
     "output_type": "execute_result"
    }
   ],
   "source": [
    "t"
   ]
  },
  {
   "cell_type": "code",
   "execution_count": 147,
   "id": "32c3830e-2e13-4eca-9e7d-d4e1897f4e9c",
   "metadata": {},
   "outputs": [],
   "source": [
    "t1 = list(t)"
   ]
  },
  {
   "cell_type": "code",
   "execution_count": 148,
   "id": "ba41d9cb-49b1-4d7e-81e5-97e3db70e1b3",
   "metadata": {},
   "outputs": [
    {
     "data": {
      "text/plain": [
       "list"
      ]
     },
     "execution_count": 148,
     "metadata": {},
     "output_type": "execute_result"
    }
   ],
   "source": [
    "type(t1)"
   ]
  },
  {
   "cell_type": "code",
   "execution_count": 149,
   "id": "f33787e8-d8aa-450d-b74f-03a327f9d748",
   "metadata": {},
   "outputs": [
    {
     "data": {
      "text/plain": [
       "(12, 23, 45, 12, 67, 'A')"
      ]
     },
     "execution_count": 149,
     "metadata": {},
     "output_type": "execute_result"
    }
   ],
   "source": [
    "tuple(t1)"
   ]
  },
  {
   "cell_type": "code",
   "execution_count": 150,
   "id": "881d48f9-7e19-439d-8fb0-08a6d89ecb73",
   "metadata": {},
   "outputs": [
    {
     "name": "stdout",
     "output_type": "stream",
     "text": [
      "Help on class tuple in module builtins:\n",
      "\n",
      "class tuple(object)\n",
      " |  tuple(iterable=(), /)\n",
      " |  \n",
      " |  Built-in immutable sequence.\n",
      " |  \n",
      " |  If no argument is given, the constructor returns an empty tuple.\n",
      " |  If iterable is specified the tuple is initialized from iterable's items.\n",
      " |  \n",
      " |  If the argument is a tuple, the return value is the same object.\n",
      " |  \n",
      " |  Built-in subclasses:\n",
      " |      asyncgen_hooks\n",
      " |      UnraisableHookArgs\n",
      " |  \n",
      " |  Methods defined here:\n",
      " |  \n",
      " |  __add__(self, value, /)\n",
      " |      Return self+value.\n",
      " |  \n",
      " |  __contains__(self, key, /)\n",
      " |      Return key in self.\n",
      " |  \n",
      " |  __eq__(self, value, /)\n",
      " |      Return self==value.\n",
      " |  \n",
      " |  __ge__(self, value, /)\n",
      " |      Return self>=value.\n",
      " |  \n",
      " |  __getattribute__(self, name, /)\n",
      " |      Return getattr(self, name).\n",
      " |  \n",
      " |  __getitem__(self, key, /)\n",
      " |      Return self[key].\n",
      " |  \n",
      " |  __getnewargs__(self, /)\n",
      " |  \n",
      " |  __gt__(self, value, /)\n",
      " |      Return self>value.\n",
      " |  \n",
      " |  __hash__(self, /)\n",
      " |      Return hash(self).\n",
      " |  \n",
      " |  __iter__(self, /)\n",
      " |      Implement iter(self).\n",
      " |  \n",
      " |  __le__(self, value, /)\n",
      " |      Return self<=value.\n",
      " |  \n",
      " |  __len__(self, /)\n",
      " |      Return len(self).\n",
      " |  \n",
      " |  __lt__(self, value, /)\n",
      " |      Return self<value.\n",
      " |  \n",
      " |  __mul__(self, value, /)\n",
      " |      Return self*value.\n",
      " |  \n",
      " |  __ne__(self, value, /)\n",
      " |      Return self!=value.\n",
      " |  \n",
      " |  __repr__(self, /)\n",
      " |      Return repr(self).\n",
      " |  \n",
      " |  __rmul__(self, value, /)\n",
      " |      Return value*self.\n",
      " |  \n",
      " |  count(self, value, /)\n",
      " |      Return number of occurrences of value.\n",
      " |  \n",
      " |  index(self, value, start=0, stop=9223372036854775807, /)\n",
      " |      Return first index of value.\n",
      " |      \n",
      " |      Raises ValueError if the value is not present.\n",
      " |  \n",
      " |  ----------------------------------------------------------------------\n",
      " |  Class methods defined here:\n",
      " |  \n",
      " |  __class_getitem__(...) from builtins.type\n",
      " |      See PEP 585\n",
      " |  \n",
      " |  ----------------------------------------------------------------------\n",
      " |  Static methods defined here:\n",
      " |  \n",
      " |  __new__(*args, **kwargs) from builtins.type\n",
      " |      Create and return a new object.  See help(type) for accurate signature.\n",
      "\n"
     ]
    }
   ],
   "source": [
    "help(tuple)"
   ]
  },
  {
   "cell_type": "code",
   "execution_count": 151,
   "id": "d1014c50-71b7-4be5-a615-c26a6319feab",
   "metadata": {},
   "outputs": [],
   "source": [
    "# Set"
   ]
  },
  {
   "cell_type": "code",
   "execution_count": 152,
   "id": "27a6b4c7-927b-49f3-a568-27370b65aa72",
   "metadata": {},
   "outputs": [],
   "source": [
    "s = {34, 45, 56, 34, 78, 'a'}"
   ]
  },
  {
   "cell_type": "code",
   "execution_count": 153,
   "id": "39e2e06b-25c5-43a7-901c-f056478e1641",
   "metadata": {},
   "outputs": [
    {
     "data": {
      "text/plain": [
       "{34, 45, 56, 78, 'a'}"
      ]
     },
     "execution_count": 153,
     "metadata": {},
     "output_type": "execute_result"
    }
   ],
   "source": [
    "s"
   ]
  },
  {
   "cell_type": "code",
   "execution_count": 154,
   "id": "50b0e32c-def0-4fc5-a386-cd9cd0fe9d91",
   "metadata": {},
   "outputs": [
    {
     "data": {
      "text/plain": [
       "set"
      ]
     },
     "execution_count": 154,
     "metadata": {},
     "output_type": "execute_result"
    }
   ],
   "source": [
    "type(s)"
   ]
  },
  {
   "cell_type": "code",
   "execution_count": 155,
   "id": "7c446e75-13f4-4730-b727-6d6f7937db7d",
   "metadata": {},
   "outputs": [
    {
     "ename": "TypeError",
     "evalue": "'set' object is not subscriptable",
     "output_type": "error",
     "traceback": [
      "\u001b[1;31m---------------------------------------------------------------------------\u001b[0m",
      "\u001b[1;31mTypeError\u001b[0m                                 Traceback (most recent call last)",
      "Cell \u001b[1;32mIn[155], line 1\u001b[0m\n\u001b[1;32m----> 1\u001b[0m s[\u001b[38;5;241m3\u001b[39m]\n",
      "\u001b[1;31mTypeError\u001b[0m: 'set' object is not subscriptable"
     ]
    }
   ],
   "source": [
    "s[3]"
   ]
  },
  {
   "cell_type": "code",
   "execution_count": 156,
   "id": "bb6cd654-c457-4462-ae2c-ddc43a681339",
   "metadata": {},
   "outputs": [],
   "source": [
    "s.add(6)"
   ]
  },
  {
   "cell_type": "code",
   "execution_count": 157,
   "id": "bdfeccb3-df39-498a-b984-cadeecbdebff",
   "metadata": {},
   "outputs": [
    {
     "data": {
      "text/plain": [
       "{34, 45, 56, 6, 78, 'a'}"
      ]
     },
     "execution_count": 157,
     "metadata": {},
     "output_type": "execute_result"
    }
   ],
   "source": [
    "s"
   ]
  },
  {
   "cell_type": "code",
   "execution_count": 158,
   "id": "f3c138b8-79a1-49f7-aea3-ee146b8a01f9",
   "metadata": {},
   "outputs": [],
   "source": [
    "s1 = frozenset(s)"
   ]
  },
  {
   "cell_type": "code",
   "execution_count": 159,
   "id": "1637a932-f0fa-4223-b856-0b2c29675997",
   "metadata": {},
   "outputs": [
    {
     "data": {
      "text/plain": [
       "frozenset({34, 45, 56, 6, 78, 'a'})"
      ]
     },
     "execution_count": 159,
     "metadata": {},
     "output_type": "execute_result"
    }
   ],
   "source": [
    "s1"
   ]
  },
  {
   "cell_type": "code",
   "execution_count": 160,
   "id": "ca57f802-d6e8-484b-b6a1-62804ce89f59",
   "metadata": {},
   "outputs": [],
   "source": [
    "# Dictionary"
   ]
  },
  {
   "cell_type": "code",
   "execution_count": 161,
   "id": "6bd71961-186f-494e-96ca-c77bd276d16a",
   "metadata": {},
   "outputs": [],
   "source": [
    "d = {1:67, 2:89, 3:78, 7:57}"
   ]
  },
  {
   "cell_type": "code",
   "execution_count": 162,
   "id": "e49b64e7-a33a-4862-b5fb-1b96ed7351a8",
   "metadata": {},
   "outputs": [
    {
     "data": {
      "text/plain": [
       "{1: 67, 2: 89, 3: 78, 7: 57}"
      ]
     },
     "execution_count": 162,
     "metadata": {},
     "output_type": "execute_result"
    }
   ],
   "source": [
    "d"
   ]
  },
  {
   "cell_type": "code",
   "execution_count": 163,
   "id": "21b9bcdc-a5e0-4070-a9de-955b28c737b8",
   "metadata": {},
   "outputs": [
    {
     "data": {
      "text/plain": [
       "dict"
      ]
     },
     "execution_count": 163,
     "metadata": {},
     "output_type": "execute_result"
    }
   ],
   "source": [
    "type(d)"
   ]
  },
  {
   "cell_type": "code",
   "execution_count": 164,
   "id": "39d74866-0259-420e-97fc-609d3bb05421",
   "metadata": {},
   "outputs": [
    {
     "data": {
      "text/plain": [
       "78"
      ]
     },
     "execution_count": 164,
     "metadata": {},
     "output_type": "execute_result"
    }
   ],
   "source": [
    "d[3]"
   ]
  },
  {
   "cell_type": "code",
   "execution_count": 165,
   "id": "b8edee7c-ae12-4dd8-b704-42923995ccbc",
   "metadata": {},
   "outputs": [
    {
     "data": {
      "text/plain": [
       "57"
      ]
     },
     "execution_count": 165,
     "metadata": {},
     "output_type": "execute_result"
    }
   ],
   "source": [
    "d[7]"
   ]
  },
  {
   "cell_type": "code",
   "execution_count": 166,
   "id": "13a14d05-fd11-4f53-9564-91ef8a2d3fe2",
   "metadata": {},
   "outputs": [],
   "source": [
    "d[10] = 73"
   ]
  },
  {
   "cell_type": "code",
   "execution_count": 167,
   "id": "6db3a9d8-b4b5-4bfd-b088-ce7ea69119af",
   "metadata": {},
   "outputs": [
    {
     "data": {
      "text/plain": [
       "{1: 67, 2: 89, 3: 78, 7: 57, 10: 73}"
      ]
     },
     "execution_count": 167,
     "metadata": {},
     "output_type": "execute_result"
    }
   ],
   "source": [
    "d"
   ]
  },
  {
   "cell_type": "code",
   "execution_count": 168,
   "id": "54e1f194-1e59-4737-a6f6-7b39af7f5e24",
   "metadata": {},
   "outputs": [],
   "source": [
    "d[10] = 73"
   ]
  },
  {
   "cell_type": "code",
   "execution_count": 169,
   "id": "d26d2fe0-597b-454f-8e29-ed23a20bac48",
   "metadata": {},
   "outputs": [
    {
     "data": {
      "text/plain": [
       "{1: 67, 2: 89, 3: 78, 7: 57, 10: 73}"
      ]
     },
     "execution_count": 169,
     "metadata": {},
     "output_type": "execute_result"
    }
   ],
   "source": [
    "d"
   ]
  },
  {
   "cell_type": "code",
   "execution_count": 172,
   "id": "f314e0a6-47a6-4010-83d3-e23f685f5fec",
   "metadata": {},
   "outputs": [],
   "source": [
    "d[11] = [81, 'vishal']"
   ]
  },
  {
   "cell_type": "code",
   "execution_count": 173,
   "id": "54d69411-faf1-48b3-873b-76ceffcbc97f",
   "metadata": {},
   "outputs": [
    {
     "data": {
      "text/plain": [
       "{1: 67, 2: 89, 3: 78, 7: 57, 10: 73, 11: [81, 'vishal']}"
      ]
     },
     "execution_count": 173,
     "metadata": {},
     "output_type": "execute_result"
    }
   ],
   "source": [
    "d"
   ]
  },
  {
   "cell_type": "code",
   "execution_count": 174,
   "id": "c479f990-40c7-4eaa-8e62-5fb845b498e6",
   "metadata": {},
   "outputs": [
    {
     "data": {
      "text/plain": [
       "dict_keys([1, 2, 3, 7, 10, 11])"
      ]
     },
     "execution_count": 174,
     "metadata": {},
     "output_type": "execute_result"
    }
   ],
   "source": [
    "d.keys()"
   ]
  },
  {
   "cell_type": "code",
   "execution_count": 175,
   "id": "e0ba0180-ebbf-4736-a88c-9538a3c69c22",
   "metadata": {},
   "outputs": [
    {
     "data": {
      "text/plain": [
       "dict_values([67, 89, 78, 57, 73, [81, 'vishal']])"
      ]
     },
     "execution_count": 175,
     "metadata": {},
     "output_type": "execute_result"
    }
   ],
   "source": [
    "d.values()"
   ]
  },
  {
   "cell_type": "code",
   "execution_count": null,
   "id": "c4f017a2-d330-436e-b7a2-9cd010b56d80",
   "metadata": {},
   "outputs": [],
   "source": []
  }
 ],
 "metadata": {
  "kernelspec": {
   "display_name": "Python 3 (ipykernel)",
   "language": "python",
   "name": "python3"
  },
  "language_info": {
   "codemirror_mode": {
    "name": "ipython",
    "version": 3
   },
   "file_extension": ".py",
   "mimetype": "text/x-python",
   "name": "python",
   "nbconvert_exporter": "python",
   "pygments_lexer": "ipython3",
   "version": "3.11.7"
  }
 },
 "nbformat": 4,
 "nbformat_minor": 5
}
