{
 "cells": [
  {
   "cell_type": "code",
   "execution_count": 2,
   "id": "f7e4fdb3-9c1d-4d9e-a14f-c5d4c850fe80",
   "metadata": {},
   "outputs": [],
   "source": [
    "import tkinter as tk"
   ]
  },
  {
   "cell_type": "code",
   "execution_count": 3,
   "id": "c12ef52a-54bb-4381-abc5-8536dbf50afe",
   "metadata": {},
   "outputs": [],
   "source": [
    "# opening screen\n",
    "\n",
    "top = tk.Tk()\n",
    "\n",
    "\n",
    "top.title('My Application')\n",
    "top.geometry('500x400')\n",
    "          \n",
    "top.mainloop()"
   ]
  },
  {
   "cell_type": "code",
   "execution_count": 4,
   "id": "60ac8781-0606-41a4-bd16-67acbf1c9efe",
   "metadata": {},
   "outputs": [],
   "source": [
    "# give the button\n",
    "\n",
    "top = tk.Tk()\n",
    "\n",
    "\n",
    "top.title('My Application')\n",
    "top.geometry('500x400')\n",
    "b1 = tk.Button(top, text = 'click me!!!').pack()\n",
    "\n",
    "          \n",
    "top.mainloop()"
   ]
  },
  {
   "cell_type": "code",
   "execution_count": 5,
   "id": "db021dba-ef9a-4e01-98b1-dd274d2f3bb6",
   "metadata": {},
   "outputs": [],
   "source": [
    "# give orange colour on the button\n",
    "\n",
    "top = tk.Tk()\n",
    "\n",
    "\n",
    "top.title('My Application')\n",
    "top.geometry('500x400')\n",
    "b1 = tk.Button(top, text = 'click me!!!',bg = 'orange').pack()\n",
    "\n",
    "          \n",
    "top.mainloop()"
   ]
  },
  {
   "cell_type": "code",
   "execution_count": 6,
   "id": "74de3f6d-b80a-4b79-b69e-14dd4025e27a",
   "metadata": {},
   "outputs": [],
   "source": [
    "# give text screen\n",
    "\n",
    "top = tk.Tk()\n",
    "\n",
    "\n",
    "top.title('My Application')\n",
    "top.geometry('500x400')\n",
    "b1 = tk.Button(top, text = 'click me!!!',bg = 'orange').pack()\n",
    "e1 = tk.Entry(top).pack()\n",
    "t1 = tk.Text(top).pack()\n",
    "\n",
    "top.mainloop()"
   ]
  },
  {
   "cell_type": "code",
   "execution_count": 7,
   "id": "a22efad7-fe51-46a2-9194-b4ac6e56f5f5",
   "metadata": {},
   "outputs": [],
   "source": [
    "top = tk.Tk()\n",
    "\n",
    "\n",
    "top.title('My Application')\n",
    "top.geometry('500x400')\n",
    "\n",
    "b1 = tk.Button(top, text = 'click me!!!',bg = 'orange').grid(column=0, row=1)\n",
    "e1 = tk.Entry(top).grid(column=1,row=1)\n",
    "t1 = tk.Text(top).grid(column=2,row=2)\n",
    "\n",
    "top.mainloop()"
   ]
  },
  {
   "cell_type": "code",
   "execution_count": 8,
   "id": "1ede30e7-8ba8-418d-b04d-9d05646fcc2e",
   "metadata": {},
   "outputs": [],
   "source": [
    "top = tk.Tk()\n",
    "top.mainloop()"
   ]
  },
  {
   "cell_type": "code",
   "execution_count": 10,
   "id": "00f784f4-7681-4d5a-98d1-5d29922b91ed",
   "metadata": {},
   "outputs": [],
   "source": [
    "# display string message\n",
    "\n",
    "top=tk.Tk()\n",
    "top.title('my application')# name of                                          pack =pack the th line\n",
    "top.geometry('500x400')\n",
    "b1=tk.Button(top,text='click me!!!',bg='yellow').grid(column=0,row=1)\n",
    "e1=tk.Entry(top).grid(column=1,row=1)\n",
    "t1=tk.Text(top).grid(column=2,row=2)\n",
    "l1=tk.Label(top,text='welcome',font=('ariel bold',50)).grid(column=3,row=3)\n",
    "\n",
    "top.mainloop()"
   ]
  },
  {
   "cell_type": "code",
   "execution_count": null,
   "id": "7cefa2e3-7779-4bdc-b26e-0a58e38cd2dd",
   "metadata": {},
   "outputs": [],
   "source": []
  }
 ],
 "metadata": {
  "kernelspec": {
   "display_name": "Python 3 (ipykernel)",
   "language": "python",
   "name": "python3"
  },
  "language_info": {
   "codemirror_mode": {
    "name": "ipython",
    "version": 3
   },
   "file_extension": ".py",
   "mimetype": "text/x-python",
   "name": "python",
   "nbconvert_exporter": "python",
   "pygments_lexer": "ipython3",
   "version": "3.11.7"
  }
 },
 "nbformat": 4,
 "nbformat_minor": 5
}
