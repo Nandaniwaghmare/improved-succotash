{
 "cells": [
  {
   "cell_type": "code",
   "execution_count": 3,
   "id": "655face9-aa79-4245-bbda-d1235b6e85ec",
   "metadata": {},
   "outputs": [
    {
     "name": "stdin",
     "output_type": "stream",
     "text": [
      "Enter the number  5\n"
     ]
    }
   ],
   "source": [
    "# check if the number is greater than 50\n",
    "\n",
    "num = int(input('Enter the number '))\n",
    "\n",
    "if num > 50:\n",
    "    print('OK')"
   ]
  },
  {
   "cell_type": "code",
   "execution_count": 4,
   "id": "dbcc29a1-e1ee-4ca8-9692-a6b92e973010",
   "metadata": {},
   "outputs": [
    {
     "name": "stdin",
     "output_type": "stream",
     "text": [
      "Enter the number  0\n"
     ]
    },
    {
     "name": "stdout",
     "output_type": "stream",
     "text": [
      "negative\n",
      "Goodbye!!!\n"
     ]
    }
   ],
   "source": [
    "# positive or negative\n",
    "\n",
    "num = int(input('Enter the number '))\n",
    "\n",
    "if num > 0:\n",
    "    print('Positive')\n",
    "    print('ok')\n",
    "else:\n",
    "    print('negative')\n",
    "    print('Goodbye!!!')"
   ]
  },
  {
   "cell_type": "code",
   "execution_count": 5,
   "id": "27b650a0-a4f0-4c80-b0a3-9c4ae27bc4f2",
   "metadata": {},
   "outputs": [
    {
     "name": "stdin",
     "output_type": "stream",
     "text": [
      "Enter the number  0\n"
     ]
    },
    {
     "name": "stdout",
     "output_type": "stream",
     "text": [
      "Zero\n"
     ]
    }
   ],
   "source": [
    "num = int(input('Enter the number '))\n",
    "\n",
    "if num > 0:\n",
    "    print('positive')\n",
    "elif num == 0:\n",
    "    print('Zero')\n",
    "else:\n",
    "    print('Negative')"
   ]
  },
  {
   "cell_type": "code",
   "execution_count": 6,
   "id": "5874b9bb-d507-4c2d-b52b-07216be494c5",
   "metadata": {},
   "outputs": [
    {
     "name": "stdin",
     "output_type": "stream",
     "text": [
      "Enter the number  5\n"
     ]
    },
    {
     "name": "stdout",
     "output_type": "stream",
     "text": [
      "ODD\n"
     ]
    }
   ],
   "source": [
    "# check if the number is odd or even\n",
    "\n",
    "num = int(input('Enter the number '))\n",
    "\n",
    "if num % 2 == 0:\n",
    "    print('EVEN')\n",
    "else:\n",
    "    print('ODD')"
   ]
  },
  {
   "cell_type": "code",
   "execution_count": 7,
   "id": "69d7c087-affb-4f91-b4a5-aacede0c2b34",
   "metadata": {},
   "outputs": [
    {
     "data": {
      "text/plain": [
       "1"
      ]
     },
     "execution_count": 7,
     "metadata": {},
     "output_type": "execute_result"
    }
   ],
   "source": [
    "int(True)"
   ]
  },
  {
   "cell_type": "code",
   "execution_count": 8,
   "id": "d18a8d2e-24f3-4689-9482-cc55d48fa6cb",
   "metadata": {},
   "outputs": [
    {
     "data": {
      "text/plain": [
       "0"
      ]
     },
     "execution_count": 8,
     "metadata": {},
     "output_type": "execute_result"
    }
   ],
   "source": [
    "int(False)"
   ]
  },
  {
   "cell_type": "code",
   "execution_count": 9,
   "id": "11c9be70-812a-46c5-b53f-fe9563ef223d",
   "metadata": {},
   "outputs": [
    {
     "data": {
      "text/plain": [
       "2"
      ]
     },
     "execution_count": 9,
     "metadata": {},
     "output_type": "execute_result"
    }
   ],
   "source": [
    "True + True - False"
   ]
  },
  {
   "cell_type": "code",
   "execution_count": 10,
   "id": "c6e91d47-b7af-4a6c-b442-e63437d98185",
   "metadata": {},
   "outputs": [
    {
     "name": "stdout",
     "output_type": "stream",
     "text": [
      "!!!!!\n"
     ]
    }
   ],
   "source": [
    "a = 12\n",
    "\n",
    "if a:\n",
    "    print('!!!!!')"
   ]
  },
  {
   "cell_type": "code",
   "execution_count": 11,
   "id": "20e7af6a-3ff5-4214-aa8a-366fd1b50002",
   "metadata": {},
   "outputs": [
    {
     "name": "stdin",
     "output_type": "stream",
     "text": [
      "Enter the number  3\n"
     ]
    },
    {
     "name": "stdout",
     "output_type": "stream",
     "text": [
      "Incorrect\n"
     ]
    }
   ],
   "source": [
    "# check if the number is between 50 and 150\n",
    "num = int(input('Enter the number '))\n",
    "\n",
    "if num > 50:\n",
    "    if num < 150:\n",
    "        print('Correct')\n",
    "    else:\n",
    "        print('greater than 150')\n",
    "else:\n",
    "    print('Incorrect')"
   ]
  },
  {
   "cell_type": "code",
   "execution_count": 12,
   "id": "5db7db0c-63c2-43b3-a65d-114a892becd2",
   "metadata": {},
   "outputs": [
    {
     "name": "stdin",
     "output_type": "stream",
     "text": [
      "Enter the number  4\n"
     ]
    },
    {
     "name": "stdout",
     "output_type": "stream",
     "text": [
      "Incorrect\n"
     ]
    }
   ],
   "source": [
    "num = int(input('Enter the number '))\n",
    "\n",
    "if num > 50 and num < 150:\n",
    "    print('Correct')\n",
    "else:\n",
    "    print('Incorrect')"
   ]
  },
  {
   "cell_type": "code",
   "execution_count": 13,
   "id": "a0477fd9-f9c9-4957-9cbb-3abbdef536c4",
   "metadata": {},
   "outputs": [
    {
     "name": "stdin",
     "output_type": "stream",
     "text": [
      "Enter the purchase cost  1000\n",
      "Enter the selling cost  500\n"
     ]
    },
    {
     "name": "stdout",
     "output_type": "stream",
     "text": [
      "Loss: 500\n"
     ]
    }
   ],
   "source": [
    "# read selling cost and purchase cost\n",
    "# find profit or loss and how much ?\n",
    "\n",
    "purchase_cost = int(input('Enter the purchase cost '))\n",
    "selling_cost = int(input('Enter the selling cost '))\n",
    "\n",
    "if selling_cost > purchase_cost:\n",
    "    print('Profit:', selling_cost - purchase_cost)\n",
    "else:\n",
    "    print('Loss:', purchase_cost - selling_cost)"
   ]
  },
  {
   "cell_type": "code",
   "execution_count": 14,
   "id": "ff63a32b-9068-43fd-b5f1-d1d2ccf13055",
   "metadata": {},
   "outputs": [
    {
     "name": "stdin",
     "output_type": "stream",
     "text": [
      "Enter the 1st number  3\n",
      "Enter the 2nd number  2\n",
      "Enter the 3rd number  1\n"
     ]
    },
    {
     "name": "stdout",
     "output_type": "stream",
     "text": [
      "Largest is num1 3\n"
     ]
    }
   ],
   "source": [
    "# find the largest of 3 numbers\n",
    "# 'and', 'or' not allowed\n",
    "\n",
    "num1 = int(input('Enter the 1st number '))\n",
    "num2 = int(input('Enter the 2nd number '))\n",
    "num3 = int(input('Enter the 3rd number '))\n",
    "\n",
    "if num1 > num2:\n",
    "    if num1 > num3:\n",
    "        print('Largest is num1', num1)\n",
    "    else:\n",
    "        print('Largest is num3', num3)\n",
    "else:\n",
    "    if num2 > num3:\n",
    "        print('Largest is num2', num2)\n",
    "    else:\n",
    "        print('Largest is num3', num3)"
   ]
  },
  {
   "cell_type": "code",
   "execution_count": 15,
   "id": "e19a23fa-f5e3-4ec1-bd22-61a4640b9c44",
   "metadata": {},
   "outputs": [
    {
     "name": "stdin",
     "output_type": "stream",
     "text": [
      "Enter the year  1900\n"
     ]
    },
    {
     "name": "stdout",
     "output_type": "stream",
     "text": [
      "Century but not leap\n"
     ]
    }
   ],
   "source": [
    "# 2020 => Leap Year\n",
    "# 2018 => Not leap\n",
    "# 2000 => leap\n",
    "# 1800 => not leap => century year\n",
    "\n",
    "year = int(input('Enter the year '))\n",
    "\n",
    "if year % 4 == 0:\n",
    "    if year % 100 == 0:\n",
    "        if year % 400 == 0:\n",
    "            print('Leap Century Year')\n",
    "        else:\n",
    "            print('Century but not leap')\n",
    "    else:\n",
    "        print('Leap Year')\n",
    "else:\n",
    "    print('Not Leap')"
   ]
  },
  {
   "cell_type": "code",
   "execution_count": 16,
   "id": "bea8be42-8c09-446a-86b5-63ee0337bc1d",
   "metadata": {},
   "outputs": [
    {
     "name": "stdin",
     "output_type": "stream",
     "text": [
      "Enter the marks of physics  80\n",
      "Enter the marks of chemistry  90\n",
      "Enter the marks of biology  85\n",
      "Enter the marks of maths  95\n",
      "Enter the marks of computer  88\n"
     ]
    },
    {
     "name": "stdout",
     "output_type": "stream",
     "text": [
      "Grade B\n"
     ]
    }
   ],
   "source": [
    "'''Write a Python program to input marks of five subjects\n",
    "Physics, Chemistry,\n",
    "Biology, Mathematics and Computer. Calculate percentage \n",
    "and grade\n",
    "according to following:\n",
    "Percentage >= 90% : Grade A\n",
    "Percentage >= 80% : Grade B\n",
    "Percentage >= 70% : Grade C\n",
    "Percentage >= 60% : Grade D\n",
    "Percentage >= 40% : Grade E\n",
    "Percentage < 40% : Grade F\n",
    "'''\n",
    "\n",
    "phys = float(input('Enter the marks of physics '))\n",
    "chem = float(input('Enter the marks of chemistry '))\n",
    "bio = float(input('Enter the marks of biology '))\n",
    "maths = float(input('Enter the marks of maths '))\n",
    "comp = float(input('Enter the marks of computer '))\n",
    "\n",
    "perc = ((phys + chem + bio + maths + comp)/500) * 100\n",
    "\n",
    "if perc >= 90:\n",
    "    print('Grade A')\n",
    "elif perc >= 80:\n",
    "    print('Grade B')\n",
    "elif perc >= 70:\n",
    "    print('Grade C')\n",
    "elif perc >= 60:\n",
    "    print('Grade D')\n",
    "elif perc >= 40:\n",
    "    print('Grade E')\n",
    "else:\n",
    "    print('Fail')"
   ]
  },
  {
   "cell_type": "code",
   "execution_count": 17,
   "id": "98443ae3-a03a-40bb-b8ea-60fb307451ba",
   "metadata": {},
   "outputs": [
    {
     "name": "stdin",
     "output_type": "stream",
     "text": [
      "Enter the number  5\n"
     ]
    },
    {
     "name": "stdout",
     "output_type": "stream",
     "text": [
      "MENU\n",
      "1.Square\n",
      "2.Cube\n",
      "3.Check +ve or -ve\n"
     ]
    },
    {
     "name": "stdin",
     "output_type": "stream",
     "text": [
      "Enter your choice  3\n"
     ]
    },
    {
     "name": "stdout",
     "output_type": "stream",
     "text": [
      "Positive\n"
     ]
    }
   ],
   "source": [
    "# Menu driven\n",
    "\n",
    "'''\n",
    "take a number and based on the choice perform\n",
    "1.square, 2.cube and 3. check positive or negative\n",
    "'''\n",
    "\n",
    "num = int(input('Enter the number '))\n",
    "\n",
    "print(\"MENU\\n1.Square\\n2.Cube\\n3.Check +ve or -ve\")\n",
    "\n",
    "choice = int(input('Enter your choice '))\n",
    "\n",
    "if choice == 1:\n",
    "    print('Square is', num * num)\n",
    "elif choice == 2:\n",
    "    print('Cube is', num ** 3)\n",
    "elif choice == 3:\n",
    "    if num > 0:\n",
    "        print('Positive')\n",
    "    else:\n",
    "        print('Negative')\n",
    "else:\n",
    "    print(\"OOPS! you must've forgotten ur sepcs or brain :)\")"
   ]
  },
  {
   "cell_type": "code",
   "execution_count": 18,
   "id": "6e8c98c1-6736-487f-9d5b-09ea4f3ca40e",
   "metadata": {},
   "outputs": [],
   "source": [
    "num = 34\n",
    "if num > 20:\n",
    "    pass"
   ]
  },
  {
   "cell_type": "code",
   "execution_count": null,
   "id": "67731b5f-8439-4bd2-8bb2-016e0509c09e",
   "metadata": {},
   "outputs": [],
   "source": []
  }
 ],
 "metadata": {
  "kernelspec": {
   "display_name": "Python 3 (ipykernel)",
   "language": "python",
   "name": "python3"
  },
  "language_info": {
   "codemirror_mode": {
    "name": "ipython",
    "version": 3
   },
   "file_extension": ".py",
   "mimetype": "text/x-python",
   "name": "python",
   "nbconvert_exporter": "python",
   "pygments_lexer": "ipython3",
   "version": "3.11.7"
  }
 },
 "nbformat": 4,
 "nbformat_minor": 5
}
