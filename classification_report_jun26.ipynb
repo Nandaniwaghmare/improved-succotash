{
 "cells": [
  {
   "cell_type": "code",
   "execution_count": null,
   "id": "5b5ce04a-a7ed-4ba3-b105-eab0b52d7bc1",
   "metadata": {},
   "outputs": [],
   "source": [
    "import pandas as pd"
   ]
  },
  {
   "cell_type": "code",
   "execution_count": 13,
   "id": "7fe1c557-bd8f-4285-9112-32855d989f49",
   "metadata": {},
   "outputs": [
    {
     "data": {
      "text/plain": [
       "0.4"
      ]
     },
     "execution_count": 13,
     "metadata": {},
     "output_type": "execute_result"
    }
   ],
   "source": [
    "2 / 5"
   ]
  },
  {
   "cell_type": "code",
   "execution_count": 12,
   "id": "e6671696-15d2-4ef2-9f89-9d6f6bae1634",
   "metadata": {},
   "outputs": [
    {
     "data": {
      "text/plain": [
       "0.5"
      ]
     },
     "execution_count": 12,
     "metadata": {},
     "output_type": "execute_result"
    }
   ],
   "source": [
    "2 / 4"
   ]
  },
  {
   "cell_type": "code",
   "execution_count": 5,
   "id": "5ff61fe6-0774-42f0-b839-89893fcecf2f",
   "metadata": {},
   "outputs": [],
   "source": [
    "actual = ['c', 'c', 'nc', 'c', 'nc', 'nc', 'c', 'nc', 'nc']\n",
    "predicted = ['c', 'nc', 'nc', 'c', 'c', 'nc', 'nc', 'c', 'nc']"
   ]
  },
  {
   "cell_type": "code",
   "execution_count": null,
   "id": "54c31c79-1fd7-430f-9eee-3b2be7486a88",
   "metadata": {},
   "outputs": [],
   "source": [
    "# For cat"
   ]
  },
  {
   "cell_type": "code",
   "execution_count": 6,
   "id": "bd00da17-ab83-427c-98c2-94e6aad0bc54",
   "metadata": {},
   "outputs": [],
   "source": [
    "tp = 2  # pred cat actual cat"
   ]
  },
  {
   "cell_type": "code",
   "execution_count": 7,
   "id": "0d061ccb-3a4d-41fd-87d9-76d08680eb34",
   "metadata": {},
   "outputs": [],
   "source": [
    "fp = 2  # pred cat actual not-cat"
   ]
  },
  {
   "cell_type": "code",
   "execution_count": 8,
   "id": "219c7f12-984e-455a-a7df-7c7c618b2259",
   "metadata": {},
   "outputs": [],
   "source": [
    "fn = 2   # pred cat actual cat"
   ]
  },
  {
   "cell_type": "code",
   "execution_count": null,
   "id": "2ca83ff9-d31c-477b-949a-533be49619b6",
   "metadata": {},
   "outputs": [],
   "source": [
    "tn = 3   # pred not cat actual not cat"
   ]
  },
  {
   "cell_type": "code",
   "execution_count": 10,
   "id": "20ce2ea0-5624-498e-8755-056d467532b4",
   "metadata": {},
   "outputs": [
    {
     "data": {
      "text/plain": [
       "0.5"
      ]
     },
     "execution_count": 10,
     "metadata": {},
     "output_type": "execute_result"
    }
   ],
   "source": [
    "# precision\n",
    "\n",
    "precision = 2 / 4\n",
    "precision"
   ]
  },
  {
   "cell_type": "code",
   "execution_count": 14,
   "id": "8e95b9b7-9fcb-4b81-a3c3-8335b76d428d",
   "metadata": {},
   "outputs": [
    {
     "data": {
      "text/plain": [
       "0.5"
      ]
     },
     "execution_count": 14,
     "metadata": {},
     "output_type": "execute_result"
    }
   ],
   "source": [
    "# recall\n",
    "\n",
    "recall = 2 / 4\n",
    "recall"
   ]
  },
  {
   "cell_type": "code",
   "execution_count": 15,
   "id": "979f4a0e-7687-4e6c-96a0-84244482c2b0",
   "metadata": {},
   "outputs": [
    {
     "data": {
      "text/plain": [
       "0.5"
      ]
     },
     "execution_count": 15,
     "metadata": {},
     "output_type": "execute_result"
    }
   ],
   "source": [
    "# f1 - score\n",
    "\n",
    "# harmonic mean between precision and recall\n",
    "\n",
    "(2 * precision * recall) /(precision + recall)"
   ]
  },
  {
   "cell_type": "code",
   "execution_count": null,
   "id": "88c8875d-6c44-4af5-bdbc-edbf622b82fc",
   "metadata": {},
   "outputs": [],
   "source": []
  }
 ],
 "metadata": {
  "kernelspec": {
   "display_name": "Python 3 (ipykernel)",
   "language": "python",
   "name": "python3"
  },
  "language_info": {
   "codemirror_mode": {
    "name": "ipython",
    "version": 3
   },
   "file_extension": ".py",
   "mimetype": "text/x-python",
   "name": "python",
   "nbconvert_exporter": "python",
   "pygments_lexer": "ipython3",
   "version": "3.11.7"
  }
 },
 "nbformat": 4,
 "nbformat_minor": 5
}
