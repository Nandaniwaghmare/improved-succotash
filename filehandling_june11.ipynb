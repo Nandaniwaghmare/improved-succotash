{
 "cells": [
  {
   "cell_type": "code",
   "execution_count": 8,
   "id": "b185a786-6d10-4a04-9c45-217469d72df4",
   "metadata": {},
   "outputs": [],
   "source": [
    "f = open('maha.txt', 'r')"
   ]
  },
  {
   "cell_type": "code",
   "execution_count": 9,
   "id": "8b9248b7-7289-4b56-94f7-c541e06c2912",
   "metadata": {},
   "outputs": [
    {
     "name": "stdout",
     "output_type": "stream",
     "text": [
      "maha.txt\n"
     ]
    }
   ],
   "source": [
    "print(f.name)"
   ]
  },
  {
   "cell_type": "code",
   "execution_count": 10,
   "id": "2da6e0ad-6c0e-4035-951b-0a822e6d0085",
   "metadata": {},
   "outputs": [
    {
     "name": "stdout",
     "output_type": "stream",
     "text": [
      "my name is nandani and i'm studying in computer engineering\n",
      "\n"
     ]
    }
   ],
   "source": [
    "print(f.read())"
   ]
  },
  {
   "cell_type": "code",
   "execution_count": 11,
   "id": "13c5c621-1bb1-4043-93e0-72d506983c94",
   "metadata": {},
   "outputs": [
    {
     "name": "stdout",
     "output_type": "stream",
     "text": [
      "r\n"
     ]
    }
   ],
   "source": [
    "print(f.mode)"
   ]
  },
  {
   "cell_type": "code",
   "execution_count": 12,
   "id": "00de94f2-ff40-4f19-a3cf-608c0befd699",
   "metadata": {},
   "outputs": [],
   "source": [
    "f.close()"
   ]
  },
  {
   "cell_type": "code",
   "execution_count": 17,
   "id": "cafbf9da-759b-4e24-9af5-92768e6f6fe8",
   "metadata": {},
   "outputs": [
    {
     "data": {
      "text/plain": [
       "True"
      ]
     },
     "execution_count": 17,
     "metadata": {},
     "output_type": "execute_result"
    }
   ],
   "source": [
    "f.closed"
   ]
  },
  {
   "cell_type": "code",
   "execution_count": 23,
   "id": "2b1ad428-7e0b-406e-aa96-c1ca0db8e1db",
   "metadata": {},
   "outputs": [],
   "source": [
    "# open with context manager\n",
    "\n",
    "with open('maha.txt', 'r')as f:\n",
    "    pass"
   ]
  },
  {
   "cell_type": "code",
   "execution_count": 19,
   "id": "724da712-4e9c-4349-bda3-e84edf381b46",
   "metadata": {},
   "outputs": [
    {
     "data": {
      "text/plain": [
       "True"
      ]
     },
     "execution_count": 19,
     "metadata": {},
     "output_type": "execute_result"
    }
   ],
   "source": [
    "f.closed"
   ]
  },
  {
   "cell_type": "code",
   "execution_count": 22,
   "id": "788d737f-e14d-45ea-9cab-888f3a039f36",
   "metadata": {},
   "outputs": [
    {
     "name": "stdout",
     "output_type": "stream",
     "text": [
      "my name is nandani and i'm studying in computer engineering \n"
     ]
    }
   ],
   "source": [
    "with open('maha.txt', 'r')as f:\n",
    "    content = f.read()\n",
    "    print(content)"
   ]
  },
  {
   "cell_type": "code",
   "execution_count": 24,
   "id": "8e736cb4-d168-46b6-b520-f8334366d8c3",
   "metadata": {},
   "outputs": [
    {
     "name": "stdout",
     "output_type": "stream",
     "text": [
      "['this is first line\\n', 'this is second line\\n', 'this is third line\\n', 'this is fourth line']\n"
     ]
    }
   ],
   "source": [
    "with open('test.txt', 'r')as f:\n",
    "    content = f.readlines()\n",
    "    print(content)"
   ]
  },
  {
   "cell_type": "code",
   "execution_count": 26,
   "id": "bf30b62d-4aa9-43e6-8b7b-5591752bffc2",
   "metadata": {},
   "outputs": [
    {
     "name": "stdout",
     "output_type": "stream",
     "text": [
      "this is first line\n",
      "\n"
     ]
    }
   ],
   "source": [
    "with open('test.txt', 'r') as f:\n",
    "    content = f.readline()\n",
    "    print(content)"
   ]
  },
  {
   "cell_type": "code",
   "execution_count": 28,
   "id": "cffba85b-9867-47ec-be98-9fdb63fb7880",
   "metadata": {},
   "outputs": [
    {
     "name": "stdout",
     "output_type": "stream",
     "text": [
      "this is first line\n",
      "this is second line\n",
      "\n"
     ]
    }
   ],
   "source": [
    "with open('test.txt', 'r') as f:\n",
    "    content = f.readline()\n",
    "    print(content,end='')\n",
    "\n",
    "    content = f.readline()\n",
    "    print(content)"
   ]
  },
  {
   "cell_type": "code",
   "execution_count": 31,
   "id": "f46950fd-3879-43b6-8e8b-db0ed6724f94",
   "metadata": {},
   "outputs": [
    {
     "name": "stdout",
     "output_type": "stream",
     "text": [
      "this is first line\n",
      "this is second line\n",
      "this is third line\n",
      "this is fourth line"
     ]
    }
   ],
   "source": [
    "with open('test.txt', 'r') as f:\n",
    "    for line in f:\n",
    "        print(line, end ='')"
   ]
  },
  {
   "cell_type": "code",
   "execution_count": 33,
   "id": "e9948715-d205-40dc-b05d-e7a7c535d55a",
   "metadata": {},
   "outputs": [
    {
     "name": "stdout",
     "output_type": "stream",
     "text": [
      "thi\n"
     ]
    }
   ],
   "source": [
    "# read the 3 character\n",
    "\n",
    "with open('test.txt', 'r') as f:\n",
    "    content = f.read(3)\n",
    "    print(content)"
   ]
  },
  {
   "cell_type": "code",
   "execution_count": null,
   "id": "1c70fdca-421d-4d3b-964a-e05a173c22f3",
   "metadata": {},
   "outputs": [],
   "source": [
    "# use while loop to read entire file...5 character at a time\n",
    "\n",
    "with open ('test.txt','r') as f:\n",
    "    size=5\n",
    "    content=f.read(size)\n",
    "    while len(content)>0:\n",
    "        print(content,end='*')\n",
    "        content=f.read(size) "
   ]
  },
  {
   "cell_type": "code",
   "execution_count": 2,
   "id": "2043e735-4639-426d-ad1c-5a7bff8f0499",
   "metadata": {},
   "outputs": [
    {
     "name": "stdout",
     "output_type": "stream",
     "text": [
      "this \n",
      "this \n"
     ]
    }
   ],
   "source": [
    "with open ('test.txt', 'r') as f:\n",
    "    size = 5                                \n",
    "    content = f.read(size)\n",
    "    print(content)                                    \n",
    "    f.seek(0) #start from begining\n",
    "    content = f.read(size)\n",
    "    print(content)"
   ]
  },
  {
   "cell_type": "code",
   "execution_count": null,
   "id": "443e2895-e7ba-471a-b0f3-9b2175f83926",
   "metadata": {},
   "outputs": [],
   "source": [
    "# write"
   ]
  },
  {
   "cell_type": "code",
   "execution_count": 44,
   "id": "21b11df4-7949-4c57-b829-aa5c141dd560",
   "metadata": {},
   "outputs": [],
   "source": [
    "with open('write.txt', 'w') as w:\n",
    "    pass"
   ]
  },
  {
   "cell_type": "code",
   "execution_count": 45,
   "id": "ecc0254d-37e4-410f-b731-668777166f2c",
   "metadata": {},
   "outputs": [],
   "source": [
    "with open('write.txt', 'w') as w:\n",
    "    w.write('my name is nandani')"
   ]
  },
  {
   "cell_type": "code",
   "execution_count": null,
   "id": "7a3f364d-9bc3-4d23-a987-ee7e745f56d1",
   "metadata": {},
   "outputs": [],
   "source": [
    "with open('write.txt', 'w') as w:\n",
    "    w.write('my name is nandani')\n",
    "    w.write('my name is karan')"
   ]
  },
  {
   "cell_type": "code",
   "execution_count": 46,
   "id": "d4fbe91d-40c0-49a6-b8f2-f7d2bfb920ca",
   "metadata": {},
   "outputs": [],
   "source": [
    "with open('write.txt', 'w') as w:\n",
    "    w.write('my name is nandani')\n",
    "    w.seek(0)\n",
    "    w.write('my namem is anamika')"
   ]
  },
  {
   "cell_type": "code",
   "execution_count": 47,
   "id": "7697e6a0-bfa4-4fc8-bbf2-17052576733a",
   "metadata": {},
   "outputs": [],
   "source": [
    "with open('write.txt', 'w') as w:\n",
    "    w.write('my name is nandani')\n",
    "    w.seek(0)\n",
    "    w.write('AAAA')"
   ]
  },
  {
   "cell_type": "code",
   "execution_count": null,
   "id": "bb1d8ddd-aff2-43c4-9eca-4380c06b463b",
   "metadata": {},
   "outputs": [],
   "source": [
    "#creat a new file which will be the copy of maha .txt"
   ]
  },
  {
   "cell_type": "code",
   "execution_count": 1,
   "id": "027e9660-9af8-4c5e-9fdc-6071772358aa",
   "metadata": {},
   "outputs": [],
   "source": [
    "with open('maha.txt','r')as rf:\n",
    "    with open(\"maha_copy.txt\",'w')as  w:\n",
    "     for line in rf:\n",
    "         w.write(line)"
   ]
  },
  {
   "cell_type": "code",
   "execution_count": null,
   "id": "c3db2c25-247e-494b-a96b-bd3241487789",
   "metadata": {},
   "outputs": [],
   "source": []
  }
 ],
 "metadata": {
  "kernelspec": {
   "display_name": "Python 3 (ipykernel)",
   "language": "python",
   "name": "python3"
  },
  "language_info": {
   "codemirror_mode": {
    "name": "ipython",
    "version": 3
   },
   "file_extension": ".py",
   "mimetype": "text/x-python",
   "name": "python",
   "nbconvert_exporter": "python",
   "pygments_lexer": "ipython3",
   "version": "3.11.7"
  }
 },
 "nbformat": 4,
 "nbformat_minor": 5
}
