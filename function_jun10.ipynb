{
 "cells": [
  {
   "cell_type": "code",
   "execution_count": 1,
   "id": "ac57e1c6-0a9e-4b64-aa67-021c9242253b",
   "metadata": {},
   "outputs": [],
   "source": [
    "def show():          # function definition\n",
    "    print('Hello')\n",
    "    print('OK')\n",
    "    print('Goodbye')"
   ]
  },
  {
   "cell_type": "code",
   "execution_count": 2,
   "id": "a2aae5ee-720c-4d69-a907-373a45902bf2",
   "metadata": {},
   "outputs": [
    {
     "name": "stdout",
     "output_type": "stream",
     "text": [
      "Hello\n",
      "OK\n",
      "Goodbye\n"
     ]
    }
   ],
   "source": [
    "show()"
   ]
  },
  {
   "cell_type": "code",
   "execution_count": 3,
   "id": "116b76e4-5496-4da6-ba73-ac25f27a348f",
   "metadata": {},
   "outputs": [
    {
     "name": "stdout",
     "output_type": "stream",
     "text": [
      "Hello\n",
      "OK\n",
      "Goodbye\n",
      "Hello\n",
      "OK\n",
      "Goodbye\n",
      "Hello\n",
      "OK\n",
      "Goodbye\n"
     ]
    }
   ],
   "source": [
    "show()\n",
    "show()\n",
    "show()"
   ]
  },
  {
   "cell_type": "code",
   "execution_count": 5,
   "id": "f4cb7020-e4e6-4413-a5d7-e3db805a2afb",
   "metadata": {},
   "outputs": [],
   "source": [
    "# parameterized fuction\n",
    "\n",
    "def square(n):\n",
    "    result = n * n\n",
    "    print('square is', result)"
   ]
  },
  {
   "cell_type": "code",
   "execution_count": 6,
   "id": "559348b1-2ddc-451f-ab7b-d872df42937e",
   "metadata": {},
   "outputs": [
    {
     "name": "stdout",
     "output_type": "stream",
     "text": [
      "square is 100\n"
     ]
    }
   ],
   "source": [
    "square(10)"
   ]
  },
  {
   "cell_type": "code",
   "execution_count": 7,
   "id": "ff71b8cb-deda-4f19-984a-67738434584a",
   "metadata": {},
   "outputs": [
    {
     "name": "stdin",
     "output_type": "stream",
     "text": [
      "Enter the number 5\n"
     ]
    },
    {
     "name": "stdout",
     "output_type": "stream",
     "text": [
      "square is 25\n"
     ]
    }
   ],
   "source": [
    "num = int(input('Enter the number'))\n",
    "square(num)"
   ]
  },
  {
   "cell_type": "code",
   "execution_count": 10,
   "id": "51a6f47f-11a4-4ffc-a550-2e7e5a4e4e03",
   "metadata": {},
   "outputs": [],
   "source": [
    "# multi-parameterized function\n",
    "\n",
    "def largest(a,b):\n",
    "    if a > b:\n",
    "        print(a,'is greater')\n",
    "    elif a == b:\n",
    "        print('Equal')\n",
    "    else:\n",
    "        print(b,'is greater')"
   ]
  },
  {
   "cell_type": "code",
   "execution_count": 11,
   "id": "a2bd359a-9c6b-4dd2-959a-a6008e4607b4",
   "metadata": {},
   "outputs": [
    {
     "name": "stdout",
     "output_type": "stream",
     "text": [
      "78 is greater\n"
     ]
    }
   ],
   "source": [
    "largest(45, 78)"
   ]
  },
  {
   "cell_type": "code",
   "execution_count": 53,
   "id": "5ee3e881-acc8-4aa8-b76a-dc30819956cb",
   "metadata": {},
   "outputs": [],
   "source": [
    "# write a function which will print a string n number of times\n",
    "\n",
    "def dis(name, n):\n",
    "    for i in range(n):\n",
    "        print(name)"
   ]
  },
  {
   "cell_type": "code",
   "execution_count": 54,
   "id": "ba25b3f1-ea7d-4cc0-a1b7-0b8619d33ba4",
   "metadata": {},
   "outputs": [
    {
     "name": "stdout",
     "output_type": "stream",
     "text": [
      "Pune\n",
      "Pune\n",
      "Pune\n",
      "Pune\n",
      "Pune\n",
      "Pune\n",
      "Pune\n"
     ]
    }
   ],
   "source": [
    "dis('Pune', 7)"
   ]
  },
  {
   "cell_type": "code",
   "execution_count": 132,
   "id": "0e7e0baf-854a-40cc-b1af-36ec3213ce94",
   "metadata": {},
   "outputs": [],
   "source": [
    "# function for factorial\n",
    "\n",
    "def facto(n):\n",
    "    fact = 1\n",
    "    for i in range(1, n+1):\n",
    "        fact = fact * i\n",
    "        print('Factorial:',fact)"
   ]
  },
  {
   "cell_type": "code",
   "execution_count": 133,
   "id": "ed80dd19-fa04-4138-8e0b-2320cf3f5495",
   "metadata": {},
   "outputs": [
    {
     "name": "stdout",
     "output_type": "stream",
     "text": [
      "Factorial: 1\n",
      "Factorial: 2\n",
      "Factorial: 6\n",
      "Factorial: 24\n",
      "Factorial: 120\n"
     ]
    }
   ],
   "source": [
    "facto(5)"
   ]
  },
  {
   "cell_type": "code",
   "execution_count": 32,
   "id": "89b51b42-2bb8-4e4c-9789-b96ed1a34ef1",
   "metadata": {},
   "outputs": [],
   "source": [
    "# function returning values\n",
    "\n",
    "def square(n):\n",
    "    result = n * n\n",
    "    return result"
   ]
  },
  {
   "cell_type": "raw",
   "id": "9ce62361-ed7f-4b38-a72c-d71abba882ab",
   "metadata": {},
   "source": [
    "square(5)"
   ]
  },
  {
   "cell_type": "code",
   "execution_count": 33,
   "id": "bd6d9082-2b89-40ff-9c4b-fe485ed34606",
   "metadata": {},
   "outputs": [],
   "source": [
    "#### difference between return and printm"
   ]
  },
  {
   "cell_type": "code",
   "execution_count": 34,
   "id": "f866184f-b832-41b2-80b1-4f26805d431c",
   "metadata": {},
   "outputs": [
    {
     "name": "stdout",
     "output_type": "stream",
     "text": [
      "15\n",
      "None\n",
      "15\n",
      "result None\n"
     ]
    }
   ],
   "source": [
    "def add(a, b):\n",
    "    result = a + b\n",
    "    print(result)\n",
    "\n",
    "print(add(5, 10))\n",
    "\n",
    "op = add(5, 10)\n",
    "\n",
    "print('result', op)"
   ]
  },
  {
   "cell_type": "code",
   "execution_count": 35,
   "id": "3c5fe4ae-c890-4210-b050-82666a180651",
   "metadata": {},
   "outputs": [
    {
     "name": "stdout",
     "output_type": "stream",
     "text": [
      "15\n",
      "result 15\n"
     ]
    }
   ],
   "source": [
    "def add(a, b):\n",
    "    result = a + b\n",
    "    return result\n",
    "    print(result)\n",
    "\n",
    "print(add(5, 10))\n",
    "\n",
    "op = add(5, 10)\n",
    "\n",
    "print('result', op)"
   ]
  },
  {
   "cell_type": "code",
   "execution_count": 36,
   "id": "f9ec6525-128a-4584-8b3c-d69e7341e0da",
   "metadata": {},
   "outputs": [],
   "source": [
    "# multi-parameterized function using return\n",
    "\n",
    "def largest(a,b):\n",
    "    if a > b:\n",
    "        return a\n",
    "    elif a == b:\n",
    "        return 'Equal'\n",
    "    else:\n",
    "        return b"
   ]
  },
  {
   "cell_type": "code",
   "execution_count": 37,
   "id": "28527a67-efab-4977-adad-f86fb261c0f0",
   "metadata": {},
   "outputs": [
    {
     "data": {
      "text/plain": [
       "'Equal'"
      ]
     },
     "execution_count": 37,
     "metadata": {},
     "output_type": "execute_result"
    }
   ],
   "source": [
    "largest(7, 7)"
   ]
  },
  {
   "cell_type": "code",
   "execution_count": 38,
   "id": "83cf7267-2c4b-4480-8292-8732365273dd",
   "metadata": {},
   "outputs": [],
   "source": [
    "# perm and comb\n",
    "# ncr = n! / r!(n-r)!"
   ]
  },
  {
   "cell_type": "code",
   "execution_count": 129,
   "id": "fbdbbf31-a4a0-4486-b8e0-2f6bbb351007",
   "metadata": {},
   "outputs": [],
   "source": [
    "def facto(n):\n",
    "    fact = 1\n",
    "    for i in range(1, n+1):\n",
    "        fact = fact * i\n",
    "        return fact"
   ]
  },
  {
   "cell_type": "code",
   "execution_count": 130,
   "id": "8dcada50-c354-41fa-a92d-756ea5e60c3f",
   "metadata": {},
   "outputs": [
    {
     "name": "stdin",
     "output_type": "stream",
     "text": [
      "Total:  5\n",
      "combinations of :  3\n"
     ]
    },
    {
     "name": "stdout",
     "output_type": "stream",
     "text": [
      "1.0\n"
     ]
    }
   ],
   "source": [
    "n = int(input('Total: '))\n",
    "r = int(input('combinations of : '))\n",
    "\n",
    "ncr = facto(n) / (facto(r) * facto(n-r))\n",
    "print(ncr)"
   ]
  },
  {
   "cell_type": "code",
   "execution_count": 61,
   "id": "be9b7d02-bf4d-4401-ac18-36455e783a1f",
   "metadata": {},
   "outputs": [],
   "source": [
    "def calc(n):\n",
    "    sq = n * n\n",
    "    cu = n ** 3\n",
    "    return sq, cu"
   ]
  },
  {
   "cell_type": "code",
   "execution_count": 62,
   "id": "54c8a209-1755-4796-a49d-322e647708f8",
   "metadata": {},
   "outputs": [
    {
     "data": {
      "text/plain": [
       "(25, 125)"
      ]
     },
     "execution_count": 62,
     "metadata": {},
     "output_type": "execute_result"
    }
   ],
   "source": [
    "calc(5)"
   ]
  },
  {
   "cell_type": "code",
   "execution_count": 63,
   "id": "747e535c-62f6-4cd7-9b9b-8e743d1ebb8e",
   "metadata": {},
   "outputs": [
    {
     "name": "stdin",
     "output_type": "stream",
     "text": [
      "Enter the number  5\n"
     ]
    },
    {
     "name": "stdout",
     "output_type": "stream",
     "text": [
      "square 25\n",
      "cube 125\n"
     ]
    }
   ],
   "source": [
    "n = int(input('Enter the number '))\n",
    "x, y = calc(n)\n",
    "print('square',x)\n",
    "print('cube',y)"
   ]
  },
  {
   "cell_type": "code",
   "execution_count": 66,
   "id": "25269d12-2362-4d8d-a42d-053d249cafa0",
   "metadata": {},
   "outputs": [],
   "source": [
    "# default parameter\n",
    "\n",
    "def add3(a = 5, b = 7, c = 10):\n",
    "    result = a + b + c\n",
    "    return result"
   ]
  },
  {
   "cell_type": "code",
   "execution_count": 67,
   "id": "e94eea34-1f2c-4005-9d3a-664f989b3e42",
   "metadata": {},
   "outputs": [
    {
     "data": {
      "text/plain": [
       "22"
      ]
     },
     "execution_count": 67,
     "metadata": {},
     "output_type": "execute_result"
    }
   ],
   "source": [
    "add3()"
   ]
  },
  {
   "cell_type": "code",
   "execution_count": 68,
   "id": "89307382-fcdc-445b-83c0-968742794ecf",
   "metadata": {},
   "outputs": [
    {
     "data": {
      "text/plain": [
       "27"
      ]
     },
     "execution_count": 68,
     "metadata": {},
     "output_type": "execute_result"
    }
   ],
   "source": [
    "add3(10)"
   ]
  },
  {
   "cell_type": "code",
   "execution_count": 69,
   "id": "98c26429-1631-4df8-97b6-aa430ad12539",
   "metadata": {},
   "outputs": [
    {
     "data": {
      "text/plain": [
       "30"
      ]
     },
     "execution_count": 69,
     "metadata": {},
     "output_type": "execute_result"
    }
   ],
   "source": [
    "add3(10, 10)"
   ]
  },
  {
   "cell_type": "code",
   "execution_count": 70,
   "id": "02e91036-3e05-44ba-a206-2a362e1cd606",
   "metadata": {},
   "outputs": [
    {
     "data": {
      "text/plain": [
       "37"
      ]
     },
     "execution_count": 70,
     "metadata": {},
     "output_type": "execute_result"
    }
   ],
   "source": [
    "add3(a = 10, c = 20)"
   ]
  },
  {
   "cell_type": "code",
   "execution_count": 75,
   "id": "c3e9fabc-146b-4f3a-b679-4b554d7a8019",
   "metadata": {},
   "outputs": [],
   "source": [
    "def add3(b, a = 5,c = 10):\n",
    "    result = a + b + c\n",
    "    return result"
   ]
  },
  {
   "cell_type": "code",
   "execution_count": 76,
   "id": "1638e192-28b7-4aa5-bee9-90646a2358a8",
   "metadata": {},
   "outputs": [
    {
     "data": {
      "text/plain": [
       "25"
      ]
     },
     "execution_count": 76,
     "metadata": {},
     "output_type": "execute_result"
    }
   ],
   "source": [
    "add3(10)"
   ]
  },
  {
   "cell_type": "code",
   "execution_count": 77,
   "id": "8169e67f-4754-4638-8a55-b34fe15a0c4e",
   "metadata": {},
   "outputs": [],
   "source": [
    "def inl(*a):\n",
    "    print(*a)"
   ]
  },
  {
   "cell_type": "code",
   "execution_count": 78,
   "id": "c8b06344-f442-41ea-a3af-23331934226a",
   "metadata": {},
   "outputs": [
    {
     "name": "stdout",
     "output_type": "stream",
     "text": [
      "1 2 3 5 6 7\n"
     ]
    }
   ],
   "source": [
    "inl(1,2,3,5,6,7)"
   ]
  },
  {
   "cell_type": "code",
   "execution_count": 80,
   "id": "6f9b497a-f15a-4c17-be50-8688ca2c3763",
   "metadata": {},
   "outputs": [],
   "source": [
    "# dynamic or variable length parameter\n",
    "\n",
    "def inl(*args):\n",
    "    for i in args:\n",
    "        print(i)"
   ]
  },
  {
   "cell_type": "code",
   "execution_count": 81,
   "id": "fa1ab577-d03a-42d7-a9c8-2a85e4d68977",
   "metadata": {},
   "outputs": [
    {
     "name": "stdout",
     "output_type": "stream",
     "text": [
      "1\n",
      "2\n",
      "3\n",
      "5\n",
      "6\n",
      "7\n"
     ]
    }
   ],
   "source": [
    "inl(1,2,3,5,6,7)"
   ]
  },
  {
   "cell_type": "code",
   "execution_count": 82,
   "id": "9d0eda6f-e075-48f6-a34f-5f1b128b01da",
   "metadata": {},
   "outputs": [],
   "source": [
    "# lambda function\n",
    "\n",
    "square = lambda x: x * x"
   ]
  },
  {
   "cell_type": "code",
   "execution_count": 83,
   "id": "cca8a52e-d392-4b98-ab62-6f5469536a0a",
   "metadata": {},
   "outputs": [
    {
     "data": {
      "text/plain": [
       "25"
      ]
     },
     "execution_count": 83,
     "metadata": {},
     "output_type": "execute_result"
    }
   ],
   "source": [
    "square(5)"
   ]
  },
  {
   "cell_type": "code",
   "execution_count": 84,
   "id": "59b11a36-f662-4de8-a641-69c771672803",
   "metadata": {},
   "outputs": [],
   "source": [
    "add = lambda x,y: x + y"
   ]
  },
  {
   "cell_type": "code",
   "execution_count": 85,
   "id": "bccd04db-5fc5-4aab-b74c-ebd3df948f8f",
   "metadata": {},
   "outputs": [
    {
     "data": {
      "text/plain": [
       "77"
      ]
     },
     "execution_count": 85,
     "metadata": {},
     "output_type": "execute_result"
    }
   ],
   "source": [
    "add(10,67)"
   ]
  },
  {
   "cell_type": "code",
   "execution_count": 89,
   "id": "f8b9f872-9b0e-4e30-84f7-0950d5ea06f5",
   "metadata": {},
   "outputs": [],
   "source": [
    "# filter\n",
    "\n",
    "num = [23,45,76,13,57,21,43]"
   ]
  },
  {
   "cell_type": "code",
   "execution_count": 94,
   "id": "25423b6c-2173-4d98-887e-549ce71fccf9",
   "metadata": {},
   "outputs": [],
   "source": [
    "new = filter(lambda x: x > 40, num)"
   ]
  },
  {
   "cell_type": "code",
   "execution_count": 95,
   "id": "c4fc9a69-6b48-43ec-ad28-89bfdb819c96",
   "metadata": {},
   "outputs": [
    {
     "data": {
      "text/plain": [
       "[45, 76, 57, 43]"
      ]
     },
     "execution_count": 95,
     "metadata": {},
     "output_type": "execute_result"
    }
   ],
   "source": [
    "list(new)"
   ]
  },
  {
   "cell_type": "code",
   "execution_count": 96,
   "id": "fd8f76db-2f55-43e4-8df5-b3f7dc93d30a",
   "metadata": {},
   "outputs": [],
   "source": [
    "# map\n",
    "\n",
    "new = map(lambda x: x/2, num)"
   ]
  },
  {
   "cell_type": "code",
   "execution_count": 97,
   "id": "6354f414-ceb3-4ddc-aef1-d95d007fa2dc",
   "metadata": {},
   "outputs": [
    {
     "data": {
      "text/plain": [
       "[11.5, 22.5, 38.0, 6.5, 28.5, 10.5, 21.5]"
      ]
     },
     "execution_count": 97,
     "metadata": {},
     "output_type": "execute_result"
    }
   ],
   "source": [
    "list(new)"
   ]
  },
  {
   "cell_type": "code",
   "execution_count": 99,
   "id": "fec6a057-38e6-49c6-b820-bbc501cae9c8",
   "metadata": {},
   "outputs": [
    {
     "name": "stdout",
     "output_type": "stream",
     "text": [
      "[False, True, True, False, True, False, True]\n"
     ]
    }
   ],
   "source": [
    "new = map(lambda x: x > 40, num)\n",
    "print(list(new))"
   ]
  },
  {
   "cell_type": "code",
   "execution_count": null,
   "id": "e5cbdb8c-9efe-4325-8445-8f150d009f8c",
   "metadata": {},
   "outputs": [],
   "source": [
    "# Modules"
   ]
  },
  {
   "cell_type": "code",
   "execution_count": 101,
   "id": "394f35ed-2903-48f5-849c-a738bcab70f8",
   "metadata": {},
   "outputs": [],
   "source": [
    "import math"
   ]
  },
  {
   "cell_type": "code",
   "execution_count": 102,
   "id": "ef86618c-71ea-4452-adff-92e0ceb83a4c",
   "metadata": {},
   "outputs": [
    {
     "name": "stdout",
     "output_type": "stream",
     "text": [
      "Help on built-in module math:\n",
      "\n",
      "NAME\n",
      "    math\n",
      "\n",
      "DESCRIPTION\n",
      "    This module provides access to the mathematical functions\n",
      "    defined by the C standard.\n",
      "\n",
      "FUNCTIONS\n",
      "    acos(x, /)\n",
      "        Return the arc cosine (measured in radians) of x.\n",
      "        \n",
      "        The result is between 0 and pi.\n",
      "    \n",
      "    acosh(x, /)\n",
      "        Return the inverse hyperbolic cosine of x.\n",
      "    \n",
      "    asin(x, /)\n",
      "        Return the arc sine (measured in radians) of x.\n",
      "        \n",
      "        The result is between -pi/2 and pi/2.\n",
      "    \n",
      "    asinh(x, /)\n",
      "        Return the inverse hyperbolic sine of x.\n",
      "    \n",
      "    atan(x, /)\n",
      "        Return the arc tangent (measured in radians) of x.\n",
      "        \n",
      "        The result is between -pi/2 and pi/2.\n",
      "    \n",
      "    atan2(y, x, /)\n",
      "        Return the arc tangent (measured in radians) of y/x.\n",
      "        \n",
      "        Unlike atan(y/x), the signs of both x and y are considered.\n",
      "    \n",
      "    atanh(x, /)\n",
      "        Return the inverse hyperbolic tangent of x.\n",
      "    \n",
      "    cbrt(x, /)\n",
      "        Return the cube root of x.\n",
      "    \n",
      "    ceil(x, /)\n",
      "        Return the ceiling of x as an Integral.\n",
      "        \n",
      "        This is the smallest integer >= x.\n",
      "    \n",
      "    comb(n, k, /)\n",
      "        Number of ways to choose k items from n items without repetition and without order.\n",
      "        \n",
      "        Evaluates to n! / (k! * (n - k)!) when k <= n and evaluates\n",
      "        to zero when k > n.\n",
      "        \n",
      "        Also called the binomial coefficient because it is equivalent\n",
      "        to the coefficient of k-th term in polynomial expansion of the\n",
      "        expression (1 + x)**n.\n",
      "        \n",
      "        Raises TypeError if either of the arguments are not integers.\n",
      "        Raises ValueError if either of the arguments are negative.\n",
      "    \n",
      "    copysign(x, y, /)\n",
      "        Return a float with the magnitude (absolute value) of x but the sign of y.\n",
      "        \n",
      "        On platforms that support signed zeros, copysign(1.0, -0.0)\n",
      "        returns -1.0.\n",
      "    \n",
      "    cos(x, /)\n",
      "        Return the cosine of x (measured in radians).\n",
      "    \n",
      "    cosh(x, /)\n",
      "        Return the hyperbolic cosine of x.\n",
      "    \n",
      "    degrees(x, /)\n",
      "        Convert angle x from radians to degrees.\n",
      "    \n",
      "    dist(p, q, /)\n",
      "        Return the Euclidean distance between two points p and q.\n",
      "        \n",
      "        The points should be specified as sequences (or iterables) of\n",
      "        coordinates.  Both inputs must have the same dimension.\n",
      "        \n",
      "        Roughly equivalent to:\n",
      "            sqrt(sum((px - qx) ** 2.0 for px, qx in zip(p, q)))\n",
      "    \n",
      "    erf(x, /)\n",
      "        Error function at x.\n",
      "    \n",
      "    erfc(x, /)\n",
      "        Complementary error function at x.\n",
      "    \n",
      "    exp(x, /)\n",
      "        Return e raised to the power of x.\n",
      "    \n",
      "    exp2(x, /)\n",
      "        Return 2 raised to the power of x.\n",
      "    \n",
      "    expm1(x, /)\n",
      "        Return exp(x)-1.\n",
      "        \n",
      "        This function avoids the loss of precision involved in the direct evaluation of exp(x)-1 for small x.\n",
      "    \n",
      "    fabs(x, /)\n",
      "        Return the absolute value of the float x.\n",
      "    \n",
      "    factorial(n, /)\n",
      "        Find n!.\n",
      "        \n",
      "        Raise a ValueError if x is negative or non-integral.\n",
      "    \n",
      "    floor(x, /)\n",
      "        Return the floor of x as an Integral.\n",
      "        \n",
      "        This is the largest integer <= x.\n",
      "    \n",
      "    fmod(x, y, /)\n",
      "        Return fmod(x, y), according to platform C.\n",
      "        \n",
      "        x % y may differ.\n",
      "    \n",
      "    frexp(x, /)\n",
      "        Return the mantissa and exponent of x, as pair (m, e).\n",
      "        \n",
      "        m is a float and e is an int, such that x = m * 2.**e.\n",
      "        If x is 0, m and e are both 0.  Else 0.5 <= abs(m) < 1.0.\n",
      "    \n",
      "    fsum(seq, /)\n",
      "        Return an accurate floating point sum of values in the iterable seq.\n",
      "        \n",
      "        Assumes IEEE-754 floating point arithmetic.\n",
      "    \n",
      "    gamma(x, /)\n",
      "        Gamma function at x.\n",
      "    \n",
      "    gcd(*integers)\n",
      "        Greatest Common Divisor.\n",
      "    \n",
      "    hypot(...)\n",
      "        hypot(*coordinates) -> value\n",
      "        \n",
      "        Multidimensional Euclidean distance from the origin to a point.\n",
      "        \n",
      "        Roughly equivalent to:\n",
      "            sqrt(sum(x**2 for x in coordinates))\n",
      "        \n",
      "        For a two dimensional point (x, y), gives the hypotenuse\n",
      "        using the Pythagorean theorem:  sqrt(x*x + y*y).\n",
      "        \n",
      "        For example, the hypotenuse of a 3/4/5 right triangle is:\n",
      "        \n",
      "            >>> hypot(3.0, 4.0)\n",
      "            5.0\n",
      "    \n",
      "    isclose(a, b, *, rel_tol=1e-09, abs_tol=0.0)\n",
      "        Determine whether two floating point numbers are close in value.\n",
      "        \n",
      "          rel_tol\n",
      "            maximum difference for being considered \"close\", relative to the\n",
      "            magnitude of the input values\n",
      "          abs_tol\n",
      "            maximum difference for being considered \"close\", regardless of the\n",
      "            magnitude of the input values\n",
      "        \n",
      "        Return True if a is close in value to b, and False otherwise.\n",
      "        \n",
      "        For the values to be considered close, the difference between them\n",
      "        must be smaller than at least one of the tolerances.\n",
      "        \n",
      "        -inf, inf and NaN behave similarly to the IEEE 754 Standard.  That\n",
      "        is, NaN is not close to anything, even itself.  inf and -inf are\n",
      "        only close to themselves.\n",
      "    \n",
      "    isfinite(x, /)\n",
      "        Return True if x is neither an infinity nor a NaN, and False otherwise.\n",
      "    \n",
      "    isinf(x, /)\n",
      "        Return True if x is a positive or negative infinity, and False otherwise.\n",
      "    \n",
      "    isnan(x, /)\n",
      "        Return True if x is a NaN (not a number), and False otherwise.\n",
      "    \n",
      "    isqrt(n, /)\n",
      "        Return the integer part of the square root of the input.\n",
      "    \n",
      "    lcm(*integers)\n",
      "        Least Common Multiple.\n",
      "    \n",
      "    ldexp(x, i, /)\n",
      "        Return x * (2**i).\n",
      "        \n",
      "        This is essentially the inverse of frexp().\n",
      "    \n",
      "    lgamma(x, /)\n",
      "        Natural logarithm of absolute value of Gamma function at x.\n",
      "    \n",
      "    log(...)\n",
      "        log(x, [base=math.e])\n",
      "        Return the logarithm of x to the given base.\n",
      "        \n",
      "        If the base not specified, returns the natural logarithm (base e) of x.\n",
      "    \n",
      "    log10(x, /)\n",
      "        Return the base 10 logarithm of x.\n",
      "    \n",
      "    log1p(x, /)\n",
      "        Return the natural logarithm of 1+x (base e).\n",
      "        \n",
      "        The result is computed in a way which is accurate for x near zero.\n",
      "    \n",
      "    log2(x, /)\n",
      "        Return the base 2 logarithm of x.\n",
      "    \n",
      "    modf(x, /)\n",
      "        Return the fractional and integer parts of x.\n",
      "        \n",
      "        Both results carry the sign of x and are floats.\n",
      "    \n",
      "    nextafter(x, y, /)\n",
      "        Return the next floating-point value after x towards y.\n",
      "    \n",
      "    perm(n, k=None, /)\n",
      "        Number of ways to choose k items from n items without repetition and with order.\n",
      "        \n",
      "        Evaluates to n! / (n - k)! when k <= n and evaluates\n",
      "        to zero when k > n.\n",
      "        \n",
      "        If k is not specified or is None, then k defaults to n\n",
      "        and the function returns n!.\n",
      "        \n",
      "        Raises TypeError if either of the arguments are not integers.\n",
      "        Raises ValueError if either of the arguments are negative.\n",
      "    \n",
      "    pow(x, y, /)\n",
      "        Return x**y (x to the power of y).\n",
      "    \n",
      "    prod(iterable, /, *, start=1)\n",
      "        Calculate the product of all the elements in the input iterable.\n",
      "        \n",
      "        The default start value for the product is 1.\n",
      "        \n",
      "        When the iterable is empty, return the start value.  This function is\n",
      "        intended specifically for use with numeric values and may reject\n",
      "        non-numeric types.\n",
      "    \n",
      "    radians(x, /)\n",
      "        Convert angle x from degrees to radians.\n",
      "    \n",
      "    remainder(x, y, /)\n",
      "        Difference between x and the closest integer multiple of y.\n",
      "        \n",
      "        Return x - n*y where n*y is the closest integer multiple of y.\n",
      "        In the case where x is exactly halfway between two multiples of\n",
      "        y, the nearest even value of n is used. The result is always exact.\n",
      "    \n",
      "    sin(x, /)\n",
      "        Return the sine of x (measured in radians).\n",
      "    \n",
      "    sinh(x, /)\n",
      "        Return the hyperbolic sine of x.\n",
      "    \n",
      "    sqrt(x, /)\n",
      "        Return the square root of x.\n",
      "    \n",
      "    tan(x, /)\n",
      "        Return the tangent of x (measured in radians).\n",
      "    \n",
      "    tanh(x, /)\n",
      "        Return the hyperbolic tangent of x.\n",
      "    \n",
      "    trunc(x, /)\n",
      "        Truncates the Real x to the nearest Integral toward 0.\n",
      "        \n",
      "        Uses the __trunc__ magic method.\n",
      "    \n",
      "    ulp(x, /)\n",
      "        Return the value of the least significant bit of the float x.\n",
      "\n",
      "DATA\n",
      "    e = 2.718281828459045\n",
      "    inf = inf\n",
      "    nan = nan\n",
      "    pi = 3.141592653589793\n",
      "    tau = 6.283185307179586\n",
      "\n",
      "FILE\n",
      "    (built-in)\n",
      "\n",
      "\n"
     ]
    }
   ],
   "source": [
    "help(math)"
   ]
  },
  {
   "cell_type": "code",
   "execution_count": 103,
   "id": "6b9f1173-8323-417a-82a4-c484d7c1250b",
   "metadata": {},
   "outputs": [
    {
     "data": {
      "text/plain": [
       "10.0"
      ]
     },
     "execution_count": 103,
     "metadata": {},
     "output_type": "execute_result"
    }
   ],
   "source": [
    "math.sqrt(100)"
   ]
  },
  {
   "cell_type": "code",
   "execution_count": 104,
   "id": "4da5a9c3-f601-44e5-81f0-3d6b45359a4f",
   "metadata": {},
   "outputs": [
    {
     "data": {
      "text/plain": [
       "-0.9880316240928618"
      ]
     },
     "execution_count": 104,
     "metadata": {},
     "output_type": "execute_result"
    }
   ],
   "source": [
    "math.sin(30)"
   ]
  },
  {
   "cell_type": "code",
   "execution_count": 105,
   "id": "4093a0bb-2623-473b-950a-95d57a98ac15",
   "metadata": {},
   "outputs": [
    {
     "data": {
      "text/plain": [
       "2.302585092994046"
      ]
     },
     "execution_count": 105,
     "metadata": {},
     "output_type": "execute_result"
    }
   ],
   "source": [
    "math.log(10)"
   ]
  },
  {
   "cell_type": "code",
   "execution_count": 108,
   "id": "11bcabef-516b-4aeb-ab1a-e9f7189f470b",
   "metadata": {},
   "outputs": [
    {
     "name": "stdin",
     "output_type": "stream",
     "text": [
      "Enter the radius  5\n"
     ]
    },
    {
     "name": "stdout",
     "output_type": "stream",
     "text": [
      "Area of circle is: 113.09733552923255\n"
     ]
    }
   ],
   "source": [
    "# read a radius and find area\n",
    "\n",
    "radius = float(input('Enter the radius '))\n",
    "\n",
    "print('Area of circle is:', math.pi * r * r)"
   ]
  },
  {
   "cell_type": "code",
   "execution_count": 109,
   "id": "0003feaa-e180-4741-960a-0229646660ca",
   "metadata": {},
   "outputs": [],
   "source": [
    "import time"
   ]
  },
  {
   "cell_type": "code",
   "execution_count": 110,
   "id": "13de536c-3942-4037-87be-aa787782eab5",
   "metadata": {},
   "outputs": [
    {
     "data": {
      "text/plain": [
       "'Mon Jun 10 12:10:24 2024'"
      ]
     },
     "execution_count": 110,
     "metadata": {},
     "output_type": "execute_result"
    }
   ],
   "source": [
    "time.asctime()"
   ]
  },
  {
   "cell_type": "code",
   "execution_count": 111,
   "id": "a407c70f-6048-495b-8fd6-c02af769ea34",
   "metadata": {},
   "outputs": [
    {
     "name": "stdout",
     "output_type": "stream",
     "text": [
      "Hello\n",
      "OK\n"
     ]
    }
   ],
   "source": [
    "print('Hello')\n",
    "time.sleep(5)\n",
    "print('OK')"
   ]
  },
  {
   "cell_type": "code",
   "execution_count": 112,
   "id": "151bbb4d-6433-487a-affe-5af85467e97b",
   "metadata": {},
   "outputs": [],
   "source": [
    "# giving an alias\n",
    "\n",
    "import math as m"
   ]
  },
  {
   "cell_type": "code",
   "execution_count": 113,
   "id": "39aa6fdf-1490-49b5-ac4b-5070f9d51b6c",
   "metadata": {},
   "outputs": [
    {
     "data": {
      "text/plain": [
       "2.23606797749979"
      ]
     },
     "execution_count": 113,
     "metadata": {},
     "output_type": "execute_result"
    }
   ],
   "source": [
    "m.sqrt(5)"
   ]
  },
  {
   "cell_type": "code",
   "execution_count": 114,
   "id": "3d8f2987-dd22-4c09-834b-d7035006bb96",
   "metadata": {},
   "outputs": [],
   "source": [
    "# selective imports\n",
    "\n",
    "from math import sqrt, sin, pi"
   ]
  },
  {
   "cell_type": "code",
   "execution_count": 115,
   "id": "bb28daed-bb06-472e-8020-ac1a04cf50ea",
   "metadata": {},
   "outputs": [
    {
     "data": {
      "text/plain": [
       "2.23606797749979"
      ]
     },
     "execution_count": 115,
     "metadata": {},
     "output_type": "execute_result"
    }
   ],
   "source": [
    "sqrt(5)"
   ]
  },
  {
   "cell_type": "code",
   "execution_count": 116,
   "id": "e067b885-e06a-4053-84e1-a8d8321fe9f7",
   "metadata": {},
   "outputs": [
    {
     "data": {
      "text/plain": [
       "3.141592653589793"
      ]
     },
     "execution_count": 116,
     "metadata": {},
     "output_type": "execute_result"
    }
   ],
   "source": [
    "pi"
   ]
  },
  {
   "cell_type": "code",
   "execution_count": null,
   "id": "c4d24208-513b-424f-b12a-b9f2bf66ddb2",
   "metadata": {},
   "outputs": [],
   "source": [
    "# import user defined module\n",
    "\n",
    "import mod11 "
   ]
  },
  {
   "cell_type": "code",
   "execution_count": null,
   "id": "853c2727-9ad8-4fd0-a0a9-a55d5d1e57a3",
   "metadata": {},
   "outputs": [],
   "source": [
    "mod11.show()"
   ]
  },
  {
   "cell_type": "code",
   "execution_count": null,
   "id": "c9bef807-4e79-4d55-b113-41db63f7b901",
   "metadata": {},
   "outputs": [],
   "source": []
  }
 ],
 "metadata": {
  "kernelspec": {
   "display_name": "Python 3 (ipykernel)",
   "language": "python",
   "name": "python3"
  },
  "language_info": {
   "codemirror_mode": {
    "name": "ipython",
    "version": 3
   },
   "file_extension": ".py",
   "mimetype": "text/x-python",
   "name": "python",
   "nbconvert_exporter": "python",
   "pygments_lexer": "ipython3",
   "version": "3.11.7"
  }
 },
 "nbformat": 4,
 "nbformat_minor": 5
}
