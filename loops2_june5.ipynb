{
 "cells": [
  {
   "cell_type": "code",
   "execution_count": 2,
   "id": "594efeba-f2aa-4e4f-865a-08f9a2ea6135",
   "metadata": {},
   "outputs": [
    {
     "name": "stdout",
     "output_type": "stream",
     "text": [
      "Nandani Nandani Nandani Nandani Nandani Nandani Nandani Nandani Nandani Nandani Nandani Nandani Nandani Nandani Nandani "
     ]
    }
   ],
   "source": [
    "# printing a name 15 times\n",
    "\n",
    "count = 1\n",
    "\n",
    "while count <= 15:\n",
    "    print('Nandani', end = ' ')\n",
    "    count = count + 1"
   ]
  },
  {
   "cell_type": "code",
   "execution_count": 3,
   "id": "16006061-fe29-451e-aa8c-06c7b5ac65e0",
   "metadata": {},
   "outputs": [
    {
     "name": "stdout",
     "output_type": "stream",
     "text": [
      "16\n"
     ]
    }
   ],
   "source": [
    "print(count)"
   ]
  },
  {
   "cell_type": "code",
   "execution_count": 4,
   "id": "a4b364aa-126d-422a-a115-49effb582434",
   "metadata": {},
   "outputs": [
    {
     "name": "stdout",
     "output_type": "stream",
     "text": [
      "1\n",
      "2\n",
      "3\n",
      "4\n",
      "5\n"
     ]
    }
   ],
   "source": [
    "# print numbers from 1 to 5\n",
    "\n",
    "count = 1\n",
    "\n",
    "while count <= 5:\n",
    "    print(count)\n",
    "    count += 1"
   ]
  },
  {
   "cell_type": "code",
   "execution_count": 5,
   "id": "f1c5350d-81e4-4d23-8398-28bab47cd031",
   "metadata": {},
   "outputs": [
    {
     "name": "stdout",
     "output_type": "stream",
     "text": [
      "1\n",
      "3\n",
      "5\n",
      "7\n",
      "9\n",
      "11\n",
      "13\n",
      "15\n",
      "17\n",
      "19\n"
     ]
    }
   ],
   "source": [
    "# print odd numbers from 1 to 20\n",
    "\n",
    "count = 1\n",
    "\n",
    "while count <= 20:\n",
    "    print(count)\n",
    "    count += 2"
   ]
  },
  {
   "cell_type": "code",
   "execution_count": 6,
   "id": "a95b5521-5a74-4024-b5d8-7cdef9bcb655",
   "metadata": {},
   "outputs": [
    {
     "name": "stdout",
     "output_type": "stream",
     "text": [
      "Addition is: 55\n"
     ]
    }
   ],
   "source": [
    "# find the addition of all numbers from 1 to 10\n",
    "\n",
    "count = 1\n",
    "add = 0\n",
    "\n",
    "while count <= 10:\n",
    "    add = add + count\n",
    "    count += 1\n",
    "    \n",
    "print('Addition is:', add)"
   ]
  },
  {
   "cell_type": "code",
   "execution_count": 7,
   "id": "235de941-4439-4f3d-9c93-def47534a209",
   "metadata": {},
   "outputs": [
    {
     "name": "stdout",
     "output_type": "stream",
     "text": [
      "Addition is: 100\n"
     ]
    }
   ],
   "source": [
    "\n",
    "# find addition of all the odd numbers from 1 to 20\n",
    "\n",
    "count = 1\n",
    "add = 0\n",
    "\n",
    "while count <= 20:\n",
    "    add = add + count\n",
    "    count += 2\n",
    "    \n",
    "print('Addition is:', add)"
   ]
  },
  {
   "cell_type": "code",
   "execution_count": 8,
   "id": "2af2b80c-e185-4119-9b79-989284bf3117",
   "metadata": {},
   "outputs": [
    {
     "name": "stdout",
     "output_type": "stream",
     "text": [
      "factorial is: 120\n"
     ]
    }
   ],
   "source": [
    "# factorial => 5! => 5 * 4 * 3 * 2 * 1 = 120\n",
    "\n",
    "num = 1\n",
    "fact = 1\n",
    "\n",
    "while num <= 5:\n",
    "    fact = fact * num\n",
    "    num += 1\n",
    "    \n",
    "print('factorial is:', fact)"
   ]
  },
  {
   "cell_type": "code",
   "execution_count": 9,
   "id": "16e44522-4dae-46f1-880b-10d47125ae57",
   "metadata": {},
   "outputs": [
    {
     "name": "stdin",
     "output_type": "stream",
     "text": [
      "Enter the number  5\n"
     ]
    },
    {
     "name": "stdout",
     "output_type": "stream",
     "text": [
      "factorial is: 120\n"
     ]
    }
   ],
   "source": [
    "num = int(input('Enter the number '))\n",
    "\n",
    "fact = 1\n",
    "\n",
    "while num >= 1:\n",
    "    fact = fact * num\n",
    "    num -= 1\n",
    "    \n",
    "print('factorial is:', fact)"
   ]
  },
  {
   "cell_type": "code",
   "execution_count": 10,
   "id": "e168cda2-6626-4412-9e46-c41687622df2",
   "metadata": {},
   "outputs": [],
   "source": [
    "'''# infinite loop\n",
    "\n",
    "count = 1\n",
    "\n",
    "while count <= 15:\n",
    "    print('A', end = ' ')\n",
    "    \n",
    "    ''';\n"
   ]
  },
  {
   "cell_type": "code",
   "execution_count": 11,
   "id": "475f240e-8a5d-461e-9034-6abc61284193",
   "metadata": {},
   "outputs": [],
   "source": [
    "'''while True:\n",
    "    print('a')\n",
    "    \n",
    "    ''';"
   ]
  },
  {
   "cell_type": "code",
   "execution_count": 12,
   "id": "6e74a474-27cc-4f36-b069-6195fc5fc070",
   "metadata": {},
   "outputs": [
    {
     "name": "stdout",
     "output_type": "stream",
     "text": [
      "Addition is: 100\n"
     ]
    }
   ],
   "source": [
    "# else\n",
    "\n",
    "count = 1\n",
    "add = 0\n",
    "\n",
    "while count <= 20:\n",
    "    add = add + count\n",
    "    count += 2\n",
    "else:\n",
    "    print('Addition is:', add)"
   ]
  },
  {
   "cell_type": "code",
   "execution_count": 13,
   "id": "68479843-568a-4b09-bc19-b827df81be98",
   "metadata": {},
   "outputs": [
    {
     "name": "stdout",
     "output_type": "stream",
     "text": [
      "5\n",
      "1234\n"
     ]
    }
   ],
   "source": [
    "# find the addition of all the digits of a number \n",
    "# ex... 12345 => 1 + 2 + 3 + 4 + 5 = 15\n",
    "\n",
    "num = 12345\n",
    "\n",
    "print(num % 10)\n",
    "print(num // 10)"
   ]
  },
  {
   "cell_type": "code",
   "execution_count": 14,
   "id": "2a49f3d7-07d6-4c78-aeb3-fafde12a2f81",
   "metadata": {},
   "outputs": [
    {
     "name": "stdin",
     "output_type": "stream",
     "text": [
      "Enter the number  123545\n"
     ]
    },
    {
     "name": "stdout",
     "output_type": "stream",
     "text": [
      "Addition of digits is: 20\n"
     ]
    }
   ],
   "source": [
    "num = int(input('Enter the number '))\n",
    "add = 0\n",
    "\n",
    "while num > 0:\n",
    "    rem = num % 10\n",
    "    add = add + rem\n",
    "    num = num // 10\n",
    "    \n",
    "print('Addition of digits is:', add)"
   ]
  },
  {
   "cell_type": "code",
   "execution_count": 15,
   "id": "68a8e06d-b714-4fb0-92b0-4a96f08c770f",
   "metadata": {},
   "outputs": [],
   "source": [
    "# For loop"
   ]
  },
  {
   "cell_type": "code",
   "execution_count": 16,
   "id": "76169eaa-135c-4b6a-8e6d-a36df675f7e8",
   "metadata": {},
   "outputs": [
    {
     "name": "stdout",
     "output_type": "stream",
     "text": [
      "34\n",
      "45\n",
      "21\n",
      "33\n",
      "57\n"
     ]
    }
   ],
   "source": [
    "for n in 34, 45, 21, 33, 57:\n",
    "    print(n)"
   ]
  },
  {
   "cell_type": "code",
   "execution_count": 17,
   "id": "9b1761dc-99f2-44e4-9465-8cb4ead589a5",
   "metadata": {},
   "outputs": [
    {
     "name": "stdout",
     "output_type": "stream",
     "text": [
      "17.0\n",
      "22.5\n",
      "10.5\n",
      "16.5\n",
      "28.5\n"
     ]
    }
   ],
   "source": [
    "for n in 34, 45, 21, 33, 57:\n",
    "    print(n/2)"
   ]
  },
  {
   "cell_type": "code",
   "execution_count": 18,
   "id": "478946b4-a6ba-4989-b201-f8dd92a1b8d1",
   "metadata": {},
   "outputs": [
    {
     "name": "stdout",
     "output_type": "stream",
     "text": [
      "34\n",
      "45\n",
      "21\n",
      "33\n",
      "57\n",
      "67.33\n",
      "Adi\n",
      "True\n"
     ]
    }
   ],
   "source": [
    "for n in 34, 45, 21, 33, 57, 67.33, 'Adi', True:\n",
    "    print(n)"
   ]
  },
  {
   "cell_type": "code",
   "execution_count": 19,
   "id": "df80424b-2061-4265-908c-1b79cc3d5064",
   "metadata": {},
   "outputs": [],
   "source": [
    "# range function"
   ]
  },
  {
   "cell_type": "code",
   "execution_count": 20,
   "id": "89167622-c587-4cc9-9949-72f58eadb61a",
   "metadata": {},
   "outputs": [
    {
     "data": {
      "text/plain": [
       "[0, 1, 2, 3, 4, 5, 6, 7, 8, 9]"
      ]
     },
     "execution_count": 20,
     "metadata": {},
     "output_type": "execute_result"
    }
   ],
   "source": [
    "list(range(10))"
   ]
  },
  {
   "cell_type": "code",
   "execution_count": 21,
   "id": "6a6a8312-b75b-42fc-8fd4-e691bbae3286",
   "metadata": {},
   "outputs": [
    {
     "data": {
      "text/plain": [
       "[5, 6, 7, 8, 9, 10, 11, 12, 13, 14, 15]"
      ]
     },
     "execution_count": 21,
     "metadata": {},
     "output_type": "execute_result"
    }
   ],
   "source": [
    "list(range(5, 16))"
   ]
  },
  {
   "cell_type": "code",
   "execution_count": 22,
   "id": "a737260c-461c-4f55-b0c7-848b35be7999",
   "metadata": {},
   "outputs": [
    {
     "data": {
      "text/plain": [
       "[5, 8, 11, 14]"
      ]
     },
     "execution_count": 22,
     "metadata": {},
     "output_type": "execute_result"
    }
   ],
   "source": [
    "list(range(5, 16, 3))"
   ]
  },
  {
   "cell_type": "code",
   "execution_count": 23,
   "id": "50586f33-9fa2-4eb7-a6b1-40968b4a6c18",
   "metadata": {},
   "outputs": [
    {
     "data": {
      "text/plain": [
       "[23,\n",
       " 22,\n",
       " 21,\n",
       " 20,\n",
       " 19,\n",
       " 18,\n",
       " 17,\n",
       " 16,\n",
       " 15,\n",
       " 14,\n",
       " 13,\n",
       " 12,\n",
       " 11,\n",
       " 10,\n",
       " 9,\n",
       " 8,\n",
       " 7,\n",
       " 6,\n",
       " 5,\n",
       " 4,\n",
       " 3,\n",
       " 2]"
      ]
     },
     "execution_count": 23,
     "metadata": {},
     "output_type": "execute_result"
    }
   ],
   "source": [
    "# range(start, end + 1, step)\n",
    "\n",
    "list(range(23, 1, -1))"
   ]
  },
  {
   "cell_type": "code",
   "execution_count": 24,
   "id": "4cc211e8-924b-4291-8c85-0e614c700853",
   "metadata": {},
   "outputs": [
    {
     "name": "stdout",
     "output_type": "stream",
     "text": [
      "0\n",
      "1\n",
      "2\n",
      "3\n",
      "4\n"
     ]
    }
   ],
   "source": [
    "for n in range(5):\n",
    "    print(n)"
   ]
  },
  {
   "cell_type": "code",
   "execution_count": 25,
   "id": "3209e764-4182-4049-89a3-efdb30e7b87a",
   "metadata": {},
   "outputs": [
    {
     "name": "stdout",
     "output_type": "stream",
     "text": [
      "1\n",
      "4\n",
      "9\n",
      "16\n",
      "25\n"
     ]
    }
   ],
   "source": [
    "for n in range(1, 6):\n",
    "    print(n ** 2)"
   ]
  },
  {
   "cell_type": "code",
   "execution_count": 27,
   "id": "3efc1d35-042b-43aa-a54b-9238d30e22a4",
   "metadata": {},
   "outputs": [
    {
     "name": "stdout",
     "output_type": "stream",
     "text": [
      "Nandani Nandani Nandani Nandani Nandani Nandani Nandani Nandani Nandani Nandani "
     ]
    }
   ],
   "source": [
    "# print your name 10 times using for loop\n",
    "\n",
    "for n in range(10):\n",
    "    print('Nandani', end = ' ')"
   ]
  },
  {
   "cell_type": "code",
   "execution_count": 28,
   "id": "6d5d140c-5023-4256-9884-1abfdcc6aeb2",
   "metadata": {},
   "outputs": [
    {
     "name": "stdout",
     "output_type": "stream",
     "text": [
      "Addition is 55\n"
     ]
    }
   ],
   "source": [
    "# find the addition of 1 to 10 numbers\n",
    "\n",
    "add = 0\n",
    "\n",
    "for n in range(1, 11):\n",
    "    add = add + n\n",
    "    \n",
    "print('Addition is', add)"
   ]
  },
  {
   "cell_type": "code",
   "execution_count": 29,
   "id": "a3b0dc2a-08e3-428c-813b-a5b2c75c146b",
   "metadata": {},
   "outputs": [
    {
     "name": "stdout",
     "output_type": "stream",
     "text": [
      "Addition is 100\n"
     ]
    }
   ],
   "source": [
    "# find the addition of odd numbers from 1 to 20\n",
    "\n",
    "add = 0\n",
    "\n",
    "for n in range(1, 21, 2):\n",
    "    add = add + n\n",
    "    \n",
    "print('Addition is', add)"
   ]
  },
  {
   "cell_type": "code",
   "execution_count": 30,
   "id": "98ce0d22-f35f-4fbd-ba52-b63ae461f821",
   "metadata": {},
   "outputs": [
    {
     "name": "stdout",
     "output_type": "stream",
     "text": [
      "S\n",
      "a\n",
      "n\n",
      "i\n",
      "k\n",
      "a\n"
     ]
    }
   ],
   "source": [
    "for n in 'Sanika':\n",
    "    print(n)"
   ]
  },
  {
   "cell_type": "code",
   "execution_count": 32,
   "id": "0f43dd91-a0fa-4bd1-91a9-93ca7f742430",
   "metadata": {},
   "outputs": [
    {
     "name": "stdout",
     "output_type": "stream",
     "text": [
      "A\n",
      "n\n",
      "a\n",
      "m\n",
      "i\n",
      "k\n",
      "a\n"
     ]
    }
   ],
   "source": [
    "for n in 'Anamika':\n",
    "    print(n)"
   ]
  },
  {
   "cell_type": "code",
   "execution_count": 33,
   "id": "446023a4-9aaa-414d-b834-33b7fbcea667",
   "metadata": {},
   "outputs": [
    {
     "name": "stdout",
     "output_type": "stream",
     "text": [
      "Anamika\n",
      "karan\n"
     ]
    }
   ],
   "source": [
    "for n in 'Anamika', 'karan':\n",
    "    print(n)"
   ]
  },
  {
   "cell_type": "code",
   "execution_count": 34,
   "id": "f595ea7b-e3c8-4d79-8428-923f80562a9c",
   "metadata": {},
   "outputs": [
    {
     "name": "stdin",
     "output_type": "stream",
     "text": [
      "Enter the number  5\n"
     ]
    },
    {
     "name": "stdout",
     "output_type": "stream",
     "text": [
      "Factorial is 120\n"
     ]
    }
   ],
   "source": [
    "# factorial using for loop\n",
    "\n",
    "num = int(input('Enter the number '))\n",
    "\n",
    "fact = 1\n",
    "\n",
    "for n in range(1, num + 1):\n",
    "    fact = fact * n\n",
    "    \n",
    "print('Factorial is', fact)"
   ]
  },
  {
   "cell_type": "code",
   "execution_count": 35,
   "id": "650684a3-79fa-4fba-8867-94477f8d4c99",
   "metadata": {},
   "outputs": [],
   "source": [
    "# break statement"
   ]
  },
  {
   "cell_type": "code",
   "execution_count": 37,
   "id": "69a1c021-c07e-449b-ac21-d8876ecf0be0",
   "metadata": {},
   "outputs": [
    {
     "name": "stdout",
     "output_type": "stream",
     "text": [
      "1\n",
      "2\n",
      "3\n",
      "4\n"
     ]
    }
   ],
   "source": [
    "for n in range(1,11):\n",
    "    if n == 5:\n",
    "        break\n",
    "    print(n)"
   ]
  },
  {
   "cell_type": "code",
   "execution_count": 38,
   "id": "46e484a9-323c-4857-ac40-cfb4ee60d10a",
   "metadata": {},
   "outputs": [
    {
     "name": "stdout",
     "output_type": "stream",
     "text": [
      "0\n",
      "1\n",
      "2\n",
      "3\n",
      "4\n",
      "5\n"
     ]
    }
   ],
   "source": [
    "count = 0\n",
    "\n",
    "while count <= 10:\n",
    "    print(count)\n",
    "    if count == 5:\n",
    "        break\n",
    "    count += 1"
   ]
  },
  {
   "cell_type": "code",
   "execution_count": 39,
   "id": "1c197539-5f6f-460e-8858-97299c5e5324",
   "metadata": {},
   "outputs": [],
   "source": [
    "# continue"
   ]
  },
  {
   "cell_type": "code",
   "execution_count": 40,
   "id": "33e0e656-975c-4df2-90bd-03b74bfe4b55",
   "metadata": {},
   "outputs": [
    {
     "name": "stdout",
     "output_type": "stream",
     "text": [
      "1\n",
      "2\n",
      "3\n",
      "4\n",
      "6\n",
      "7\n",
      "8\n",
      "9\n",
      "10\n"
     ]
    }
   ],
   "source": [
    "for n in range(1,11):\n",
    "    if n == 5:\n",
    "        continue\n",
    "    print(n)"
   ]
  },
  {
   "cell_type": "code",
   "execution_count": 41,
   "id": "51fd3405-0d8c-4257-ad72-fabfe750e327",
   "metadata": {},
   "outputs": [],
   "source": [
    "'''\n",
    "*\n",
    "**\n",
    "***\n",
    "\n",
    "''';"
   ]
  },
  {
   "cell_type": "code",
   "execution_count": 42,
   "id": "d073fc12-35b0-42ae-b690-ec840859e08f",
   "metadata": {},
   "outputs": [
    {
     "data": {
      "text/plain": [
       "[0, 1, 2]"
      ]
     },
     "execution_count": 42,
     "metadata": {},
     "output_type": "execute_result"
    }
   ],
   "source": [
    "list(range(3))"
   ]
  },
  {
   "cell_type": "code",
   "execution_count": 43,
   "id": "6d063602-3bce-43b0-8bdf-0589b0733786",
   "metadata": {},
   "outputs": [
    {
     "name": "stdin",
     "output_type": "stream",
     "text": [
      "Enter the number of rows 5\n"
     ]
    },
    {
     "name": "stdout",
     "output_type": "stream",
     "text": [
      "* \n",
      "* * \n",
      "* * * \n",
      "* * * * \n",
      "* * * * * \n"
     ]
    }
   ],
   "source": [
    "rows = int(input('Enter the number of rows'))\n",
    "\n",
    "for i in range(1, rows + 1):\n",
    "    for j in range(i):\n",
    "        print('*', end = ' ')\n",
    "    print()"
   ]
  },
  {
   "cell_type": "code",
   "execution_count": null,
   "id": "2b4f9839-c542-46ac-9d68-8756f75b977b",
   "metadata": {},
   "outputs": [],
   "source": []
  }
 ],
 "metadata": {
  "kernelspec": {
   "display_name": "Python 3 (ipykernel)",
   "language": "python",
   "name": "python3"
  },
  "language_info": {
   "codemirror_mode": {
    "name": "ipython",
    "version": 3
   },
   "file_extension": ".py",
   "mimetype": "text/x-python",
   "name": "python",
   "nbconvert_exporter": "python",
   "pygments_lexer": "ipython3",
   "version": "3.11.7"
  }
 },
 "nbformat": 4,
 "nbformat_minor": 5
}
