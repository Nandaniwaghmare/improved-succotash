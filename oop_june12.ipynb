{
 "cells": [
  {
   "cell_type": "code",
   "execution_count": 3,
   "id": "1e38570e-edfe-481b-a9f7-43eedcc811f0",
   "metadata": {},
   "outputs": [],
   "source": [
    "class Employee(): # creating the class\n",
    "    pass"
   ]
  },
  {
   "cell_type": "code",
   "execution_count": 4,
   "id": "854d5c3d-1d7a-4173-80e6-67048b15f6a1",
   "metadata": {},
   "outputs": [],
   "source": [
    "emp1 = Employee()  # creating an instance of a class\n",
    "emp2 = Employee()"
   ]
  },
  {
   "cell_type": "code",
   "execution_count": 5,
   "id": "dd8e3467-d61d-4798-8016-57a6b4166974",
   "metadata": {},
   "outputs": [
    {
     "name": "stdout",
     "output_type": "stream",
     "text": [
      "<__main__.Employee object at 0x000001CA3B19EDD0>\n",
      "<__main__.Employee object at 0x000001CA3B19EF50>\n"
     ]
    }
   ],
   "source": [
    "print(emp1)\n",
    "print(emp2)"
   ]
  },
  {
   "cell_type": "code",
   "execution_count": 6,
   "id": "2b03bacd-297c-4138-93b5-4a110a064721",
   "metadata": {},
   "outputs": [],
   "source": [
    "# instanace variables\n",
    "\n",
    "emp1.first = 'Vishal'\n",
    "emp1.last = 'Anamika'\n",
    "emp1.salary = 51000\n",
    "\n",
    "emp2.first = 'Nandani'\n",
    "emp2.last = 'priyanka'\n",
    "emp2.salary = 52000"
   ]
  },
  {
   "cell_type": "code",
   "execution_count": 7,
   "id": "053e7263-1937-4f07-bc56-4c22ef95ad1a",
   "metadata": {},
   "outputs": [
    {
     "name": "stdout",
     "output_type": "stream",
     "text": [
      "Vishal\n"
     ]
    }
   ],
   "source": [
    "print(emp1.first)"
   ]
  },
  {
   "cell_type": "code",
   "execution_count": 8,
   "id": "45c130ee-3bb3-48af-b15e-ba29b80a2fdc",
   "metadata": {},
   "outputs": [
    {
     "name": "stdout",
     "output_type": "stream",
     "text": [
      "52000\n"
     ]
    }
   ],
   "source": [
    "print(emp2.salary)"
   ]
  },
  {
   "cell_type": "code",
   "execution_count": 9,
   "id": "4e46cda8-84e8-48ca-bb04-55f5e3078abc",
   "metadata": {},
   "outputs": [
    {
     "name": "stdout",
     "output_type": "stream",
     "text": [
      "Nandani\n"
     ]
    }
   ],
   "source": [
    "print(emp2.first)"
   ]
  },
  {
   "cell_type": "code",
   "execution_count": 10,
   "id": "b343c9ec-981d-4bdc-b523-1e3a50840741",
   "metadata": {},
   "outputs": [
    {
     "name": "stdout",
     "output_type": "stream",
     "text": [
      "51000\n"
     ]
    }
   ],
   "source": [
    "print(emp1.salary)"
   ]
  },
  {
   "cell_type": "code",
   "execution_count": null,
   "id": "5e6222b7-6f3a-4450-9420-dd4af58b714e",
   "metadata": {},
   "outputs": [],
   "source": [
    "class Employee():\n",
    "    \n",
    "     def __init__ (self, first, last, salary): # init method\n",
    "        self.first = first\n",
    "        self.last = last\n",
    "        self.salary = salary\n",
    "\n",
    "     def show(self):\n",
    "             print(self.first + ' ' + 'ok')"
   ]
  },
  {
   "cell_type": "code",
   "execution_count": 83,
   "id": "3a7a9a5f-e997-4f43-ac7e-f089b1ef03d4",
   "metadata": {},
   "outputs": [],
   "source": [
    "emp1 = Employee('sunita', 'waghmare', 48000)"
   ]
  },
  {
   "cell_type": "code",
   "execution_count": 84,
   "id": "78d283f8-9d97-4aa3-8919-168f773e9313",
   "metadata": {},
   "outputs": [
    {
     "name": "stdout",
     "output_type": "stream",
     "text": [
      "sunita\n"
     ]
    }
   ],
   "source": [
    "print(emp1.first)"
   ]
  },
  {
   "cell_type": "code",
   "execution_count": 85,
   "id": "cf2d5566-d2ca-4c2a-b069-476e77515cdd",
   "metadata": {},
   "outputs": [
    {
     "name": "stdout",
     "output_type": "stream",
     "text": [
      "waghmare\n"
     ]
    }
   ],
   "source": [
    "print(emp1.last)"
   ]
  },
  {
   "cell_type": "code",
   "execution_count": 86,
   "id": "060218ad-b172-417f-96b9-e485c8563ec5",
   "metadata": {},
   "outputs": [
    {
     "name": "stdout",
     "output_type": "stream",
     "text": [
      "sunita ok\n"
     ]
    }
   ],
   "source": [
    "emp1.show()"
   ]
  },
  {
   "cell_type": "code",
   "execution_count": 87,
   "id": "3ab1313a-b4de-4cd6-b700-97355336143b",
   "metadata": {},
   "outputs": [
    {
     "name": "stdout",
     "output_type": "stream",
     "text": [
      "48000\n"
     ]
    }
   ],
   "source": [
    "print(emp1.salary)"
   ]
  },
  {
   "cell_type": "code",
   "execution_count": 112,
   "id": "5c9b0bf8-a520-4c9a-a158-1a7025554594",
   "metadata": {},
   "outputs": [],
   "source": [
    "# Encapsulation\n",
    "\n",
    "class Employee():\n",
    "    \n",
    "     def __init__ (self, first, last, salary): # init method\n",
    "        self.first = first\n",
    "        self.last = last\n",
    "        self.__salary = salary  # private variable\n",
    "\n",
    "     def show(self):\n",
    "         print(self.__salary)"
   ]
  },
  {
   "cell_type": "code",
   "execution_count": 89,
   "id": "46a8b12a-2a2d-4b52-bf71-87fb2ef3e0a1",
   "metadata": {},
   "outputs": [],
   "source": [
    "emp1 = Employee('raj', 'sharma', 20000)\n",
    "emp2 = Employee('ajay', 'patil', 49000)"
   ]
  },
  {
   "cell_type": "code",
   "execution_count": 95,
   "id": "41af2797-360f-4887-b0e3-5c7af1a89127",
   "metadata": {},
   "outputs": [
    {
     "data": {
      "text/plain": [
       "'raj'"
      ]
     },
     "execution_count": 95,
     "metadata": {},
     "output_type": "execute_result"
    }
   ],
   "source": [
    "emp1.first"
   ]
  },
  {
   "cell_type": "code",
   "execution_count": 94,
   "id": "721bb315-a8f1-4d96-9e15-14e10b9ae6e6",
   "metadata": {},
   "outputs": [
    {
     "data": {
      "text/plain": [
       "'sharma'"
      ]
     },
     "execution_count": 94,
     "metadata": {},
     "output_type": "execute_result"
    }
   ],
   "source": [
    "emp1.last"
   ]
  },
  {
   "cell_type": "code",
   "execution_count": 96,
   "id": "223d0220-e668-4577-a698-328c5a608c07",
   "metadata": {},
   "outputs": [
    {
     "ename": "AttributeError",
     "evalue": "'Employee' object has no attribute 'salary'",
     "output_type": "error",
     "traceback": [
      "\u001b[1;31m---------------------------------------------------------------------------\u001b[0m",
      "\u001b[1;31mAttributeError\u001b[0m                            Traceback (most recent call last)",
      "Cell \u001b[1;32mIn[96], line 1\u001b[0m\n\u001b[1;32m----> 1\u001b[0m emp1\u001b[38;5;241m.\u001b[39msalary\n",
      "\u001b[1;31mAttributeError\u001b[0m: 'Employee' object has no attribute 'salary'"
     ]
    }
   ],
   "source": [
    "emp1.salary"
   ]
  },
  {
   "cell_type": "code",
   "execution_count": 97,
   "id": "88f60a38-205f-4809-92ca-ee9139951028",
   "metadata": {},
   "outputs": [
    {
     "name": "stdout",
     "output_type": "stream",
     "text": [
      "20000\n"
     ]
    }
   ],
   "source": [
    "emp1.show()"
   ]
  },
  {
   "cell_type": "code",
   "execution_count": 113,
   "id": "06ecc55e-d760-4bd1-9939-e89a7aa1d3f4",
   "metadata": {},
   "outputs": [],
   "source": [
    "# Inheritance\n",
    "\n",
    "class Emp2(Employee):\n",
    "    pass"
   ]
  },
  {
   "cell_type": "code",
   "execution_count": 114,
   "id": "f35a5fea-b3b8-471b-a750-a047f4ac4b64",
   "metadata": {},
   "outputs": [],
   "source": [
    "emp3 = Emp2('Anamika', 'waghmare', 55000)"
   ]
  },
  {
   "cell_type": "code",
   "execution_count": 115,
   "id": "a499e36a-a0a4-4e38-9dd5-3137c2807120",
   "metadata": {},
   "outputs": [
    {
     "name": "stdout",
     "output_type": "stream",
     "text": [
      "55000\n"
     ]
    }
   ],
   "source": [
    "emp3.show()"
   ]
  },
  {
   "cell_type": "code",
   "execution_count": 140,
   "id": "a6292636-6994-4007-befa-258fd1e84aef",
   "metadata": {},
   "outputs": [],
   "source": [
    "'''create a class called person\n",
    "attributes=> name, age, city,...(make use of default parameters also)\n",
    "create a method which will show all the info of person\n",
    "\n",
    "'''\n",
    "\n",
    "class Person():\n",
    "    \n",
    "     def __init__ (self, n, a = 50): \n",
    "        self.name = n\n",
    "        self.age = a\n",
    "\n",
    "    \n",
    "     def info(self):\n",
    "         print('name', self.name)\n",
    "         print('age', self.age)"
   ]
  },
  {
   "cell_type": "code",
   "execution_count": 141,
   "id": "2bba9dcf-5456-45a9-9276-4e986707256f",
   "metadata": {},
   "outputs": [],
   "source": [
    "Person = Person('karuna', 28)"
   ]
  },
  {
   "cell_type": "code",
   "execution_count": 144,
   "id": "25564d52-9d57-4f8d-897e-b2fe370613d7",
   "metadata": {},
   "outputs": [
    {
     "name": "stdout",
     "output_type": "stream",
     "text": [
      "karuna\n"
     ]
    }
   ],
   "source": [
    "print(Person.name)"
   ]
  },
  {
   "cell_type": "code",
   "execution_count": 145,
   "id": "940feba3-57e7-46e5-ac61-5fbc2fe14686",
   "metadata": {},
   "outputs": [
    {
     "name": "stdout",
     "output_type": "stream",
     "text": [
      "28\n"
     ]
    }
   ],
   "source": [
    "print(Person.age)"
   ]
  },
  {
   "cell_type": "code",
   "execution_count": null,
   "id": "cf371fbb-72a0-4213-bd38-d7ffa2dd7673",
   "metadata": {},
   "outputs": [],
   "source": []
  }
 ],
 "metadata": {
  "kernelspec": {
   "display_name": "Python 3 (ipykernel)",
   "language": "python",
   "name": "python3"
  },
  "language_info": {
   "codemirror_mode": {
    "name": "ipython",
    "version": 3
   },
   "file_extension": ".py",
   "mimetype": "text/x-python",
   "name": "python",
   "nbconvert_exporter": "python",
   "pygments_lexer": "ipython3",
   "version": "3.11.7"
  }
 },
 "nbformat": 4,
 "nbformat_minor": 5
}
